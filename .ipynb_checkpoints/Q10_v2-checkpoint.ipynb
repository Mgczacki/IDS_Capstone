{
 "cells": [
  {
   "cell_type": "code",
   "execution_count": 1,
   "id": "948f1a2b-3be2-4faf-89b4-54c5f7186b96",
   "metadata": {},
   "outputs": [],
   "source": [
    "seed = 13427256"
   ]
  },
  {
   "cell_type": "markdown",
   "id": "b1b0db93-4097-43bb-8afe-48f3154e7bc9",
   "metadata": {},
   "source": [
    "# Q10"
   ]
  },
  {
   "cell_type": "markdown",
   "id": "9633a0f8-e6d6-433f-82c0-ee083e4614de",
   "metadata": {},
   "source": [
    "You want to create a “personal mixtape” for all 10k users we have explicit feedback for. This mixtape contains individualized recommendations as to which 10 songs (out of the 5k) a given user will enjoy most. How do these recommendations compare to the “greatest hits” from the previous question and how good is your recommender system in making recommendations?"
   ]
  },
  {
   "cell_type": "code",
   "execution_count": 2,
   "id": "70d041bc-c19e-4d8a-b8e2-067db0637016",
   "metadata": {},
   "outputs": [],
   "source": [
    "import joblib\n",
    "import numpy as np\n",
    "import pandas as pd\n",
    "import seaborn as sns\n",
    "import matplotlib.pyplot as plt\n",
    "\n",
    "np.random.seed(seed)"
   ]
  },
  {
   "cell_type": "code",
   "execution_count": 3,
   "id": "b4ae0f16-9b2e-4413-9494-a8bc6e1c9ccb",
   "metadata": {},
   "outputs": [],
   "source": [
    "df_songs = pd.read_csv(\"spotify52kData.csv\").iloc[:5000].sort_values(by='popularity', ascending=False)"
   ]
  },
  {
   "cell_type": "code",
   "execution_count": 4,
   "id": "a0aec91d-be06-4ffa-b1bd-52a46896a9a5",
   "metadata": {},
   "outputs": [],
   "source": [
    "indices_of_duplicates = df_songs[df_songs.duplicated(keep='first', subset=['artists', 'album_name', 'track_name', 'popularity'])].index.tolist()"
   ]
  },
  {
   "cell_type": "code",
   "execution_count": 5,
   "id": "d83652b3-a77d-4eb5-aedb-67f7b6e9ba3e",
   "metadata": {},
   "outputs": [],
   "source": [
    "df_songs = df_songs.drop(indices_of_duplicates).sort_values(by='songNumber')"
   ]
  },
  {
   "cell_type": "code",
   "execution_count": 6,
   "id": "48dfd453-49fc-4f58-9baa-0079674fd269",
   "metadata": {},
   "outputs": [],
   "source": [
    "df_stars = pd.read_parquet(\"starRatings.parquet\").drop(columns=indices_of_duplicates)"
   ]
  },
  {
   "cell_type": "code",
   "execution_count": 7,
   "id": "aff8aaa8-16f7-4e5a-a372-672597c15ac9",
   "metadata": {},
   "outputs": [
    {
     "data": {
      "text/plain": [
       "Index(['songNumber', 'artists', 'album_name', 'track_name', 'popularity',\n",
       "       'duration', 'explicit', 'danceability', 'energy', 'key', 'loudness',\n",
       "       'mode', 'speechiness', 'acousticness', 'instrumentalness', 'liveness',\n",
       "       'valence', 'tempo', 'time_signature', 'track_genre'],\n",
       "      dtype='object')"
      ]
     },
     "execution_count": 7,
     "metadata": {},
     "output_type": "execute_result"
    }
   ],
   "source": [
    "df_songs.columns"
   ]
  },
  {
   "cell_type": "code",
   "execution_count": 8,
   "id": "1c1a0bb3-9700-457f-b9cb-42c146a392c5",
   "metadata": {},
   "outputs": [
    {
     "data": {
      "text/plain": [
       "acoustic       1000\n",
       "afrobeat        999\n",
       "ambient         999\n",
       "alt-rock        763\n",
       "alternative     637\n",
       "Name: track_genre, dtype: int64"
      ]
     },
     "execution_count": 8,
     "metadata": {},
     "output_type": "execute_result"
    }
   ],
   "source": [
    "df_songs['track_genre'].value_counts() # Seems to be distributed decently well. Will use the variable."
   ]
  },
  {
   "cell_type": "code",
   "execution_count": 9,
   "id": "9597067e-cab2-48dc-beae-45e9ed0b517a",
   "metadata": {},
   "outputs": [
    {
     "data": {
      "text/plain": [
       "1    2787\n",
       "0    1611\n",
       "Name: mode, dtype: int64"
      ]
     },
     "execution_count": 9,
     "metadata": {},
     "output_type": "execute_result"
    }
   ],
   "source": [
    "df_songs['mode'].value_counts() # Seems to be distributed decently well. Will use the variable."
   ]
  },
  {
   "cell_type": "code",
   "execution_count": 10,
   "id": "a5975007-0b55-4e8f-86e1-41dfd1b48906",
   "metadata": {},
   "outputs": [
    {
     "data": {
      "text/plain": [
       "4    3758\n",
       "3     496\n",
       "5      85\n",
       "1      55\n",
       "0       4\n",
       "Name: time_signature, dtype: int64"
      ]
     },
     "execution_count": 10,
     "metadata": {},
     "output_type": "execute_result"
    }
   ],
   "source": [
    "df_songs['time_signature'].value_counts() # Most are in the 4 time signature, will not use the variable."
   ]
  },
  {
   "cell_type": "code",
   "execution_count": 11,
   "id": "6accd67d-4df2-49fc-954e-5f9757f749ba",
   "metadata": {},
   "outputs": [
    {
     "data": {
      "text/plain": [
       "False    4140\n",
       "True      258\n",
       "Name: explicit, dtype: int64"
      ]
     },
     "execution_count": 11,
     "metadata": {},
     "output_type": "execute_result"
    }
   ],
   "source": [
    "df_songs['explicit'].value_counts() # Will include the variable out of the theory that explicit listeners exist."
   ]
  },
  {
   "cell_type": "markdown",
   "id": "1c2465da-a5c1-4e81-a373-4005e373bf30",
   "metadata": {},
   "source": [
    "## Approach\n",
    "Create a model that predicts y := rating given to song for each predicted user.\n",
    "For a user, run all 5000 models, get predicted ratings, and order for the top 10 songs.\n",
    "\n",
    "## Data\n",
    "\n",
    "We will do a 90/10 split. The 10 is a holdout set of users to evaluate our model on.\n",
    "\n",
    "For the other 90, do a 80/20 split for CV/hyperparameter search.\n",
    "\n",
    "## Feature Engineering\n",
    "\n",
    "Since we are training a model per song, we only need per-user features. All of the features will be calculated for the user, without taking into account anything regarding the song being evaluated. Therefore, there will be 5000 feature engineering processes.\n",
    "\n",
    "Features:\n",
    "- User average rating (average rating the user gives across all songs).\n",
    "- Weighted average var rating (average of var, weighted by the songs' given rating). Across the variables:\n",
    "    - Popularity\n",
    "    - Duration\n",
    "    - Danceability\n",
    "    - Energy\n",
    "    - Loudness\n",
    "    - Speechiness\n",
    "    - Acousticness\n",
    "    - Instrumentalness\n",
    "    - Liveness\n",
    "    - Valence\n",
    "    - Tempo\n",
    "- For each genre in track_genre:\n",
    "    - genre_listen_perc (of the ratings, how many are of this genre).\n",
    "- For each mode in mode:\n",
    "    - mode_listen_perc (of the ratings, how many are of thise mode).\n",
    "- Explicit hearing % (of the ratings, how many of the songs are explicit)."
   ]
  },
  {
   "cell_type": "code",
   "execution_count": 12,
   "id": "d497223c-b7ef-4158-9444-1d5aaa20539b",
   "metadata": {},
   "outputs": [],
   "source": [
    "def generate_user_features(user_number):\n",
    "    \"\"\"\n",
    "    Generates a user's features. Assumes that the effect of the song to predict for is negligible next to the other songs.\n",
    "    \"\"\"\n",
    "    \n",
    "    features = {}\n",
    "    features['average_rating'] = df_stars.loc[user_number].mean()\n",
    "    \n",
    "    user_weights = df_stars.loc[user_number].fillna(0)\n",
    "\n",
    "    # Generate weighted numeric variables\n",
    "    for col in ['popularity', 'duration', 'danceability', 'energy',\n",
    "              'loudness', 'speechiness', 'acousticness', 'instrumentalness',\n",
    "              'liveness', 'valence', 'tempo']:\n",
    "        features[f\"{col}_weighted\"] = np.average(df_songs[col], weights=user_weights)\n",
    "\n",
    "    usr_song_idx = list(df_stars.columns[~df_stars.loc[user_number].isna()])\n",
    "    df_usr_songs = df_songs.loc[usr_song_idx]\n",
    "    \n",
    "    features['explicit_percentage'] = df_usr_songs['explicit'].sum()/len(df_usr_songs)\n",
    "\n",
    "    # Generate categorical variable percentage values\n",
    "    for col in ['track_genre', 'mode']:\n",
    "        for value in df_songs[col].unique():\n",
    "            features[f'{col}_{value}'] = (df_usr_songs[col] == value).sum()/len(df_usr_songs)\n",
    "            \n",
    "    return features"
   ]
  },
  {
   "cell_type": "code",
   "execution_count": 13,
   "id": "ded12155-6654-4e4a-b97e-9d9017bd1c13",
   "metadata": {},
   "outputs": [],
   "source": [
    "user_features = [generate_user_features(i) for i in range(len(df_stars))]\n",
    "df_features = pd.DataFrame(user_features)"
   ]
  },
  {
   "cell_type": "code",
   "execution_count": 14,
   "id": "4f034595-1201-4bfb-b95e-8ce24ffd5d27",
   "metadata": {},
   "outputs": [
    {
     "data": {
      "text/html": [
       "<div>\n",
       "<style scoped>\n",
       "    .dataframe tbody tr th:only-of-type {\n",
       "        vertical-align: middle;\n",
       "    }\n",
       "\n",
       "    .dataframe tbody tr th {\n",
       "        vertical-align: top;\n",
       "    }\n",
       "\n",
       "    .dataframe thead th {\n",
       "        text-align: right;\n",
       "    }\n",
       "</style>\n",
       "<table border=\"1\" class=\"dataframe\">\n",
       "  <thead>\n",
       "    <tr style=\"text-align: right;\">\n",
       "      <th></th>\n",
       "      <th>average_rating</th>\n",
       "      <th>popularity_weighted</th>\n",
       "      <th>duration_weighted</th>\n",
       "      <th>danceability_weighted</th>\n",
       "      <th>energy_weighted</th>\n",
       "      <th>loudness_weighted</th>\n",
       "      <th>speechiness_weighted</th>\n",
       "      <th>acousticness_weighted</th>\n",
       "      <th>instrumentalness_weighted</th>\n",
       "      <th>liveness_weighted</th>\n",
       "      <th>valence_weighted</th>\n",
       "      <th>tempo_weighted</th>\n",
       "      <th>explicit_percentage</th>\n",
       "      <th>track_genre_acoustic</th>\n",
       "      <th>track_genre_afrobeat</th>\n",
       "      <th>track_genre_alt-rock</th>\n",
       "      <th>track_genre_alternative</th>\n",
       "      <th>track_genre_ambient</th>\n",
       "      <th>mode_0</th>\n",
       "      <th>mode_1</th>\n",
       "    </tr>\n",
       "  </thead>\n",
       "  <tbody>\n",
       "    <tr>\n",
       "      <th>0</th>\n",
       "      <td>1.543340</td>\n",
       "      <td>40.698630</td>\n",
       "      <td>231069.716438</td>\n",
       "      <td>0.562410</td>\n",
       "      <td>0.651177</td>\n",
       "      <td>-7.087533</td>\n",
       "      <td>0.058111</td>\n",
       "      <td>0.299797</td>\n",
       "      <td>0.135337</td>\n",
       "      <td>0.187617</td>\n",
       "      <td>0.488604</td>\n",
       "      <td>119.734399</td>\n",
       "      <td>0.057082</td>\n",
       "      <td>0.241015</td>\n",
       "      <td>0.224101</td>\n",
       "      <td>0.177590</td>\n",
       "      <td>0.152220</td>\n",
       "      <td>0.205074</td>\n",
       "      <td>0.395349</td>\n",
       "      <td>0.604651</td>\n",
       "    </tr>\n",
       "    <tr>\n",
       "      <th>1</th>\n",
       "      <td>2.371703</td>\n",
       "      <td>39.143579</td>\n",
       "      <td>237093.957533</td>\n",
       "      <td>0.535555</td>\n",
       "      <td>0.584662</td>\n",
       "      <td>-8.855089</td>\n",
       "      <td>0.060762</td>\n",
       "      <td>0.362109</td>\n",
       "      <td>0.152014</td>\n",
       "      <td>0.181933</td>\n",
       "      <td>0.456189</td>\n",
       "      <td>120.695888</td>\n",
       "      <td>0.057554</td>\n",
       "      <td>0.196643</td>\n",
       "      <td>0.232614</td>\n",
       "      <td>0.182254</td>\n",
       "      <td>0.143885</td>\n",
       "      <td>0.244604</td>\n",
       "      <td>0.369305</td>\n",
       "      <td>0.630695</td>\n",
       "    </tr>\n",
       "    <tr>\n",
       "      <th>2</th>\n",
       "      <td>2.676399</td>\n",
       "      <td>39.098182</td>\n",
       "      <td>230664.930000</td>\n",
       "      <td>0.541894</td>\n",
       "      <td>0.570573</td>\n",
       "      <td>-9.433720</td>\n",
       "      <td>0.064987</td>\n",
       "      <td>0.395050</td>\n",
       "      <td>0.194156</td>\n",
       "      <td>0.183515</td>\n",
       "      <td>0.481872</td>\n",
       "      <td>118.809024</td>\n",
       "      <td>0.063260</td>\n",
       "      <td>0.270073</td>\n",
       "      <td>0.272506</td>\n",
       "      <td>0.163017</td>\n",
       "      <td>0.121655</td>\n",
       "      <td>0.172749</td>\n",
       "      <td>0.328467</td>\n",
       "      <td>0.671533</td>\n",
       "    </tr>\n",
       "    <tr>\n",
       "      <th>3</th>\n",
       "      <td>2.073913</td>\n",
       "      <td>39.197065</td>\n",
       "      <td>228971.525157</td>\n",
       "      <td>0.540004</td>\n",
       "      <td>0.582653</td>\n",
       "      <td>-8.516239</td>\n",
       "      <td>0.062756</td>\n",
       "      <td>0.377842</td>\n",
       "      <td>0.173686</td>\n",
       "      <td>0.173280</td>\n",
       "      <td>0.452065</td>\n",
       "      <td>119.830908</td>\n",
       "      <td>0.050000</td>\n",
       "      <td>0.195652</td>\n",
       "      <td>0.239130</td>\n",
       "      <td>0.180435</td>\n",
       "      <td>0.147826</td>\n",
       "      <td>0.236957</td>\n",
       "      <td>0.345652</td>\n",
       "      <td>0.654348</td>\n",
       "    </tr>\n",
       "    <tr>\n",
       "      <th>4</th>\n",
       "      <td>2.786070</td>\n",
       "      <td>39.333036</td>\n",
       "      <td>224320.919643</td>\n",
       "      <td>0.523871</td>\n",
       "      <td>0.538657</td>\n",
       "      <td>-10.108101</td>\n",
       "      <td>0.056915</td>\n",
       "      <td>0.436177</td>\n",
       "      <td>0.238713</td>\n",
       "      <td>0.180454</td>\n",
       "      <td>0.444525</td>\n",
       "      <td>119.836990</td>\n",
       "      <td>0.047264</td>\n",
       "      <td>0.241294</td>\n",
       "      <td>0.221393</td>\n",
       "      <td>0.161692</td>\n",
       "      <td>0.129353</td>\n",
       "      <td>0.246269</td>\n",
       "      <td>0.355721</td>\n",
       "      <td>0.644279</td>\n",
       "    </tr>\n",
       "    <tr>\n",
       "      <th>...</th>\n",
       "      <td>...</td>\n",
       "      <td>...</td>\n",
       "      <td>...</td>\n",
       "      <td>...</td>\n",
       "      <td>...</td>\n",
       "      <td>...</td>\n",
       "      <td>...</td>\n",
       "      <td>...</td>\n",
       "      <td>...</td>\n",
       "      <td>...</td>\n",
       "      <td>...</td>\n",
       "      <td>...</td>\n",
       "      <td>...</td>\n",
       "      <td>...</td>\n",
       "      <td>...</td>\n",
       "      <td>...</td>\n",
       "      <td>...</td>\n",
       "      <td>...</td>\n",
       "      <td>...</td>\n",
       "      <td>...</td>\n",
       "    </tr>\n",
       "    <tr>\n",
       "      <th>9995</th>\n",
       "      <td>0.851415</td>\n",
       "      <td>44.387812</td>\n",
       "      <td>240645.842105</td>\n",
       "      <td>0.568042</td>\n",
       "      <td>0.737590</td>\n",
       "      <td>-5.979740</td>\n",
       "      <td>0.061754</td>\n",
       "      <td>0.211304</td>\n",
       "      <td>0.083541</td>\n",
       "      <td>0.187216</td>\n",
       "      <td>0.536768</td>\n",
       "      <td>120.497834</td>\n",
       "      <td>0.058962</td>\n",
       "      <td>0.228774</td>\n",
       "      <td>0.242925</td>\n",
       "      <td>0.169811</td>\n",
       "      <td>0.134434</td>\n",
       "      <td>0.224057</td>\n",
       "      <td>0.372642</td>\n",
       "      <td>0.627358</td>\n",
       "    </tr>\n",
       "    <tr>\n",
       "      <th>9996</th>\n",
       "      <td>1.909314</td>\n",
       "      <td>39.101412</td>\n",
       "      <td>232200.403081</td>\n",
       "      <td>0.563964</td>\n",
       "      <td>0.609919</td>\n",
       "      <td>-7.919357</td>\n",
       "      <td>0.064315</td>\n",
       "      <td>0.356301</td>\n",
       "      <td>0.140584</td>\n",
       "      <td>0.177809</td>\n",
       "      <td>0.460350</td>\n",
       "      <td>121.798874</td>\n",
       "      <td>0.046569</td>\n",
       "      <td>0.250000</td>\n",
       "      <td>0.227941</td>\n",
       "      <td>0.188725</td>\n",
       "      <td>0.127451</td>\n",
       "      <td>0.205882</td>\n",
       "      <td>0.394608</td>\n",
       "      <td>0.605392</td>\n",
       "    </tr>\n",
       "    <tr>\n",
       "      <th>9997</th>\n",
       "      <td>2.759009</td>\n",
       "      <td>37.777143</td>\n",
       "      <td>233432.452245</td>\n",
       "      <td>0.535404</td>\n",
       "      <td>0.579235</td>\n",
       "      <td>-8.848654</td>\n",
       "      <td>0.054640</td>\n",
       "      <td>0.380913</td>\n",
       "      <td>0.176346</td>\n",
       "      <td>0.183903</td>\n",
       "      <td>0.461624</td>\n",
       "      <td>120.585586</td>\n",
       "      <td>0.049550</td>\n",
       "      <td>0.247748</td>\n",
       "      <td>0.180180</td>\n",
       "      <td>0.209459</td>\n",
       "      <td>0.139640</td>\n",
       "      <td>0.222973</td>\n",
       "      <td>0.378378</td>\n",
       "      <td>0.621622</td>\n",
       "    </tr>\n",
       "    <tr>\n",
       "      <th>9998</th>\n",
       "      <td>1.751678</td>\n",
       "      <td>40.072797</td>\n",
       "      <td>235228.315453</td>\n",
       "      <td>0.561215</td>\n",
       "      <td>0.645046</td>\n",
       "      <td>-7.459789</td>\n",
       "      <td>0.061860</td>\n",
       "      <td>0.295369</td>\n",
       "      <td>0.122682</td>\n",
       "      <td>0.194801</td>\n",
       "      <td>0.492854</td>\n",
       "      <td>118.876019</td>\n",
       "      <td>0.078300</td>\n",
       "      <td>0.248322</td>\n",
       "      <td>0.221477</td>\n",
       "      <td>0.158837</td>\n",
       "      <td>0.181208</td>\n",
       "      <td>0.190157</td>\n",
       "      <td>0.380313</td>\n",
       "      <td>0.619687</td>\n",
       "    </tr>\n",
       "    <tr>\n",
       "      <th>9999</th>\n",
       "      <td>2.351282</td>\n",
       "      <td>38.592148</td>\n",
       "      <td>233793.997819</td>\n",
       "      <td>0.544951</td>\n",
       "      <td>0.569246</td>\n",
       "      <td>-9.316963</td>\n",
       "      <td>0.059469</td>\n",
       "      <td>0.384817</td>\n",
       "      <td>0.199618</td>\n",
       "      <td>0.183308</td>\n",
       "      <td>0.475259</td>\n",
       "      <td>116.947689</td>\n",
       "      <td>0.046154</td>\n",
       "      <td>0.200000</td>\n",
       "      <td>0.246154</td>\n",
       "      <td>0.187179</td>\n",
       "      <td>0.143590</td>\n",
       "      <td>0.223077</td>\n",
       "      <td>0.369231</td>\n",
       "      <td>0.630769</td>\n",
       "    </tr>\n",
       "  </tbody>\n",
       "</table>\n",
       "<p>10000 rows × 20 columns</p>\n",
       "</div>"
      ],
      "text/plain": [
       "      average_rating  popularity_weighted  duration_weighted  \\\n",
       "0           1.543340            40.698630      231069.716438   \n",
       "1           2.371703            39.143579      237093.957533   \n",
       "2           2.676399            39.098182      230664.930000   \n",
       "3           2.073913            39.197065      228971.525157   \n",
       "4           2.786070            39.333036      224320.919643   \n",
       "...              ...                  ...                ...   \n",
       "9995        0.851415            44.387812      240645.842105   \n",
       "9996        1.909314            39.101412      232200.403081   \n",
       "9997        2.759009            37.777143      233432.452245   \n",
       "9998        1.751678            40.072797      235228.315453   \n",
       "9999        2.351282            38.592148      233793.997819   \n",
       "\n",
       "      danceability_weighted  energy_weighted  loudness_weighted  \\\n",
       "0                  0.562410         0.651177          -7.087533   \n",
       "1                  0.535555         0.584662          -8.855089   \n",
       "2                  0.541894         0.570573          -9.433720   \n",
       "3                  0.540004         0.582653          -8.516239   \n",
       "4                  0.523871         0.538657         -10.108101   \n",
       "...                     ...              ...                ...   \n",
       "9995               0.568042         0.737590          -5.979740   \n",
       "9996               0.563964         0.609919          -7.919357   \n",
       "9997               0.535404         0.579235          -8.848654   \n",
       "9998               0.561215         0.645046          -7.459789   \n",
       "9999               0.544951         0.569246          -9.316963   \n",
       "\n",
       "      speechiness_weighted  acousticness_weighted  instrumentalness_weighted  \\\n",
       "0                 0.058111               0.299797                   0.135337   \n",
       "1                 0.060762               0.362109                   0.152014   \n",
       "2                 0.064987               0.395050                   0.194156   \n",
       "3                 0.062756               0.377842                   0.173686   \n",
       "4                 0.056915               0.436177                   0.238713   \n",
       "...                    ...                    ...                        ...   \n",
       "9995              0.061754               0.211304                   0.083541   \n",
       "9996              0.064315               0.356301                   0.140584   \n",
       "9997              0.054640               0.380913                   0.176346   \n",
       "9998              0.061860               0.295369                   0.122682   \n",
       "9999              0.059469               0.384817                   0.199618   \n",
       "\n",
       "      liveness_weighted  valence_weighted  tempo_weighted  \\\n",
       "0              0.187617          0.488604      119.734399   \n",
       "1              0.181933          0.456189      120.695888   \n",
       "2              0.183515          0.481872      118.809024   \n",
       "3              0.173280          0.452065      119.830908   \n",
       "4              0.180454          0.444525      119.836990   \n",
       "...                 ...               ...             ...   \n",
       "9995           0.187216          0.536768      120.497834   \n",
       "9996           0.177809          0.460350      121.798874   \n",
       "9997           0.183903          0.461624      120.585586   \n",
       "9998           0.194801          0.492854      118.876019   \n",
       "9999           0.183308          0.475259      116.947689   \n",
       "\n",
       "      explicit_percentage  track_genre_acoustic  track_genre_afrobeat  \\\n",
       "0                0.057082              0.241015              0.224101   \n",
       "1                0.057554              0.196643              0.232614   \n",
       "2                0.063260              0.270073              0.272506   \n",
       "3                0.050000              0.195652              0.239130   \n",
       "4                0.047264              0.241294              0.221393   \n",
       "...                   ...                   ...                   ...   \n",
       "9995             0.058962              0.228774              0.242925   \n",
       "9996             0.046569              0.250000              0.227941   \n",
       "9997             0.049550              0.247748              0.180180   \n",
       "9998             0.078300              0.248322              0.221477   \n",
       "9999             0.046154              0.200000              0.246154   \n",
       "\n",
       "      track_genre_alt-rock  track_genre_alternative  track_genre_ambient  \\\n",
       "0                 0.177590                 0.152220             0.205074   \n",
       "1                 0.182254                 0.143885             0.244604   \n",
       "2                 0.163017                 0.121655             0.172749   \n",
       "3                 0.180435                 0.147826             0.236957   \n",
       "4                 0.161692                 0.129353             0.246269   \n",
       "...                    ...                      ...                  ...   \n",
       "9995              0.169811                 0.134434             0.224057   \n",
       "9996              0.188725                 0.127451             0.205882   \n",
       "9997              0.209459                 0.139640             0.222973   \n",
       "9998              0.158837                 0.181208             0.190157   \n",
       "9999              0.187179                 0.143590             0.223077   \n",
       "\n",
       "        mode_0    mode_1  \n",
       "0     0.395349  0.604651  \n",
       "1     0.369305  0.630695  \n",
       "2     0.328467  0.671533  \n",
       "3     0.345652  0.654348  \n",
       "4     0.355721  0.644279  \n",
       "...        ...       ...  \n",
       "9995  0.372642  0.627358  \n",
       "9996  0.394608  0.605392  \n",
       "9997  0.378378  0.621622  \n",
       "9998  0.380313  0.619687  \n",
       "9999  0.369231  0.630769  \n",
       "\n",
       "[10000 rows x 20 columns]"
      ]
     },
     "execution_count": 14,
     "metadata": {},
     "output_type": "execute_result"
    }
   ],
   "source": [
    "df_features"
   ]
  },
  {
   "cell_type": "markdown",
   "id": "05b2000a-6e6b-4a12-b302-d35a71147b87",
   "metadata": {},
   "source": [
    "Finally, to predict the rating, we don't care about predicting very low ratings. We decided to reduce to three classes:\n",
    "- 0-3: not interested\n",
    "- 4: mildly interested\n",
    "- 5: interested"
   ]
  },
  {
   "cell_type": "code",
   "execution_count": 15,
   "id": "c52fe208-ed3e-4e0c-81ae-375c8f63ec53",
   "metadata": {},
   "outputs": [],
   "source": [
    "def bin_low_ratings(x):\n",
    "    if x <= 3:\n",
    "        return 3\n",
    "    return x\n",
    "\n",
    "df_stars_original = df_stars.copy()\n",
    "df_stars = df_stars.applymap(bin_low_ratings)"
   ]
  },
  {
   "cell_type": "code",
   "execution_count": 16,
   "id": "78d78e76-ca26-4fd8-83ec-00e2b1acb09a",
   "metadata": {},
   "outputs": [],
   "source": [
    "def generate_datasets(test_prop = 0.1, eval_prop = 0.2):\n",
    "    #First reserve 10% of all users, in order to evaluate the model.\n",
    "    all_user_ids = list(range(len(df_features)))\n",
    "    \n",
    "    #90/10 split\n",
    "    len_test_users = int(np.ceil(len(df_features) * test_prop))\n",
    "    test_users = np.random.choice(all_user_ids, size = len_test_users, replace = False)\n",
    "    non_test_users = [u for u in all_user_ids if u not in test_users]\n",
    "\n",
    "    #Generate the per-song datasets\n",
    "    song_train_idx = dict()\n",
    "    song_val_idx = dict()\n",
    "    \n",
    "    for s in df_songs.songNumber:\n",
    "        #80/20 split over the users that rated the song, for users not in the test dataset.\n",
    "        song_users  = (df_stars[~df_stars[s].isna()]).index\n",
    "        non_test_song_users = list(set(song_users).intersection(set(non_test_users)))\n",
    "    \n",
    "        len_song_val_users = int(np.ceil(len(non_test_song_users) * eval_prop))\n",
    "        song_val_users = np.random.choice(non_test_song_users, size = len_song_val_users, replace = False)\n",
    "    \n",
    "        song_train_users = [u for u in non_test_song_users if u not in song_val_users]\n",
    "    \n",
    "        song_train_idx[s] = song_train_users\n",
    "        song_val_idx[s] = song_val_users\n",
    "\n",
    "    return test_users, song_train_idx, song_val_idx"
   ]
  },
  {
   "cell_type": "code",
   "execution_count": 17,
   "id": "7fd12c25-057b-407c-9b91-4f5ded30f1be",
   "metadata": {},
   "outputs": [
    {
     "ename": "KeyError",
     "evalue": "0",
     "output_type": "error",
     "traceback": [
      "\u001b[0;31m---------------------------------------------------------------------------\u001b[0m",
      "\u001b[0;31mKeyError\u001b[0m                                  Traceback (most recent call last)",
      "\u001b[0;32m<ipython-input-17-cae8ef7040d9>\u001b[0m in \u001b[0;36m<module>\u001b[0;34m\u001b[0m\n\u001b[1;32m      1\u001b[0m \u001b[0;32mtry\u001b[0m\u001b[0;34m:\u001b[0m\u001b[0;34m\u001b[0m\u001b[0;34m\u001b[0m\u001b[0m\n\u001b[1;32m      2\u001b[0m     \u001b[0;31m# Try to load the existing datasets\u001b[0m\u001b[0;34m\u001b[0m\u001b[0;34m\u001b[0m\u001b[0;34m\u001b[0m\u001b[0m\n\u001b[0;32m----> 3\u001b[0;31m     \u001b[0mtest_users\u001b[0m \u001b[0;34m=\u001b[0m \u001b[0mjoblib\u001b[0m\u001b[0;34m.\u001b[0m\u001b[0mload\u001b[0m\u001b[0;34m(\u001b[0m\u001b[0;34m\"test_users.pkl\"\u001b[0m\u001b[0;34m)\u001b[0m\u001b[0;34m\u001b[0m\u001b[0;34m\u001b[0m\u001b[0m\n\u001b[0m\u001b[1;32m      4\u001b[0m     \u001b[0msong_train_idx\u001b[0m \u001b[0;34m=\u001b[0m \u001b[0mjoblib\u001b[0m\u001b[0;34m.\u001b[0m\u001b[0mload\u001b[0m\u001b[0;34m(\u001b[0m\u001b[0;34m\"song_train_idx.pkl\"\u001b[0m\u001b[0;34m)\u001b[0m\u001b[0;34m\u001b[0m\u001b[0;34m\u001b[0m\u001b[0m\n\u001b[1;32m      5\u001b[0m     \u001b[0msong_val_idx\u001b[0m \u001b[0;34m=\u001b[0m \u001b[0mjoblib\u001b[0m\u001b[0;34m.\u001b[0m\u001b[0mload\u001b[0m\u001b[0;34m(\u001b[0m\u001b[0;34m\"song_val_idx.pkl\"\u001b[0m\u001b[0;34m)\u001b[0m\u001b[0;34m\u001b[0m\u001b[0;34m\u001b[0m\u001b[0m\n",
      "\u001b[0;32m/opt/.insights/lib/python3.8/site-packages/joblib/numpy_pickle.py\u001b[0m in \u001b[0;36mload\u001b[0;34m(filename, mmap_mode)\u001b[0m\n\u001b[1;32m    583\u001b[0m                     \u001b[0;32mreturn\u001b[0m \u001b[0mload_compatibility\u001b[0m\u001b[0;34m(\u001b[0m\u001b[0mfobj\u001b[0m\u001b[0;34m)\u001b[0m\u001b[0;34m\u001b[0m\u001b[0;34m\u001b[0m\u001b[0m\n\u001b[1;32m    584\u001b[0m \u001b[0;34m\u001b[0m\u001b[0m\n\u001b[0;32m--> 585\u001b[0;31m                 \u001b[0mobj\u001b[0m \u001b[0;34m=\u001b[0m \u001b[0m_unpickle\u001b[0m\u001b[0;34m(\u001b[0m\u001b[0mfobj\u001b[0m\u001b[0;34m,\u001b[0m \u001b[0mfilename\u001b[0m\u001b[0;34m,\u001b[0m \u001b[0mmmap_mode\u001b[0m\u001b[0;34m)\u001b[0m\u001b[0;34m\u001b[0m\u001b[0;34m\u001b[0m\u001b[0m\n\u001b[0m\u001b[1;32m    586\u001b[0m     \u001b[0;32mreturn\u001b[0m \u001b[0mobj\u001b[0m\u001b[0;34m\u001b[0m\u001b[0;34m\u001b[0m\u001b[0m\n",
      "\u001b[0;32m/opt/.insights/lib/python3.8/site-packages/joblib/numpy_pickle.py\u001b[0m in \u001b[0;36m_unpickle\u001b[0;34m(fobj, filename, mmap_mode)\u001b[0m\n\u001b[1;32m    502\u001b[0m     \u001b[0mobj\u001b[0m \u001b[0;34m=\u001b[0m \u001b[0;32mNone\u001b[0m\u001b[0;34m\u001b[0m\u001b[0;34m\u001b[0m\u001b[0m\n\u001b[1;32m    503\u001b[0m     \u001b[0;32mtry\u001b[0m\u001b[0;34m:\u001b[0m\u001b[0;34m\u001b[0m\u001b[0;34m\u001b[0m\u001b[0m\n\u001b[0;32m--> 504\u001b[0;31m         \u001b[0mobj\u001b[0m \u001b[0;34m=\u001b[0m \u001b[0munpickler\u001b[0m\u001b[0;34m.\u001b[0m\u001b[0mload\u001b[0m\u001b[0;34m(\u001b[0m\u001b[0;34m)\u001b[0m\u001b[0;34m\u001b[0m\u001b[0;34m\u001b[0m\u001b[0m\n\u001b[0m\u001b[1;32m    505\u001b[0m         \u001b[0;32mif\u001b[0m \u001b[0munpickler\u001b[0m\u001b[0;34m.\u001b[0m\u001b[0mcompat_mode\u001b[0m\u001b[0;34m:\u001b[0m\u001b[0;34m\u001b[0m\u001b[0;34m\u001b[0m\u001b[0m\n\u001b[1;32m    506\u001b[0m             warnings.warn(\"The file '%s' has been generated with a \"\n",
      "\u001b[0;32m/usr/local/lib/python3.8/pickle.py\u001b[0m in \u001b[0;36mload\u001b[0;34m(self)\u001b[0m\n\u001b[1;32m   1210\u001b[0m                     \u001b[0;32mraise\u001b[0m \u001b[0mEOFError\u001b[0m\u001b[0;34m\u001b[0m\u001b[0;34m\u001b[0m\u001b[0m\n\u001b[1;32m   1211\u001b[0m                 \u001b[0;32massert\u001b[0m \u001b[0misinstance\u001b[0m\u001b[0;34m(\u001b[0m\u001b[0mkey\u001b[0m\u001b[0;34m,\u001b[0m \u001b[0mbytes_types\u001b[0m\u001b[0;34m)\u001b[0m\u001b[0;34m\u001b[0m\u001b[0;34m\u001b[0m\u001b[0m\n\u001b[0;32m-> 1212\u001b[0;31m                 \u001b[0mdispatch\u001b[0m\u001b[0;34m[\u001b[0m\u001b[0mkey\u001b[0m\u001b[0;34m[\u001b[0m\u001b[0;36m0\u001b[0m\u001b[0;34m]\u001b[0m\u001b[0;34m]\u001b[0m\u001b[0;34m(\u001b[0m\u001b[0mself\u001b[0m\u001b[0;34m)\u001b[0m\u001b[0;34m\u001b[0m\u001b[0;34m\u001b[0m\u001b[0m\n\u001b[0m\u001b[1;32m   1213\u001b[0m         \u001b[0;32mexcept\u001b[0m \u001b[0m_Stop\u001b[0m \u001b[0;32mas\u001b[0m \u001b[0mstopinst\u001b[0m\u001b[0;34m:\u001b[0m\u001b[0;34m\u001b[0m\u001b[0;34m\u001b[0m\u001b[0m\n\u001b[1;32m   1214\u001b[0m             \u001b[0;32mreturn\u001b[0m \u001b[0mstopinst\u001b[0m\u001b[0;34m.\u001b[0m\u001b[0mvalue\u001b[0m\u001b[0;34m\u001b[0m\u001b[0;34m\u001b[0m\u001b[0m\n",
      "\u001b[0;31mKeyError\u001b[0m: 0"
     ]
    }
   ],
   "source": [
    "try:\n",
    "    # Try to load the existing datasets\n",
    "    test_users = joblib.load(\"test_users.pkl\")\n",
    "    song_train_idx = joblib.load(\"song_train_idx.pkl\")\n",
    "    song_val_idx = joblib.load(\"song_val_idx.pkl\")\n",
    "    print(\"Loaded existing datasets.\")\n",
    "except FileNotFoundError:\n",
    "    # If the file doesn't exist, create and save the models\n",
    "    print(\"Datasets not found. Generating...\")\n",
    "\n",
    "    test_users, song_train_idx, song_val_idx = generate_datasets()\n",
    "    # Save the datasets\n",
    "    joblib.dump(test_users, \"test_users.pkl\")\n",
    "    joblib.dump(song_train_idx, \"song_train_idx.pkl\")\n",
    "    joblib.dump(song_val_idx, \"song_val_idx.pkl\")\n",
    "    print(\"Generated/saved datasets.\")"
   ]
  },
  {
   "cell_type": "markdown",
   "id": "f9e70dce-e964-47a5-9e6a-53166d454424",
   "metadata": {},
   "source": [
    "### Training loop"
   ]
  },
  {
   "cell_type": "code",
   "execution_count": null,
   "id": "e1b1c0d0-9002-4bd3-bf79-c9ab4979385e",
   "metadata": {},
   "outputs": [],
   "source": [
    "import optuna\n",
    "import numpy as np\n",
    "from tqdm import tqdm\n",
    "from sklearn.metrics import mean_squared_error\n",
    "from sklearn.linear_model import LogisticRegression\n",
    "from sklearn.pipeline import Pipeline\n",
    "from sklearn.preprocessing import StandardScaler, OrdinalEncoder\n",
    "from sklearn.metrics import accuracy_score\n",
    "\n",
    "sampler = optuna.samplers.TPESampler(seed=seed)  # Make the sampler behave in a deterministic way.\n",
    "\n",
    "optuna.logging.set_verbosity(optuna.logging.WARNING)"
   ]
  },
  {
   "cell_type": "code",
   "execution_count": null,
   "id": "13ab1b80-e2d2-439d-9281-575d0b72a2c5",
   "metadata": {},
   "outputs": [],
   "source": [
    "def get_pipeline(**kwargs):\n",
    "    return Pipeline([\n",
    "                ('scaler', StandardScaler()),\n",
    "                ('model', LogisticRegression(multi_class='multinomial',\n",
    "                                             random_state=seed,\n",
    "                                             max_iter=10000,\n",
    "                                             solver='saga',\n",
    "                                             **kwargs))\n",
    "            ])\n",
    "\n",
    "def train_song_model(song_number):\n",
    "\n",
    "    X_train = df_features.loc[song_train_idx[song_number]].values\n",
    "    y_train = df_stars[song_number].loc[song_train_idx[song_number]].values\n",
    "\n",
    "    X_val = df_features.loc[song_val_idx[song_number]].values\n",
    "    y_val = df_stars[song_number].loc[song_val_idx[song_number]].values\n",
    "    \n",
    "    def objective(trial):\n",
    "        penalty = trial.suggest_categorical('penalty', ['l1', 'l2'])\n",
    "        \n",
    "        C = trial.suggest_float(\"C\", 1e-4, 1e4, log=True)\n",
    "        \n",
    "        pipeline = get_pipeline(penalty=penalty, C=C)\n",
    "        pipeline.fit(X_train, y_train)\n",
    "        y_pred = pipeline.predict(X_val)\n",
    "        return accuracy_score(y_val, y_pred)\n",
    "\n",
    "    # Create an Optuna study\n",
    "    study = optuna.create_study(direction=\"maximize\", sampler=sampler)\n",
    "    \n",
    "    # Optimize the model hyperparameters\n",
    "    study.optimize(objective, n_trials=100)\n",
    "    \n",
    "    # Train the model with the best hyperparameters\n",
    "    pipeline = get_pipeline(**study.best_params)\n",
    "    pipeline.fit(X_train, y_train)\n",
    "\n",
    "    return pipeline"
   ]
  },
  {
   "cell_type": "code",
   "execution_count": null,
   "id": "06b5a4a1-8d98-4dda-90a6-264755b82be9",
   "metadata": {},
   "outputs": [],
   "source": [
    "songs = df_songs.songNumber.values"
   ]
  },
  {
   "cell_type": "code",
   "execution_count": null,
   "id": "5d5e58a1-16a2-4a67-aac4-a8d7d9da8661",
   "metadata": {},
   "outputs": [],
   "source": [
    "try:\n",
    "    # Try to load the existing model dictionary\n",
    "    song_models = joblib.load(\"song_models_2.pkl\")\n",
    "    print(\"Loaded existing model dictionary.\")\n",
    "except FileNotFoundError:\n",
    "    # If the file doesn't exist, create and save the models\n",
    "    print(\"Model dictionary not found. Training models...\")\n",
    "\n",
    "    song_models = {s:train_song_model(s) for s in tqdm(songs)}\n",
    "    # Save the trained models\n",
    "    joblib.dump(song_models, \"song_models_2.pkl\")\n",
    "    print(\"Trained models and saved model dictionary.\")"
   ]
  },
  {
   "cell_type": "markdown",
   "id": "f706ec5d-34bf-44bc-beba-d2c20d976400",
   "metadata": {},
   "source": [
    "# Model evaluation"
   ]
  },
  {
   "cell_type": "code",
   "execution_count": null,
   "id": "361b7a2a-1695-47e1-8507-d108dac8824b",
   "metadata": {},
   "outputs": [],
   "source": [
    "def pred_user(usr_number):\n",
    "    \"\"\" Gives the real ranking (by rating), and the full prediction by preference of a single user.\"\"\"\n",
    "    X = df_features.loc[[usr_number]]\n",
    "    y = df_stars_original.loc[usr_number].fillna(0)\n",
    "    listened = df_stars_original.loc[usr_number].dropna().index.tolist()\n",
    "    y_pred = [(s, song_models[s].predict(X.values)[0]) for s in songs]\n",
    "    pred_order = [x[0] for x in sorted(y_pred, key=lambda x: x[1], reverse=True)]\n",
    "    real_order = list(y.sort_values(ascending=False).index)\n",
    "    return real_order, pred_order, listened"
   ]
  },
  {
   "cell_type": "code",
   "execution_count": null,
   "id": "6bf20a25-ee7b-4f43-b9f8-1730a26588ad",
   "metadata": {},
   "outputs": [],
   "source": [
    "test_user_ratings = [pred_user(u) for u in tqdm(test_users)]"
   ]
  },
  {
   "cell_type": "markdown",
   "id": "94151376-2772-418e-8ff5-deca303153e4",
   "metadata": {},
   "source": [
    "How do these recommendations compare to the “greatest hits” from the previous question?"
   ]
  },
  {
   "cell_type": "code",
   "execution_count": null,
   "id": "51b71579-e37c-4314-bd46-28600b24950a",
   "metadata": {},
   "outputs": [],
   "source": [
    "#From Q9, the average star rating based ranking\n",
    "avg_star_rating_order = joblib.load('avg_star_rating_order.pkl')"
   ]
  },
  {
   "cell_type": "code",
   "execution_count": null,
   "id": "60562089-74a4-46ff-9177-2552ceae3852",
   "metadata": {},
   "outputs": [],
   "source": [
    "top_10_general = avg_star_rating_order[:10]"
   ]
  },
  {
   "cell_type": "code",
   "execution_count": null,
   "id": "d0c58c3a-8f90-4587-9986-41be46ceb94c",
   "metadata": {},
   "outputs": [],
   "source": [
    "#Will use Jaccard similarity to measure how similar the users' top 10 lists are when compared to the popularity-based model.\n",
    "\n",
    "def jaccard(list1, list2):\n",
    "    intersection = len(list(set(list1).intersection(list2)))\n",
    "    union = (len(list1) + len(list2)) - intersection\n",
    "    return float(intersection) / union"
   ]
  },
  {
   "cell_type": "code",
   "execution_count": null,
   "id": "57460910-5581-464b-b125-95c2d6387115",
   "metadata": {},
   "outputs": [],
   "source": [
    "# Using Jaccard similarity to check this\n",
    "similarities = [jaccard([x for x in r[1] if x not in r[2]][:10],\n",
    "                        [x for x in avg_star_rating_order if x not in r[2]][:10])\n",
    "                for r in tqdm(test_user_ratings)\n",
    "               ]"
   ]
  },
  {
   "cell_type": "code",
   "execution_count": null,
   "id": "306286e0-db1e-4bf2-9140-383c1b534891",
   "metadata": {},
   "outputs": [],
   "source": [
    "data_sorted = sorted(similarities)\n",
    "\n",
    "# Calculating the cumulative frequency\n",
    "cumulative_frequency = np.linspace(0., 1., len(similarities))\n",
    "\n",
    "# Creating the plot\n",
    "sns.lineplot(x=data_sorted, y=cumulative_frequency)\n",
    "plt.xlabel('Jaccard Similarity Predicted 10/Top 10 Popularity')\n",
    "plt.ylabel('Cumulative Frequency')\n",
    "plt.title('Cumulative Frequency Curve')\n",
    "\n",
    "# Show the plot\n",
    "plt.show()"
   ]
  },
  {
   "cell_type": "code",
   "execution_count": null,
   "id": "5da9c6b0-164f-47d0-bce9-92ee47e0bdb0",
   "metadata": {},
   "outputs": [],
   "source": [
    "np.mean(similarities)"
   ]
  },
  {
   "cell_type": "markdown",
   "id": "4991d0ac-d487-403d-ad4e-01404f60f111",
   "metadata": {},
   "source": [
    "How good is your recommender system in making recommendations?"
   ]
  },
  {
   "cell_type": "code",
   "execution_count": null,
   "id": "2aa76895-7d9f-44f3-97c2-afc76c15463f",
   "metadata": {},
   "outputs": [],
   "source": [
    "#Using average precision @k to evaluate\n",
    "def average_precision(ground_truth, prediction, k=100):\n",
    "    hits = 0\n",
    "    sum_precisions = 0\n",
    "    ground_truth = ground_truth#[:k]\n",
    "    prediction = prediction[:k]\n",
    "    for i, p in enumerate(prediction):\n",
    "        if p in ground_truth:\n",
    "            hits += 1\n",
    "            precision_at_i = hits / (i + 1)\n",
    "            sum_precisions += precision_at_i\n",
    "\n",
    "    return sum_precisions / k"
   ]
  },
  {
   "cell_type": "markdown",
   "id": "d87200b5-d89d-4156-8a61-56ff9fd0e2d5",
   "metadata": {},
   "source": [
    "## K = 10"
   ]
  },
  {
   "cell_type": "code",
   "execution_count": null,
   "id": "335845a3-7f1e-432b-b2f2-fd570e6bc36e",
   "metadata": {},
   "outputs": [],
   "source": [
    "at_k = 10"
   ]
  },
  {
   "cell_type": "code",
   "execution_count": null,
   "id": "48ceff0b-b772-4633-a123-8fd7933124ce",
   "metadata": {},
   "outputs": [],
   "source": [
    "pred_average_precisions = []\n",
    "pop_average_precisions = []\n",
    "\n",
    "for real, pred in test_user_ratings:\n",
    "    pred_average_precisions.append(average_precision(real, pred, k=at_k))\n",
    "    pop_average_precisions.append(average_precision(real, avg_star_rating_order, k=at_k))\n"
   ]
  },
  {
   "cell_type": "markdown",
   "id": "af32356e-9a72-40f6-94e2-f39e7c4277dc",
   "metadata": {},
   "source": [
    "### Our model"
   ]
  },
  {
   "cell_type": "code",
   "execution_count": null,
   "id": "56b23678-b0d9-4f63-a636-c908ae3806bf",
   "metadata": {},
   "outputs": [],
   "source": [
    "sns.histplot(pred_average_precisions)\n",
    "plt.xlabel(f'Mean Average Precision @{at_k}')\n",
    "plt.ylabel('frequency')\n",
    "plt.title(f'Histogram of Mean Average Precision @{at_k} (ML Model)')"
   ]
  },
  {
   "cell_type": "code",
   "execution_count": null,
   "id": "2bb8033b-4673-4aa3-b938-b29a4d702402",
   "metadata": {},
   "outputs": [],
   "source": [
    "np.mean(pred_average_precisions)"
   ]
  },
  {
   "cell_type": "code",
   "execution_count": null,
   "id": "f6a65233-b13d-4ca1-8c5b-df76096a90ab",
   "metadata": {},
   "outputs": [],
   "source": [
    "np.median(pred_average_precisions)"
   ]
  },
  {
   "cell_type": "markdown",
   "id": "3dfa60c3-0da2-4bcd-80fd-fef32f2bcfa0",
   "metadata": {},
   "source": [
    "### Popularity-based model"
   ]
  },
  {
   "cell_type": "code",
   "execution_count": null,
   "id": "5ec182c5-84f6-40eb-a153-1dfae7ee865a",
   "metadata": {},
   "outputs": [],
   "source": [
    "sns.histplot(pop_average_precisions)\n",
    "plt.xlabel(f'Mean Average Precision @{at_k}')\n",
    "plt.ylabel('frequency')\n",
    "plt.title(f'Histogram of Mean Average Precision @{at_k} (Popularity Model)')"
   ]
  },
  {
   "cell_type": "code",
   "execution_count": null,
   "id": "75df361d-13e7-400c-bcf0-356f4d59c22a",
   "metadata": {},
   "outputs": [],
   "source": [
    "np.mean(pop_average_precisions)"
   ]
  },
  {
   "cell_type": "code",
   "execution_count": null,
   "id": "266cb1c4-91a8-4ebc-adc6-dfa521c88631",
   "metadata": {},
   "outputs": [],
   "source": [
    "np.median(pop_average_precisions)"
   ]
  },
  {
   "cell_type": "markdown",
   "id": "7059dd23-4fd6-4857-8e4c-a3f6fff1a86a",
   "metadata": {},
   "source": [
    "## K = 20"
   ]
  },
  {
   "cell_type": "code",
   "execution_count": null,
   "id": "b1b303b6-36a9-4844-a097-7fa885e7b3c1",
   "metadata": {},
   "outputs": [],
   "source": [
    "at_k = 20"
   ]
  },
  {
   "cell_type": "code",
   "execution_count": null,
   "id": "3a7075a8-cfaf-4f41-977e-61c3114c1d9b",
   "metadata": {},
   "outputs": [],
   "source": [
    "pred_average_precisions = []\n",
    "pop_average_precisions = []\n",
    "\n",
    "for real, pred in test_user_ratings:\n",
    "    pred_average_precisions.append(average_precision(real, pred, k=at_k))\n",
    "    pop_average_precisions.append(average_precision(real, avg_star_rating_order, k=at_k))\n"
   ]
  },
  {
   "cell_type": "markdown",
   "id": "27818f0b-8fe7-4be5-a833-5f13760621e2",
   "metadata": {},
   "source": [
    "### Our model"
   ]
  },
  {
   "cell_type": "code",
   "execution_count": null,
   "id": "c69bd7f3-ce47-460b-ac2b-fbbe19d1b958",
   "metadata": {},
   "outputs": [],
   "source": [
    "sns.histplot(pred_average_precisions)\n",
    "plt.xlabel(f'Mean Average Precision @{at_k}')\n",
    "plt.ylabel('frequency')\n",
    "plt.title(f'Histogram of Mean Average Precision @{at_k} (ML Model)')"
   ]
  },
  {
   "cell_type": "code",
   "execution_count": null,
   "id": "e5b75091-69b9-4db3-9f61-bbb977a0d9e9",
   "metadata": {},
   "outputs": [],
   "source": [
    "np.mean(pred_average_precisions)"
   ]
  },
  {
   "cell_type": "code",
   "execution_count": null,
   "id": "a13a6e22-6dc6-4466-8b00-65d99cb4c806",
   "metadata": {},
   "outputs": [],
   "source": [
    "np.median(pred_average_precisions)"
   ]
  },
  {
   "cell_type": "markdown",
   "id": "d4e834ce-5b2c-4fa9-9ec8-2c0702577140",
   "metadata": {},
   "source": [
    "### Popularity-based model"
   ]
  },
  {
   "cell_type": "code",
   "execution_count": null,
   "id": "86076f30-0a7d-4f44-aa64-cd89737eceb6",
   "metadata": {},
   "outputs": [],
   "source": [
    "sns.histplot(pop_average_precisions)\n",
    "plt.xlabel(f'Mean Average Precision @{at_k}')\n",
    "plt.ylabel('frequency')\n",
    "plt.title(f'Histogram of Mean Average Precision @{at_k} (Popularity Model)')"
   ]
  },
  {
   "cell_type": "code",
   "execution_count": null,
   "id": "90b14a2d-e56b-44df-86c0-5bb471217ce6",
   "metadata": {},
   "outputs": [],
   "source": [
    "np.mean(pop_average_precisions)"
   ]
  },
  {
   "cell_type": "code",
   "execution_count": null,
   "id": "6c0c608d-d3c9-4a0e-9531-2cf355e22606",
   "metadata": {},
   "outputs": [],
   "source": [
    "np.median(pop_average_precisions)"
   ]
  },
  {
   "cell_type": "markdown",
   "id": "0a237d7d-509d-417c-9479-31d11e637753",
   "metadata": {},
   "source": [
    "## K = 50"
   ]
  },
  {
   "cell_type": "code",
   "execution_count": null,
   "id": "80c3a2eb-3276-444e-acfa-0aa758a90b36",
   "metadata": {},
   "outputs": [],
   "source": [
    "at_k = 50"
   ]
  },
  {
   "cell_type": "code",
   "execution_count": null,
   "id": "13d842e7-125c-417a-ad73-9ece63761f20",
   "metadata": {},
   "outputs": [],
   "source": [
    "pred_average_precisions = []\n",
    "pop_average_precisions = []\n",
    "\n",
    "for real, pred in test_user_ratings:\n",
    "    pred_average_precisions.append(average_precision(real, pred, k=at_k))\n",
    "    pop_average_precisions.append(average_precision(real, avg_star_rating_order, k=at_k))\n"
   ]
  },
  {
   "cell_type": "markdown",
   "id": "844dd691-590f-48fd-8d73-65eafca08d67",
   "metadata": {},
   "source": [
    "### Our model"
   ]
  },
  {
   "cell_type": "code",
   "execution_count": null,
   "id": "99c7c155-1819-4b1c-8541-ad81dadf4cf7",
   "metadata": {},
   "outputs": [],
   "source": [
    "sns.histplot(pred_average_precisions)\n",
    "plt.xlabel(f'Mean Average Precision @{at_k}')\n",
    "plt.ylabel('frequency')\n",
    "plt.title(f'Histogram of Mean Average Precision @{at_k} (ML Model)')"
   ]
  },
  {
   "cell_type": "code",
   "execution_count": null,
   "id": "96c8b325-2f9b-4f67-81bf-fe1ebd0ad112",
   "metadata": {},
   "outputs": [],
   "source": [
    "np.mean(pred_average_precisions)"
   ]
  },
  {
   "cell_type": "code",
   "execution_count": null,
   "id": "399db2f0-5e9c-4a3b-b698-142d2fd93125",
   "metadata": {},
   "outputs": [],
   "source": [
    "np.median(pred_average_precisions)"
   ]
  },
  {
   "cell_type": "markdown",
   "id": "7fa9dc51-30d8-4593-a863-d6c9055ac7a0",
   "metadata": {},
   "source": [
    "### Popularity-based model"
   ]
  },
  {
   "cell_type": "code",
   "execution_count": null,
   "id": "c7777ce1-ea08-4cb3-bc03-873526d1989e",
   "metadata": {},
   "outputs": [],
   "source": [
    "sns.histplot(pop_average_precisions)\n",
    "plt.xlabel(f'Mean Average Precision @{at_k}')\n",
    "plt.ylabel('frequency')\n",
    "plt.title(f'Histogram of Mean Average Precision @{at_k} (Popularity Model)')"
   ]
  },
  {
   "cell_type": "code",
   "execution_count": null,
   "id": "2c265236-33da-4538-806f-ce71340fe55d",
   "metadata": {},
   "outputs": [],
   "source": [
    "np.mean(pop_average_precisions)"
   ]
  },
  {
   "cell_type": "code",
   "execution_count": null,
   "id": "122c3a61-06a6-438e-a6bf-50fc641a8dfd",
   "metadata": {},
   "outputs": [],
   "source": [
    "np.median(pop_average_precisions)"
   ]
  },
  {
   "cell_type": "markdown",
   "id": "2e06f96f-7867-47a0-bbbf-1040cf111059",
   "metadata": {},
   "source": [
    "## K = 100"
   ]
  },
  {
   "cell_type": "code",
   "execution_count": null,
   "id": "4c30c485-857e-459d-93ac-d9b93223ceb2",
   "metadata": {},
   "outputs": [],
   "source": [
    "at_k = 100"
   ]
  },
  {
   "cell_type": "code",
   "execution_count": null,
   "id": "36278016-e45a-470e-8664-3001c79a90b3",
   "metadata": {},
   "outputs": [],
   "source": [
    "pred_average_precisions = []\n",
    "pop_average_precisions = []\n",
    "\n",
    "for real, pred in test_user_ratings:\n",
    "    pred_average_precisions.append(average_precision(real, pred, k=at_k))\n",
    "    pop_average_precisions.append(average_precision(real, avg_star_rating_order, k=at_k))\n"
   ]
  },
  {
   "cell_type": "markdown",
   "id": "b8680284-36f0-4614-af03-0f7ee4e0e31c",
   "metadata": {},
   "source": [
    "### Our model"
   ]
  },
  {
   "cell_type": "code",
   "execution_count": null,
   "id": "219df5f4-0c27-4c2b-b9cf-933f9d92862f",
   "metadata": {},
   "outputs": [],
   "source": [
    "sns.histplot(pred_average_precisions)\n",
    "plt.xlabel(f'Mean Average Precision @{at_k}')\n",
    "plt.ylabel('frequency')\n",
    "plt.title(f'Histogram of Mean Average Precision @{at_k} (ML Model)')"
   ]
  },
  {
   "cell_type": "code",
   "execution_count": null,
   "id": "8158c840-e97e-4949-85df-eb4e69ad9bf3",
   "metadata": {},
   "outputs": [],
   "source": [
    "np.mean(pred_average_precisions)"
   ]
  },
  {
   "cell_type": "code",
   "execution_count": null,
   "id": "4d4e07f3-cb42-4763-9ce3-3659156bf2ca",
   "metadata": {},
   "outputs": [],
   "source": [
    "np.median(pred_average_precisions)"
   ]
  },
  {
   "cell_type": "markdown",
   "id": "0a20e577-aa57-4e78-a91a-9fe4a258889d",
   "metadata": {},
   "source": [
    "### Popularity-based model"
   ]
  },
  {
   "cell_type": "code",
   "execution_count": null,
   "id": "f37ef130-edf2-4c41-9441-022fee43a4ab",
   "metadata": {},
   "outputs": [],
   "source": [
    "sns.histplot(pop_average_precisions)\n",
    "plt.xlabel(f'Mean Average Precision @{at_k}')\n",
    "plt.ylabel('frequency')\n",
    "plt.title(f'Histogram of Mean Average Precision @{at_k} (Popularity Model)')"
   ]
  },
  {
   "cell_type": "code",
   "execution_count": null,
   "id": "ad9e9d68-9307-40e3-b33a-acde2cdba3c1",
   "metadata": {},
   "outputs": [],
   "source": [
    "np.mean(pop_average_precisions)"
   ]
  },
  {
   "cell_type": "code",
   "execution_count": null,
   "id": "fd8f3b83-d144-48b0-a5cf-32c35fb9dd02",
   "metadata": {},
   "outputs": [],
   "source": [
    "np.median(pop_average_precisions)"
   ]
  },
  {
   "cell_type": "markdown",
   "id": "d4d5b1cd-5fc2-490f-8388-7fe917a8210f",
   "metadata": {},
   "source": [
    "## K = 250"
   ]
  },
  {
   "cell_type": "code",
   "execution_count": null,
   "id": "588d587b-e60d-4373-ae15-cb7eef1da47d",
   "metadata": {},
   "outputs": [],
   "source": [
    "at_k = 250"
   ]
  },
  {
   "cell_type": "code",
   "execution_count": null,
   "id": "6f6eaa34-cc03-4797-bf13-ec9d69b1e2e7",
   "metadata": {},
   "outputs": [],
   "source": [
    "pred_average_precisions = []\n",
    "pop_average_precisions = []\n",
    "\n",
    "for real, pred in test_user_ratings:\n",
    "    pred_average_precisions.append(average_precision(real, pred, k=at_k))\n",
    "    pop_average_precisions.append(average_precision(real, avg_star_rating_order, k=at_k))\n"
   ]
  },
  {
   "cell_type": "markdown",
   "id": "0d6465c0-c5fc-4a1a-ae54-2304d8e2fd20",
   "metadata": {},
   "source": [
    "### Our model"
   ]
  },
  {
   "cell_type": "code",
   "execution_count": null,
   "id": "12faba1d-0266-4121-8815-2478eebc027b",
   "metadata": {},
   "outputs": [],
   "source": [
    "sns.histplot(pred_average_precisions)\n",
    "plt.xlabel(f'Mean Average Precision @{at_k}')\n",
    "plt.ylabel('frequency')\n",
    "plt.title(f'Histogram of Mean Average Precision @{at_k} (ML Model)')"
   ]
  },
  {
   "cell_type": "code",
   "execution_count": null,
   "id": "c1b7590e-e2b9-44f9-9a78-691cc78c727e",
   "metadata": {},
   "outputs": [],
   "source": [
    "np.mean(pred_average_precisions)"
   ]
  },
  {
   "cell_type": "code",
   "execution_count": null,
   "id": "180931fc-25f6-4480-8192-3f9fedb6f066",
   "metadata": {},
   "outputs": [],
   "source": [
    "np.median(pred_average_precisions)"
   ]
  },
  {
   "cell_type": "markdown",
   "id": "fd60df6a-bf81-4f56-84c2-3fa198c093ef",
   "metadata": {},
   "source": [
    "### Popularity-based model"
   ]
  },
  {
   "cell_type": "code",
   "execution_count": null,
   "id": "38822aac-16ac-4fdb-85f0-a5a879cba5e0",
   "metadata": {},
   "outputs": [],
   "source": [
    "sns.histplot(pop_average_precisions)\n",
    "plt.xlabel(f'Mean Average Precision @{at_k}')\n",
    "plt.ylabel('frequency')\n",
    "plt.title(f'Histogram of Mean Average Precision @{at_k} (Popularity Model)')"
   ]
  },
  {
   "cell_type": "code",
   "execution_count": null,
   "id": "d3f43126-ec88-49d6-b094-b9c6f9f025b2",
   "metadata": {},
   "outputs": [],
   "source": [
    "np.mean(pop_average_precisions)"
   ]
  },
  {
   "cell_type": "code",
   "execution_count": null,
   "id": "77f96fcb-5322-459f-89bf-686568ea3ca9",
   "metadata": {},
   "outputs": [],
   "source": [
    "np.median(pop_average_precisions)"
   ]
  },
  {
   "cell_type": "markdown",
   "id": "0485a646-8c9a-4a73-a01d-1fbba5e29920",
   "metadata": {},
   "source": [
    "## K = 500"
   ]
  },
  {
   "cell_type": "code",
   "execution_count": null,
   "id": "c667006f-f1d5-40e0-b500-fa65eb2c9018",
   "metadata": {},
   "outputs": [],
   "source": [
    "at_k = 500"
   ]
  },
  {
   "cell_type": "code",
   "execution_count": null,
   "id": "62d20c04-9420-49a6-bc9f-ec4ecfa3578e",
   "metadata": {},
   "outputs": [],
   "source": [
    "pred_average_precisions = []\n",
    "pop_average_precisions = []\n",
    "\n",
    "for real, pred in test_user_ratings:\n",
    "    pred_average_precisions.append(average_precision(real, pred, k=at_k))\n",
    "    pop_average_precisions.append(average_precision(real, avg_star_rating_order, k=at_k))\n"
   ]
  },
  {
   "cell_type": "markdown",
   "id": "7ddab818-c741-43d0-886c-32c757abb162",
   "metadata": {},
   "source": [
    "### Our model"
   ]
  },
  {
   "cell_type": "code",
   "execution_count": null,
   "id": "6f166020-8084-4bc5-ac13-6325068bcd11",
   "metadata": {},
   "outputs": [],
   "source": [
    "sns.histplot(pred_average_precisions)\n",
    "plt.xlabel(f'Mean Average Precision @{at_k}')\n",
    "plt.ylabel('frequency')\n",
    "plt.title(f'Histogram of Mean Average Precision @{at_k} (ML Model)')"
   ]
  },
  {
   "cell_type": "code",
   "execution_count": null,
   "id": "64a7b703-3f1c-4ea5-8c6b-c3062918e8c1",
   "metadata": {},
   "outputs": [],
   "source": [
    "np.mean(pred_average_precisions)"
   ]
  },
  {
   "cell_type": "code",
   "execution_count": null,
   "id": "af3e1e8a-837b-417e-baf0-bb46af14c5eb",
   "metadata": {},
   "outputs": [],
   "source": [
    "np.median(pred_average_precisions)"
   ]
  },
  {
   "cell_type": "markdown",
   "id": "12e51072-71ba-4eb6-8301-487ef0c62d51",
   "metadata": {},
   "source": [
    "### Popularity-based model"
   ]
  },
  {
   "cell_type": "code",
   "execution_count": null,
   "id": "8b8af467-d0bd-48a6-83c0-03f2afb0fa16",
   "metadata": {},
   "outputs": [],
   "source": [
    "sns.histplot(pop_average_precisions)\n",
    "plt.xlabel(f'Mean Average Precision @{at_k}')\n",
    "plt.ylabel('frequency')\n",
    "plt.title(f'Histogram of Mean Average Precision @{at_k} (Popularity Model)')"
   ]
  },
  {
   "cell_type": "code",
   "execution_count": null,
   "id": "81612350-2750-41ff-9190-a34729265a41",
   "metadata": {},
   "outputs": [],
   "source": [
    "np.mean(pop_average_precisions)"
   ]
  },
  {
   "cell_type": "code",
   "execution_count": null,
   "id": "af607c6c-667b-4c0f-a268-e524393085f6",
   "metadata": {},
   "outputs": [],
   "source": [
    "np.median(pop_average_precisions)"
   ]
  }
 ],
 "metadata": {
  "kernelspec": {
   "display_name": "Python 3",
   "language": "python",
   "name": "python3"
  },
  "language_info": {
   "codemirror_mode": {
    "name": "ipython",
    "version": 3
   },
   "file_extension": ".py",
   "mimetype": "text/x-python",
   "name": "python",
   "nbconvert_exporter": "python",
   "pygments_lexer": "ipython3",
   "version": "3.8.12"
  }
 },
 "nbformat": 4,
 "nbformat_minor": 5
}
