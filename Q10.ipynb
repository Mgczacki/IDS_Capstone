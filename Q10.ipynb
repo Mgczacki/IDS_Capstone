{
 "cells": [
  {
   "cell_type": "code",
   "execution_count": 1,
   "id": "948f1a2b-3be2-4faf-89b4-54c5f7186b96",
   "metadata": {},
   "outputs": [],
   "source": [
    "seed = 13427256"
   ]
  },
  {
   "cell_type": "markdown",
   "id": "b1b0db93-4097-43bb-8afe-48f3154e7bc9",
   "metadata": {},
   "source": [
    "# Q10"
   ]
  },
  {
   "cell_type": "markdown",
   "id": "9633a0f8-e6d6-433f-82c0-ee083e4614de",
   "metadata": {},
   "source": [
    "You want to create a “personal mixtape” for all 10k users we have explicit feedback for. This mixtape contains individualized recommendations as to which 10 songs (out of the 5k) a given user will enjoy most. How do these recommendations compare to the “greatest hits” from the previous question and how good is your recommender system in making recommendations?"
   ]
  },
  {
   "cell_type": "code",
   "execution_count": 2,
   "id": "70d041bc-c19e-4d8a-b8e2-067db0637016",
   "metadata": {},
   "outputs": [],
   "source": [
    "import joblib\n",
    "import numpy as np\n",
    "import pandas as pd\n",
    "import seaborn as sns\n",
    "import matplotlib.pyplot as plt\n",
    "\n",
    "np.random.seed(seed)"
   ]
  },
  {
   "cell_type": "code",
   "execution_count": 3,
   "id": "b4ae0f16-9b2e-4413-9494-a8bc6e1c9ccb",
   "metadata": {},
   "outputs": [],
   "source": [
    "df_songs = pd.read_csv(\"spotify52kData.csv\").iloc[:5000].sort_values(by='popularity', ascending=False)"
   ]
  },
  {
   "cell_type": "code",
   "execution_count": 4,
   "id": "a0aec91d-be06-4ffa-b1bd-52a46896a9a5",
   "metadata": {},
   "outputs": [],
   "source": [
    "indices_of_duplicates = df_songs[df_songs.duplicated(keep='first', subset=['artists', 'album_name', 'track_name', 'popularity'])].index.tolist()"
   ]
  },
  {
   "cell_type": "code",
   "execution_count": 5,
   "id": "d83652b3-a77d-4eb5-aedb-67f7b6e9ba3e",
   "metadata": {},
   "outputs": [],
   "source": [
    "df_songs = df_songs.drop(indices_of_duplicates).sort_values(by='songNumber')"
   ]
  },
  {
   "cell_type": "code",
   "execution_count": 6,
   "id": "48dfd453-49fc-4f58-9baa-0079674fd269",
   "metadata": {},
   "outputs": [],
   "source": [
    "df_stars = pd.read_parquet(\"starRatings.parquet\").drop(columns=indices_of_duplicates)"
   ]
  },
  {
   "cell_type": "code",
   "execution_count": 7,
   "id": "aff8aaa8-16f7-4e5a-a372-672597c15ac9",
   "metadata": {},
   "outputs": [
    {
     "data": {
      "text/plain": [
       "Index(['songNumber', 'artists', 'album_name', 'track_name', 'popularity',\n",
       "       'duration', 'explicit', 'danceability', 'energy', 'key', 'loudness',\n",
       "       'mode', 'speechiness', 'acousticness', 'instrumentalness', 'liveness',\n",
       "       'valence', 'tempo', 'time_signature', 'track_genre'],\n",
       "      dtype='object')"
      ]
     },
     "execution_count": 7,
     "metadata": {},
     "output_type": "execute_result"
    }
   ],
   "source": [
    "df_songs.columns"
   ]
  },
  {
   "cell_type": "code",
   "execution_count": 8,
   "id": "1c1a0bb3-9700-457f-b9cb-42c146a392c5",
   "metadata": {},
   "outputs": [
    {
     "data": {
      "text/plain": [
       "track_genre\n",
       "acoustic       1000\n",
       "afrobeat        999\n",
       "ambient         999\n",
       "alt-rock        763\n",
       "alternative     637\n",
       "Name: count, dtype: int64"
      ]
     },
     "execution_count": 8,
     "metadata": {},
     "output_type": "execute_result"
    }
   ],
   "source": [
    "df_songs['track_genre'].value_counts() # Seems to be distributed decently well. Will use the variable."
   ]
  },
  {
   "cell_type": "code",
   "execution_count": 9,
   "id": "9597067e-cab2-48dc-beae-45e9ed0b517a",
   "metadata": {},
   "outputs": [
    {
     "data": {
      "text/plain": [
       "mode\n",
       "1    2787\n",
       "0    1611\n",
       "Name: count, dtype: int64"
      ]
     },
     "execution_count": 9,
     "metadata": {},
     "output_type": "execute_result"
    }
   ],
   "source": [
    "df_songs['mode'].value_counts() # Seems to be distributed decently well. Will use the variable."
   ]
  },
  {
   "cell_type": "code",
   "execution_count": 10,
   "id": "a5975007-0b55-4e8f-86e1-41dfd1b48906",
   "metadata": {},
   "outputs": [
    {
     "data": {
      "text/plain": [
       "time_signature\n",
       "4    3758\n",
       "3     496\n",
       "5      85\n",
       "1      55\n",
       "0       4\n",
       "Name: count, dtype: int64"
      ]
     },
     "execution_count": 10,
     "metadata": {},
     "output_type": "execute_result"
    }
   ],
   "source": [
    "df_songs['time_signature'].value_counts() # Most are in the 4 time signature, will not use the variable."
   ]
  },
  {
   "cell_type": "code",
   "execution_count": 11,
   "id": "6accd67d-4df2-49fc-954e-5f9757f749ba",
   "metadata": {},
   "outputs": [
    {
     "data": {
      "text/plain": [
       "explicit\n",
       "False    4140\n",
       "True      258\n",
       "Name: count, dtype: int64"
      ]
     },
     "execution_count": 11,
     "metadata": {},
     "output_type": "execute_result"
    }
   ],
   "source": [
    "df_songs['explicit'].value_counts() # Will include the variable out of the theory that explicit listeners exist."
   ]
  },
  {
   "cell_type": "markdown",
   "id": "1c2465da-a5c1-4e81-a373-4005e373bf30",
   "metadata": {},
   "source": [
    "## Approach\n",
    "Create a model that predicts y := rating given to song for each predicted user.\n",
    "For a user, run all 5000 models, get predicted ratings, and order for the top 10 songs.\n",
    "\n",
    "## Data\n",
    "\n",
    "We will do a 90/10 split. The 10 is a holdout set of users to evaluate our model on.\n",
    "\n",
    "For the other 90, do a 80/20 split for CV/hyperparameter search.\n",
    "\n",
    "## Feature Engineering\n",
    "\n",
    "Since we are training a model per song, we only need per-user features. All of the features will be calculated for the user, without taking into account anything regarding the song being evaluated. Therefore, there will be 5000 feature engineering processes.\n",
    "\n",
    "Features:\n",
    "- User average rating (average rating the user gives across all songs).\n",
    "- Weighted average var rating (average of var, weighted by the songs' given rating). Across the variables:\n",
    "    - Popularity\n",
    "    - Duration\n",
    "    - Danceability\n",
    "    - Energy\n",
    "    - Loudness\n",
    "    - Speechiness\n",
    "    - Acousticness\n",
    "    - Instrumentalness\n",
    "    - Liveness\n",
    "    - Valence\n",
    "    - Tempo\n",
    "- For each genre in track_genre:\n",
    "    - genre_listen_perc (of the ratings, how many are of this genre).\n",
    "- For each mode in mode:\n",
    "    - mode_listen_perc (of the ratings, how many are of thise mode).\n",
    "- Explicit hearing % (of the ratings, how many of the songs are explicit)."
   ]
  },
  {
   "cell_type": "code",
   "execution_count": 12,
   "id": "d497223c-b7ef-4158-9444-1d5aaa20539b",
   "metadata": {},
   "outputs": [],
   "source": [
    "def generate_user_features(user_number):\n",
    "    \"\"\"\n",
    "    Generates a user's features. Assumes that the effect of the song to predict for is negligible next to the other songs.\n",
    "    \"\"\"\n",
    "    \n",
    "    features = {}\n",
    "    features['average_rating'] = df_stars.loc[user_number].mean()\n",
    "    \n",
    "    user_weights = df_stars.loc[user_number].fillna(0)\n",
    "\n",
    "    # Generate weighted numeric variables\n",
    "    for col in ['popularity', 'duration', 'danceability', 'energy',\n",
    "              'loudness', 'speechiness', 'acousticness', 'instrumentalness',\n",
    "              'liveness', 'valence', 'tempo']:\n",
    "        features[f\"{col}_weighted\"] = np.average(df_songs[col], weights=user_weights)\n",
    "\n",
    "    usr_song_idx = list(df_stars.columns[~df_stars.loc[user_number].isna()])\n",
    "    df_usr_songs = df_songs.loc[usr_song_idx]\n",
    "    \n",
    "    features['explicit_percentage'] = df_usr_songs['explicit'].sum()/len(df_usr_songs)\n",
    "\n",
    "    # Generate categorical variable percentage values\n",
    "    for col in ['track_genre', 'mode']:\n",
    "        for value in df_songs[col].unique():\n",
    "            features[f'{col}_{value}'] = (df_usr_songs[col] == value).sum()/len(df_usr_songs)\n",
    "            \n",
    "    return features"
   ]
  },
  {
   "cell_type": "code",
   "execution_count": 13,
   "id": "ded12155-6654-4e4a-b97e-9d9017bd1c13",
   "metadata": {},
   "outputs": [],
   "source": [
    "user_features = [generate_user_features(i) for i in range(len(df_stars))]\n",
    "df_features = pd.DataFrame(user_features)"
   ]
  },
  {
   "cell_type": "code",
   "execution_count": 14,
   "id": "4f034595-1201-4bfb-b95e-8ce24ffd5d27",
   "metadata": {},
   "outputs": [
    {
     "data": {
      "text/html": [
       "<div>\n",
       "<style scoped>\n",
       "    .dataframe tbody tr th:only-of-type {\n",
       "        vertical-align: middle;\n",
       "    }\n",
       "\n",
       "    .dataframe tbody tr th {\n",
       "        vertical-align: top;\n",
       "    }\n",
       "\n",
       "    .dataframe thead th {\n",
       "        text-align: right;\n",
       "    }\n",
       "</style>\n",
       "<table border=\"1\" class=\"dataframe\">\n",
       "  <thead>\n",
       "    <tr style=\"text-align: right;\">\n",
       "      <th></th>\n",
       "      <th>average_rating</th>\n",
       "      <th>popularity_weighted</th>\n",
       "      <th>duration_weighted</th>\n",
       "      <th>danceability_weighted</th>\n",
       "      <th>energy_weighted</th>\n",
       "      <th>loudness_weighted</th>\n",
       "      <th>speechiness_weighted</th>\n",
       "      <th>acousticness_weighted</th>\n",
       "      <th>instrumentalness_weighted</th>\n",
       "      <th>liveness_weighted</th>\n",
       "      <th>valence_weighted</th>\n",
       "      <th>tempo_weighted</th>\n",
       "      <th>explicit_percentage</th>\n",
       "      <th>track_genre_acoustic</th>\n",
       "      <th>track_genre_afrobeat</th>\n",
       "      <th>track_genre_alt-rock</th>\n",
       "      <th>track_genre_alternative</th>\n",
       "      <th>track_genre_ambient</th>\n",
       "      <th>mode_0</th>\n",
       "      <th>mode_1</th>\n",
       "    </tr>\n",
       "  </thead>\n",
       "  <tbody>\n",
       "    <tr>\n",
       "      <th>0</th>\n",
       "      <td>1.543340</td>\n",
       "      <td>40.698630</td>\n",
       "      <td>231069.716438</td>\n",
       "      <td>0.562410</td>\n",
       "      <td>0.651177</td>\n",
       "      <td>-7.087533</td>\n",
       "      <td>0.058111</td>\n",
       "      <td>0.299797</td>\n",
       "      <td>0.135337</td>\n",
       "      <td>0.187617</td>\n",
       "      <td>0.488604</td>\n",
       "      <td>119.734399</td>\n",
       "      <td>0.057082</td>\n",
       "      <td>0.241015</td>\n",
       "      <td>0.224101</td>\n",
       "      <td>0.177590</td>\n",
       "      <td>0.152220</td>\n",
       "      <td>0.205074</td>\n",
       "      <td>0.395349</td>\n",
       "      <td>0.604651</td>\n",
       "    </tr>\n",
       "    <tr>\n",
       "      <th>1</th>\n",
       "      <td>2.371703</td>\n",
       "      <td>39.143579</td>\n",
       "      <td>237093.957533</td>\n",
       "      <td>0.535555</td>\n",
       "      <td>0.584662</td>\n",
       "      <td>-8.855089</td>\n",
       "      <td>0.060762</td>\n",
       "      <td>0.362109</td>\n",
       "      <td>0.152014</td>\n",
       "      <td>0.181933</td>\n",
       "      <td>0.456189</td>\n",
       "      <td>120.695888</td>\n",
       "      <td>0.057554</td>\n",
       "      <td>0.196643</td>\n",
       "      <td>0.232614</td>\n",
       "      <td>0.182254</td>\n",
       "      <td>0.143885</td>\n",
       "      <td>0.244604</td>\n",
       "      <td>0.369305</td>\n",
       "      <td>0.630695</td>\n",
       "    </tr>\n",
       "    <tr>\n",
       "      <th>2</th>\n",
       "      <td>2.676399</td>\n",
       "      <td>39.098182</td>\n",
       "      <td>230664.930000</td>\n",
       "      <td>0.541894</td>\n",
       "      <td>0.570573</td>\n",
       "      <td>-9.433720</td>\n",
       "      <td>0.064987</td>\n",
       "      <td>0.395050</td>\n",
       "      <td>0.194156</td>\n",
       "      <td>0.183515</td>\n",
       "      <td>0.481872</td>\n",
       "      <td>118.809024</td>\n",
       "      <td>0.063260</td>\n",
       "      <td>0.270073</td>\n",
       "      <td>0.272506</td>\n",
       "      <td>0.163017</td>\n",
       "      <td>0.121655</td>\n",
       "      <td>0.172749</td>\n",
       "      <td>0.328467</td>\n",
       "      <td>0.671533</td>\n",
       "    </tr>\n",
       "    <tr>\n",
       "      <th>3</th>\n",
       "      <td>2.073913</td>\n",
       "      <td>39.197065</td>\n",
       "      <td>228971.525157</td>\n",
       "      <td>0.540004</td>\n",
       "      <td>0.582653</td>\n",
       "      <td>-8.516239</td>\n",
       "      <td>0.062756</td>\n",
       "      <td>0.377842</td>\n",
       "      <td>0.173686</td>\n",
       "      <td>0.173280</td>\n",
       "      <td>0.452065</td>\n",
       "      <td>119.830908</td>\n",
       "      <td>0.050000</td>\n",
       "      <td>0.195652</td>\n",
       "      <td>0.239130</td>\n",
       "      <td>0.180435</td>\n",
       "      <td>0.147826</td>\n",
       "      <td>0.236957</td>\n",
       "      <td>0.345652</td>\n",
       "      <td>0.654348</td>\n",
       "    </tr>\n",
       "    <tr>\n",
       "      <th>4</th>\n",
       "      <td>2.786070</td>\n",
       "      <td>39.333036</td>\n",
       "      <td>224320.919643</td>\n",
       "      <td>0.523871</td>\n",
       "      <td>0.538657</td>\n",
       "      <td>-10.108101</td>\n",
       "      <td>0.056915</td>\n",
       "      <td>0.436177</td>\n",
       "      <td>0.238713</td>\n",
       "      <td>0.180454</td>\n",
       "      <td>0.444525</td>\n",
       "      <td>119.836990</td>\n",
       "      <td>0.047264</td>\n",
       "      <td>0.241294</td>\n",
       "      <td>0.221393</td>\n",
       "      <td>0.161692</td>\n",
       "      <td>0.129353</td>\n",
       "      <td>0.246269</td>\n",
       "      <td>0.355721</td>\n",
       "      <td>0.644279</td>\n",
       "    </tr>\n",
       "    <tr>\n",
       "      <th>...</th>\n",
       "      <td>...</td>\n",
       "      <td>...</td>\n",
       "      <td>...</td>\n",
       "      <td>...</td>\n",
       "      <td>...</td>\n",
       "      <td>...</td>\n",
       "      <td>...</td>\n",
       "      <td>...</td>\n",
       "      <td>...</td>\n",
       "      <td>...</td>\n",
       "      <td>...</td>\n",
       "      <td>...</td>\n",
       "      <td>...</td>\n",
       "      <td>...</td>\n",
       "      <td>...</td>\n",
       "      <td>...</td>\n",
       "      <td>...</td>\n",
       "      <td>...</td>\n",
       "      <td>...</td>\n",
       "      <td>...</td>\n",
       "    </tr>\n",
       "    <tr>\n",
       "      <th>9995</th>\n",
       "      <td>0.851415</td>\n",
       "      <td>44.387812</td>\n",
       "      <td>240645.842105</td>\n",
       "      <td>0.568042</td>\n",
       "      <td>0.737590</td>\n",
       "      <td>-5.979740</td>\n",
       "      <td>0.061754</td>\n",
       "      <td>0.211304</td>\n",
       "      <td>0.083541</td>\n",
       "      <td>0.187216</td>\n",
       "      <td>0.536768</td>\n",
       "      <td>120.497834</td>\n",
       "      <td>0.058962</td>\n",
       "      <td>0.228774</td>\n",
       "      <td>0.242925</td>\n",
       "      <td>0.169811</td>\n",
       "      <td>0.134434</td>\n",
       "      <td>0.224057</td>\n",
       "      <td>0.372642</td>\n",
       "      <td>0.627358</td>\n",
       "    </tr>\n",
       "    <tr>\n",
       "      <th>9996</th>\n",
       "      <td>1.909314</td>\n",
       "      <td>39.101412</td>\n",
       "      <td>232200.403081</td>\n",
       "      <td>0.563964</td>\n",
       "      <td>0.609919</td>\n",
       "      <td>-7.919357</td>\n",
       "      <td>0.064315</td>\n",
       "      <td>0.356301</td>\n",
       "      <td>0.140584</td>\n",
       "      <td>0.177809</td>\n",
       "      <td>0.460350</td>\n",
       "      <td>121.798874</td>\n",
       "      <td>0.046569</td>\n",
       "      <td>0.250000</td>\n",
       "      <td>0.227941</td>\n",
       "      <td>0.188725</td>\n",
       "      <td>0.127451</td>\n",
       "      <td>0.205882</td>\n",
       "      <td>0.394608</td>\n",
       "      <td>0.605392</td>\n",
       "    </tr>\n",
       "    <tr>\n",
       "      <th>9997</th>\n",
       "      <td>2.759009</td>\n",
       "      <td>37.777143</td>\n",
       "      <td>233432.452245</td>\n",
       "      <td>0.535404</td>\n",
       "      <td>0.579235</td>\n",
       "      <td>-8.848654</td>\n",
       "      <td>0.054640</td>\n",
       "      <td>0.380913</td>\n",
       "      <td>0.176346</td>\n",
       "      <td>0.183903</td>\n",
       "      <td>0.461624</td>\n",
       "      <td>120.585586</td>\n",
       "      <td>0.049550</td>\n",
       "      <td>0.247748</td>\n",
       "      <td>0.180180</td>\n",
       "      <td>0.209459</td>\n",
       "      <td>0.139640</td>\n",
       "      <td>0.222973</td>\n",
       "      <td>0.378378</td>\n",
       "      <td>0.621622</td>\n",
       "    </tr>\n",
       "    <tr>\n",
       "      <th>9998</th>\n",
       "      <td>1.751678</td>\n",
       "      <td>40.072797</td>\n",
       "      <td>235228.315453</td>\n",
       "      <td>0.561215</td>\n",
       "      <td>0.645046</td>\n",
       "      <td>-7.459789</td>\n",
       "      <td>0.061860</td>\n",
       "      <td>0.295369</td>\n",
       "      <td>0.122682</td>\n",
       "      <td>0.194801</td>\n",
       "      <td>0.492854</td>\n",
       "      <td>118.876019</td>\n",
       "      <td>0.078300</td>\n",
       "      <td>0.248322</td>\n",
       "      <td>0.221477</td>\n",
       "      <td>0.158837</td>\n",
       "      <td>0.181208</td>\n",
       "      <td>0.190157</td>\n",
       "      <td>0.380313</td>\n",
       "      <td>0.619687</td>\n",
       "    </tr>\n",
       "    <tr>\n",
       "      <th>9999</th>\n",
       "      <td>2.351282</td>\n",
       "      <td>38.592148</td>\n",
       "      <td>233793.997819</td>\n",
       "      <td>0.544951</td>\n",
       "      <td>0.569246</td>\n",
       "      <td>-9.316963</td>\n",
       "      <td>0.059469</td>\n",
       "      <td>0.384817</td>\n",
       "      <td>0.199618</td>\n",
       "      <td>0.183308</td>\n",
       "      <td>0.475259</td>\n",
       "      <td>116.947689</td>\n",
       "      <td>0.046154</td>\n",
       "      <td>0.200000</td>\n",
       "      <td>0.246154</td>\n",
       "      <td>0.187179</td>\n",
       "      <td>0.143590</td>\n",
       "      <td>0.223077</td>\n",
       "      <td>0.369231</td>\n",
       "      <td>0.630769</td>\n",
       "    </tr>\n",
       "  </tbody>\n",
       "</table>\n",
       "<p>10000 rows × 20 columns</p>\n",
       "</div>"
      ],
      "text/plain": [
       "      average_rating  popularity_weighted  duration_weighted  \\\n",
       "0           1.543340            40.698630      231069.716438   \n",
       "1           2.371703            39.143579      237093.957533   \n",
       "2           2.676399            39.098182      230664.930000   \n",
       "3           2.073913            39.197065      228971.525157   \n",
       "4           2.786070            39.333036      224320.919643   \n",
       "...              ...                  ...                ...   \n",
       "9995        0.851415            44.387812      240645.842105   \n",
       "9996        1.909314            39.101412      232200.403081   \n",
       "9997        2.759009            37.777143      233432.452245   \n",
       "9998        1.751678            40.072797      235228.315453   \n",
       "9999        2.351282            38.592148      233793.997819   \n",
       "\n",
       "      danceability_weighted  energy_weighted  loudness_weighted  \\\n",
       "0                  0.562410         0.651177          -7.087533   \n",
       "1                  0.535555         0.584662          -8.855089   \n",
       "2                  0.541894         0.570573          -9.433720   \n",
       "3                  0.540004         0.582653          -8.516239   \n",
       "4                  0.523871         0.538657         -10.108101   \n",
       "...                     ...              ...                ...   \n",
       "9995               0.568042         0.737590          -5.979740   \n",
       "9996               0.563964         0.609919          -7.919357   \n",
       "9997               0.535404         0.579235          -8.848654   \n",
       "9998               0.561215         0.645046          -7.459789   \n",
       "9999               0.544951         0.569246          -9.316963   \n",
       "\n",
       "      speechiness_weighted  acousticness_weighted  instrumentalness_weighted  \\\n",
       "0                 0.058111               0.299797                   0.135337   \n",
       "1                 0.060762               0.362109                   0.152014   \n",
       "2                 0.064987               0.395050                   0.194156   \n",
       "3                 0.062756               0.377842                   0.173686   \n",
       "4                 0.056915               0.436177                   0.238713   \n",
       "...                    ...                    ...                        ...   \n",
       "9995              0.061754               0.211304                   0.083541   \n",
       "9996              0.064315               0.356301                   0.140584   \n",
       "9997              0.054640               0.380913                   0.176346   \n",
       "9998              0.061860               0.295369                   0.122682   \n",
       "9999              0.059469               0.384817                   0.199618   \n",
       "\n",
       "      liveness_weighted  valence_weighted  tempo_weighted  \\\n",
       "0              0.187617          0.488604      119.734399   \n",
       "1              0.181933          0.456189      120.695888   \n",
       "2              0.183515          0.481872      118.809024   \n",
       "3              0.173280          0.452065      119.830908   \n",
       "4              0.180454          0.444525      119.836990   \n",
       "...                 ...               ...             ...   \n",
       "9995           0.187216          0.536768      120.497834   \n",
       "9996           0.177809          0.460350      121.798874   \n",
       "9997           0.183903          0.461624      120.585586   \n",
       "9998           0.194801          0.492854      118.876019   \n",
       "9999           0.183308          0.475259      116.947689   \n",
       "\n",
       "      explicit_percentage  track_genre_acoustic  track_genre_afrobeat  \\\n",
       "0                0.057082              0.241015              0.224101   \n",
       "1                0.057554              0.196643              0.232614   \n",
       "2                0.063260              0.270073              0.272506   \n",
       "3                0.050000              0.195652              0.239130   \n",
       "4                0.047264              0.241294              0.221393   \n",
       "...                   ...                   ...                   ...   \n",
       "9995             0.058962              0.228774              0.242925   \n",
       "9996             0.046569              0.250000              0.227941   \n",
       "9997             0.049550              0.247748              0.180180   \n",
       "9998             0.078300              0.248322              0.221477   \n",
       "9999             0.046154              0.200000              0.246154   \n",
       "\n",
       "      track_genre_alt-rock  track_genre_alternative  track_genre_ambient  \\\n",
       "0                 0.177590                 0.152220             0.205074   \n",
       "1                 0.182254                 0.143885             0.244604   \n",
       "2                 0.163017                 0.121655             0.172749   \n",
       "3                 0.180435                 0.147826             0.236957   \n",
       "4                 0.161692                 0.129353             0.246269   \n",
       "...                    ...                      ...                  ...   \n",
       "9995              0.169811                 0.134434             0.224057   \n",
       "9996              0.188725                 0.127451             0.205882   \n",
       "9997              0.209459                 0.139640             0.222973   \n",
       "9998              0.158837                 0.181208             0.190157   \n",
       "9999              0.187179                 0.143590             0.223077   \n",
       "\n",
       "        mode_0    mode_1  \n",
       "0     0.395349  0.604651  \n",
       "1     0.369305  0.630695  \n",
       "2     0.328467  0.671533  \n",
       "3     0.345652  0.654348  \n",
       "4     0.355721  0.644279  \n",
       "...        ...       ...  \n",
       "9995  0.372642  0.627358  \n",
       "9996  0.394608  0.605392  \n",
       "9997  0.378378  0.621622  \n",
       "9998  0.380313  0.619687  \n",
       "9999  0.369231  0.630769  \n",
       "\n",
       "[10000 rows x 20 columns]"
      ]
     },
     "execution_count": 14,
     "metadata": {},
     "output_type": "execute_result"
    }
   ],
   "source": [
    "df_features"
   ]
  },
  {
   "cell_type": "code",
   "execution_count": 15,
   "id": "78d78e76-ca26-4fd8-83ec-00e2b1acb09a",
   "metadata": {},
   "outputs": [],
   "source": [
    "def generate_datasets(test_prop = 0.1, eval_prop = 0.2):\n",
    "    #First reserve 10% of all users, in order to evaluate the model.\n",
    "    all_user_ids = list(range(len(df_features)))\n",
    "    \n",
    "    #90/10 split\n",
    "    len_test_users = int(np.ceil(len(df_features) * test_prop))\n",
    "    test_users = np.random.choice(all_user_ids, size = len_test_users, replace = False)\n",
    "    non_test_users = [u for u in all_user_ids if u not in test_users]\n",
    "\n",
    "    #Generate the per-song datasets\n",
    "    song_train_idx = dict()\n",
    "    song_val_idx = dict()\n",
    "    \n",
    "    for s in df_songs.songNumber:\n",
    "        #80/20 split over the users that rated the song, for users not in the test dataset.\n",
    "        song_users  = (df_stars[~df_stars[s].isna()]).index\n",
    "        non_test_song_users = list(set(song_users).intersection(set(non_test_users)))\n",
    "    \n",
    "        len_song_val_users = int(np.ceil(len(non_test_song_users) * eval_prop))\n",
    "        song_val_users = np.random.choice(non_test_song_users, size = len_song_val_users, replace = False)\n",
    "    \n",
    "        song_train_users = [u for u in non_test_song_users if u not in song_val_users]\n",
    "    \n",
    "        song_train_idx[s] = song_train_users\n",
    "        song_val_idx[s] = song_val_users\n",
    "\n",
    "    return test_users, song_train_idx, song_val_idx"
   ]
  },
  {
   "cell_type": "code",
   "execution_count": 16,
   "id": "7fd12c25-057b-407c-9b91-4f5ded30f1be",
   "metadata": {},
   "outputs": [
    {
     "name": "stdout",
     "output_type": "stream",
     "text": [
      "Loaded existing datasets.\n"
     ]
    }
   ],
   "source": [
    "try:\n",
    "    # Try to load the existing datasets\n",
    "    test_users = joblib.load(\"test_users.pkl\")\n",
    "    song_train_idx = joblib.load(\"song_train_idx.pkl\")\n",
    "    song_val_idx = joblib.load(\"song_val_idx.pkl\")\n",
    "    print(\"Loaded existing datasets.\")\n",
    "except FileNotFoundError:\n",
    "    # If the file doesn't exist, create and save the models\n",
    "    print(\"Datasets not found. Generating...\")\n",
    "\n",
    "    test_users, song_train_idx, song_val_idx = generate_datasets()\n",
    "    # Save the datasets\n",
    "    joblib.dump(test_users, \"test_users.pkl\")\n",
    "    joblib.dump(song_train_idx, \"song_train_idx.pkl\")\n",
    "    joblib.dump(song_val_idx, \"song_val_idx.pkl\")\n",
    "    print(\"Generated/saved datasets.\")"
   ]
  },
  {
   "cell_type": "markdown",
   "id": "f9e70dce-e964-47a5-9e6a-53166d454424",
   "metadata": {},
   "source": [
    "### Training loop"
   ]
  },
  {
   "cell_type": "markdown",
   "id": "60ae0228-b6d9-42df-919d-f9e5cafe3113",
   "metadata": {},
   "source": [
    "Lasso Regression to start."
   ]
  },
  {
   "cell_type": "code",
   "execution_count": 17,
   "id": "e1b1c0d0-9002-4bd3-bf79-c9ab4979385e",
   "metadata": {},
   "outputs": [],
   "source": [
    "import optuna\n",
    "import numpy as np\n",
    "from tqdm import tqdm\n",
    "from sklearn.linear_model import Lasso\n",
    "from sklearn.metrics import mean_squared_error\n",
    "\n",
    "sampler = optuna.samplers.TPESampler(seed=seed)  # Make the sampler behave in a deterministic way.\n",
    "\n",
    "optuna.logging.set_verbosity(optuna.logging.WARNING)"
   ]
  },
  {
   "cell_type": "code",
   "execution_count": 18,
   "id": "13ab1b80-e2d2-439d-9281-575d0b72a2c5",
   "metadata": {},
   "outputs": [],
   "source": [
    "def train_song_model(song_number):\n",
    "\n",
    "    X_train = df_features.loc[song_train_idx[song_number]].values\n",
    "    y_train = df_stars[song_number].loc[song_train_idx[song_number]].values\n",
    "\n",
    "    X_val = df_features.loc[song_val_idx[song_number]].values\n",
    "    y_val = df_stars[song_number].loc[song_val_idx[song_number]].values\n",
    "    \n",
    "    def objective(trial):\n",
    "        alpha = trial.suggest_float(\"alpha\", 0.001, 3.0, log=True)\n",
    "        lasso = Lasso(alpha=alpha)\n",
    "        lasso.fit(X_train, y_train)\n",
    "        y_pred = lasso.predict(X_val)\n",
    "        mse = mean_squared_error(y_val, y_pred)\n",
    "        return mse\n",
    "\n",
    "    # Create an Optuna study\n",
    "    study = optuna.create_study(direction=\"minimize\", sampler=sampler)\n",
    "    \n",
    "    # Optimize the Lasso hyperparameters\n",
    "    study.optimize(objective, n_trials=300)\n",
    "    \n",
    "    # Get the best hyperparameters from the study\n",
    "    best_alpha = study.best_params[\"alpha\"]\n",
    "    \n",
    "    # Train the Lasso model with the best hyperparameters\n",
    "    lasso = Lasso(alpha=best_alpha)\n",
    "    lasso.fit(X_train, y_train)\n",
    "\n",
    "    return lasso"
   ]
  },
  {
   "cell_type": "code",
   "execution_count": 19,
   "id": "06b5a4a1-8d98-4dda-90a6-264755b82be9",
   "metadata": {},
   "outputs": [],
   "source": [
    "songs = df_songs.songNumber.values"
   ]
  },
  {
   "cell_type": "code",
   "execution_count": 20,
   "id": "5d5e58a1-16a2-4a67-aac4-a8d7d9da8661",
   "metadata": {},
   "outputs": [
    {
     "name": "stdout",
     "output_type": "stream",
     "text": [
      "Loaded existing model dictionary.\n"
     ]
    }
   ],
   "source": [
    "try:\n",
    "    # Try to load the existing model dictionary\n",
    "    song_models = joblib.load(\"song_models.pkl\")\n",
    "    print(\"Loaded existing model dictionary.\")\n",
    "except FileNotFoundError:\n",
    "    # If the file doesn't exist, create and save the models\n",
    "    print(\"Model dictionary not found. Training models...\")\n",
    "\n",
    "    song_models = {s:train_song_model(s) for s in tqdm(songs)}\n",
    "    # Save the trained models\n",
    "    joblib.dump(song_models, \"song_models.pkl\")\n",
    "    print(\"Trained models and saved model dictionary.\")"
   ]
  },
  {
   "cell_type": "code",
   "execution_count": 21,
   "id": "d11d9124-59fd-48e0-a6cb-2e8fc4d60075",
   "metadata": {},
   "outputs": [
    {
     "data": {
      "text/plain": [
       "{0: Lasso(alpha=0.001000218193488312),\n",
       " 1: Lasso(alpha=0.001000306224329007),\n",
       " 2: Lasso(alpha=0.17571426910654303),\n",
       " 3: Lasso(alpha=0.0018961559847968973),\n",
       " 4: Lasso(alpha=0.025732644362672228),\n",
       " 5: Lasso(alpha=0.0021044942936613905),\n",
       " 6: Lasso(alpha=0.01673720847353412),\n",
       " 7: Lasso(alpha=0.027401604497880733),\n",
       " 8: Lasso(alpha=0.1145112460023913),\n",
       " 9: Lasso(alpha=0.0010003781591958417),\n",
       " 10: Lasso(alpha=0.0010001923593984457),\n",
       " 11: Lasso(alpha=0.019355450421515232),\n",
       " 12: Lasso(alpha=0.0016145968978248226),\n",
       " 13: Lasso(alpha=0.003655411395978894),\n",
       " 14: Lasso(alpha=0.0012638945320879037),\n",
       " 15: Lasso(alpha=0.001000000929174955),\n",
       " 16: Lasso(alpha=0.0010001425037130338),\n",
       " 17: Lasso(alpha=0.021892560240402308),\n",
       " 18: Lasso(alpha=0.0013866826496075528),\n",
       " 19: Lasso(alpha=0.0258382250170561),\n",
       " 20: Lasso(alpha=0.0035975059063618176),\n",
       " 21: Lasso(alpha=0.0010000273501174165),\n",
       " 22: Lasso(alpha=0.0010356163575074267),\n",
       " 23: Lasso(alpha=0.001000040677075474),\n",
       " 24: Lasso(alpha=0.033387351418242145),\n",
       " 25: Lasso(alpha=0.004553450047714928),\n",
       " 26: Lasso(alpha=0.001000206779138949),\n",
       " 27: Lasso(alpha=0.0010000807031488278),\n",
       " 28: Lasso(alpha=0.21333325147166812),\n",
       " 29: Lasso(alpha=0.016616503554926502),\n",
       " 30: Lasso(alpha=0.0010000239115474571),\n",
       " 31: Lasso(alpha=0.0010000554201635595),\n",
       " 32: Lasso(alpha=0.001000091211500651),\n",
       " 33: Lasso(alpha=0.002403934731835817),\n",
       " 34: Lasso(alpha=0.001421396640486412),\n",
       " 35: Lasso(alpha=0.12342181316746768),\n",
       " 36: Lasso(alpha=0.001000033767789039),\n",
       " 37: Lasso(alpha=0.001103734285456046),\n",
       " 38: Lasso(alpha=0.0021984955511254213),\n",
       " 39: Lasso(alpha=0.0021213122066347334),\n",
       " 40: Lasso(alpha=0.0011085546395625165),\n",
       " 41: Lasso(alpha=0.0015931924499638114),\n",
       " 42: Lasso(alpha=0.0010000337599761695),\n",
       " 43: Lasso(alpha=0.04667532220158862),\n",
       " 44: Lasso(alpha=0.0010001224909780904),\n",
       " 45: Lasso(alpha=0.052132398206498884),\n",
       " 46: Lasso(alpha=0.11575187736215391),\n",
       " 47: Lasso(alpha=0.0010003846974253477),\n",
       " 48: Lasso(alpha=0.0010000718354855713),\n",
       " 49: Lasso(alpha=0.01188639245831981),\n",
       " 50: Lasso(alpha=0.0010000441231267482),\n",
       " 51: Lasso(alpha=0.001179109469731254),\n",
       " 52: Lasso(alpha=0.0013457381269294671),\n",
       " 53: Lasso(alpha=0.0010003190280309256),\n",
       " 54: Lasso(alpha=0.0011273854980761795),\n",
       " 55: Lasso(alpha=0.004624222246664052),\n",
       " 56: Lasso(alpha=0.0010000329840586285),\n",
       " 57: Lasso(alpha=0.007156168913183486),\n",
       " 58: Lasso(alpha=0.0010002867411115668),\n",
       " 59: Lasso(alpha=0.001000335489085189),\n",
       " 60: Lasso(alpha=0.1973349591170916),\n",
       " 61: Lasso(alpha=0.001000085123741938),\n",
       " 62: Lasso(alpha=0.007464583163788366),\n",
       " 63: Lasso(alpha=0.009839004466591876),\n",
       " 64: Lasso(alpha=0.0010000423364788617),\n",
       " 65: Lasso(alpha=0.1741515373111152),\n",
       " 66: Lasso(alpha=0.033470537508814145),\n",
       " 67: Lasso(alpha=0.0010000613411999511),\n",
       " 68: Lasso(alpha=0.023290942573605006),\n",
       " 69: Lasso(alpha=0.0010000104611760587),\n",
       " 70: Lasso(alpha=0.0010001329460223776),\n",
       " 71: Lasso(alpha=0.006562873568100566),\n",
       " 72: Lasso(alpha=0.006862173855923913),\n",
       " 73: Lasso(alpha=0.0017027708761955787),\n",
       " 74: Lasso(alpha=0.0024127100634855543),\n",
       " 75: Lasso(alpha=0.0020236367580787925),\n",
       " 76: Lasso(alpha=0.0010002278233025032),\n",
       " 77: Lasso(alpha=0.014238917069330418),\n",
       " 78: Lasso(alpha=0.02674297444918166),\n",
       " 79: Lasso(alpha=0.0010001326041194575),\n",
       " 80: Lasso(alpha=0.019920911779809553),\n",
       " 81: Lasso(alpha=0.0010001225613427394),\n",
       " 82: Lasso(alpha=0.0010002962722111973),\n",
       " 83: Lasso(alpha=0.023752550278413012),\n",
       " 84: Lasso(alpha=0.004446397066049365),\n",
       " 85: Lasso(alpha=0.0011776566840729227),\n",
       " 86: Lasso(alpha=0.0014038210850606065),\n",
       " 87: Lasso(alpha=0.001000024510167262),\n",
       " 88: Lasso(alpha=0.12847222534482935),\n",
       " 89: Lasso(alpha=0.02220100999626236),\n",
       " 90: Lasso(alpha=0.10777590524516423),\n",
       " 91: Lasso(alpha=0.0011404051915323218),\n",
       " 92: Lasso(alpha=0.016824782594483702),\n",
       " 93: Lasso(alpha=0.001087788391495154),\n",
       " 94: Lasso(alpha=0.0010001007334445053),\n",
       " 95: Lasso(alpha=0.0012206886859749834),\n",
       " 96: Lasso(alpha=0.0014620369928370555),\n",
       " 97: Lasso(alpha=0.0010000488921658827),\n",
       " 98: Lasso(alpha=0.001000186406354512),\n",
       " 99: Lasso(alpha=0.0024306887921087517),\n",
       " 100: Lasso(alpha=0.03512649954302975),\n",
       " 101: Lasso(alpha=0.001000232486341135),\n",
       " 102: Lasso(alpha=0.03674718610411404),\n",
       " 103: Lasso(alpha=0.0010002085652026638),\n",
       " 104: Lasso(alpha=0.0010000526800552447),\n",
       " 105: Lasso(alpha=0.0010002254977084088),\n",
       " 106: Lasso(alpha=0.0015334013907651576),\n",
       " 107: Lasso(alpha=0.0010003935038795108),\n",
       " 108: Lasso(alpha=0.010219883967813403),\n",
       " 109: Lasso(alpha=0.0015683299765469774),\n",
       " 110: Lasso(alpha=0.0011191717876822787),\n",
       " 111: Lasso(alpha=0.0010001142260835116),\n",
       " 112: Lasso(alpha=0.006059458687105263),\n",
       " 113: Lasso(alpha=0.16634589971799105),\n",
       " 114: Lasso(alpha=0.0010003634203301138),\n",
       " 115: Lasso(alpha=0.0010001627067764544),\n",
       " 116: Lasso(alpha=0.0010001689206560818),\n",
       " 117: Lasso(alpha=0.0010001279925613135),\n",
       " 118: Lasso(alpha=0.2558908627908358),\n",
       " 119: Lasso(alpha=0.0014018350191175558),\n",
       " 120: Lasso(alpha=0.0010004434467505087),\n",
       " 121: Lasso(alpha=0.001000011706956839),\n",
       " 122: Lasso(alpha=0.04223961443636756),\n",
       " 123: Lasso(alpha=0.001000019595599163),\n",
       " 124: Lasso(alpha=0.0010000079314614815),\n",
       " 125: Lasso(alpha=0.0010000564021497894),\n",
       " 126: Lasso(alpha=0.001000053833883596),\n",
       " 127: Lasso(alpha=0.042085043212248506),\n",
       " 128: Lasso(alpha=0.0010000241121622038),\n",
       " 129: Lasso(alpha=0.001937171773264524),\n",
       " 130: Lasso(alpha=0.015014992330387878),\n",
       " 131: Lasso(alpha=0.0011398318283599579),\n",
       " 132: Lasso(alpha=0.0013962538604053978),\n",
       " 133: Lasso(alpha=0.0010000349808397778),\n",
       " 134: Lasso(alpha=0.03255765510323802),\n",
       " 135: Lasso(alpha=0.0018591266809581638),\n",
       " 136: Lasso(alpha=0.0010123286873121588),\n",
       " 137: Lasso(alpha=0.0010000736224661253),\n",
       " 138: Lasso(alpha=0.0383872409906992),\n",
       " 139: Lasso(alpha=0.19786216682674682),\n",
       " 140: Lasso(alpha=0.001000717290585331),\n",
       " 141: Lasso(alpha=0.001000133388478102),\n",
       " 142: Lasso(alpha=0.001000038957304229),\n",
       " 143: Lasso(alpha=0.0010000131332574516),\n",
       " 144: Lasso(alpha=0.0015671196234050817),\n",
       " 145: Lasso(alpha=0.03006536356926312),\n",
       " 146: Lasso(alpha=0.0011177996158096158),\n",
       " 147: Lasso(alpha=0.00100002568557198),\n",
       " 148: Lasso(alpha=0.022627527334379744),\n",
       " 149: Lasso(alpha=0.07345372059715219),\n",
       " 150: Lasso(alpha=0.0010000339711291328),\n",
       " 151: Lasso(alpha=0.0010000460062903095),\n",
       " 152: Lasso(alpha=0.0011084232662451076),\n",
       " 153: Lasso(alpha=0.001035463582447711),\n",
       " 154: Lasso(alpha=0.028337494629871667),\n",
       " 155: Lasso(alpha=0.01167765223909148),\n",
       " 156: Lasso(alpha=0.0010000885641340514),\n",
       " 157: Lasso(alpha=0.006156845087351094),\n",
       " 158: Lasso(alpha=0.0023815395727801968),\n",
       " 159: Lasso(alpha=0.0471304270570174),\n",
       " 160: Lasso(alpha=0.0010002539658558309),\n",
       " 161: Lasso(alpha=0.0010002592369041127),\n",
       " 162: Lasso(alpha=0.0010000055710167768),\n",
       " 163: Lasso(alpha=0.006278813063750751),\n",
       " 164: Lasso(alpha=0.0010000118456559045),\n",
       " 165: Lasso(alpha=0.04284515319731285),\n",
       " 166: Lasso(alpha=0.17008225372577415),\n",
       " 167: Lasso(alpha=0.14590290763093594),\n",
       " 168: Lasso(alpha=0.05024360643593487),\n",
       " 169: Lasso(alpha=0.07017473010842111),\n",
       " 170: Lasso(alpha=0.2129897970600627),\n",
       " 171: Lasso(alpha=0.003488860467162535),\n",
       " 172: Lasso(alpha=0.001176041633469211),\n",
       " 173: Lasso(alpha=0.004359665733957016),\n",
       " 174: Lasso(alpha=0.016130929081890535),\n",
       " 175: Lasso(alpha=0.0010001460319455082),\n",
       " 176: Lasso(alpha=0.036664431559249214),\n",
       " 177: Lasso(alpha=0.0010000216383451617),\n",
       " 178: Lasso(alpha=0.0010000083869284488),\n",
       " 179: Lasso(alpha=0.002285633255644596),\n",
       " 180: Lasso(alpha=0.001000467739772774),\n",
       " 181: Lasso(alpha=0.0011223557115771522),\n",
       " 182: Lasso(alpha=0.0010000084803015337),\n",
       " 183: Lasso(alpha=0.020437602393367053),\n",
       " 184: Lasso(alpha=0.0012907211259637341),\n",
       " 185: Lasso(alpha=0.02881307754020199),\n",
       " 186: Lasso(alpha=0.006512917032297703),\n",
       " 187: Lasso(alpha=0.0018443015595341172),\n",
       " 188: Lasso(alpha=0.001000001826806872),\n",
       " 189: Lasso(alpha=0.02068144334176079),\n",
       " 190: Lasso(alpha=0.0019585566405857817),\n",
       " 191: Lasso(alpha=0.010321904693707699),\n",
       " 192: Lasso(alpha=0.19339100274165272),\n",
       " 193: Lasso(alpha=0.018052625228949234),\n",
       " 194: Lasso(alpha=0.0027429682140453224),\n",
       " 195: Lasso(alpha=0.0010001365756976005),\n",
       " 196: Lasso(alpha=0.0010000337403620527),\n",
       " 197: Lasso(alpha=0.0019420780609902518),\n",
       " 198: Lasso(alpha=0.001000046267312033),\n",
       " 199: Lasso(alpha=0.0010005584660383031),\n",
       " 200: Lasso(alpha=0.205770376805898),\n",
       " 201: Lasso(alpha=0.0010000399279944),\n",
       " 202: Lasso(alpha=0.0010001367484200562),\n",
       " 203: Lasso(alpha=0.0010000380560933504),\n",
       " 204: Lasso(alpha=0.001189167535477224),\n",
       " 205: Lasso(alpha=0.0010001373638673773),\n",
       " 206: Lasso(alpha=0.0014973996943255393),\n",
       " 207: Lasso(alpha=0.00111078547010116),\n",
       " 208: Lasso(alpha=0.001571472720875736),\n",
       " 209: Lasso(alpha=0.0010000257714549985),\n",
       " 210: Lasso(alpha=0.03187357974423571),\n",
       " 211: Lasso(alpha=0.0010000844339467384),\n",
       " 212: Lasso(alpha=0.09296311220283864),\n",
       " 213: Lasso(alpha=0.0010572425944307374),\n",
       " 214: Lasso(alpha=0.02428444230046614),\n",
       " 215: Lasso(alpha=0.0010001642285137047),\n",
       " 216: Lasso(alpha=0.001000034710055515),\n",
       " 217: Lasso(alpha=0.0010001236638634801),\n",
       " 218: Lasso(alpha=0.0018524093873950348),\n",
       " 219: Lasso(alpha=0.0010001875041033782),\n",
       " 220: Lasso(alpha=0.0010001423062288716),\n",
       " 221: Lasso(alpha=0.0010001880043544796),\n",
       " 222: Lasso(alpha=0.001731255655847985),\n",
       " 223: Lasso(alpha=0.0010001106414336389),\n",
       " 224: Lasso(alpha=0.001000110769551496),\n",
       " 225: Lasso(alpha=0.0010000936488069145),\n",
       " 226: Lasso(alpha=0.0010000505607049592),\n",
       " 227: Lasso(alpha=0.0010611771504417254),\n",
       " 228: Lasso(alpha=0.01636748699678857),\n",
       " 229: Lasso(alpha=0.0010001232438847107),\n",
       " 230: Lasso(alpha=0.020775212040629334),\n",
       " 231: Lasso(alpha=0.001212735215786948),\n",
       " 232: Lasso(alpha=0.0010000332194274033),\n",
       " 233: Lasso(alpha=0.001000449767933072),\n",
       " 234: Lasso(alpha=0.02365903269692922),\n",
       " 235: Lasso(alpha=0.0010001116551998969),\n",
       " 236: Lasso(alpha=0.027626377763013167),\n",
       " 237: Lasso(alpha=0.0010001690553619348),\n",
       " 238: Lasso(alpha=0.02681544995726285),\n",
       " 239: Lasso(alpha=0.001000010933080453),\n",
       " 240: Lasso(alpha=0.08749309135941293),\n",
       " 241: Lasso(alpha=0.0010270557984778123),\n",
       " 242: Lasso(alpha=0.07536503284043392),\n",
       " 243: Lasso(alpha=0.001000103751524241),\n",
       " 244: Lasso(alpha=0.0011239729496036756),\n",
       " 245: Lasso(alpha=0.0021153993272156404),\n",
       " 246: Lasso(alpha=0.001000007627756812),\n",
       " 247: Lasso(alpha=0.0014769614667664323),\n",
       " 248: Lasso(alpha=0.008393144205885212),\n",
       " 249: Lasso(alpha=0.04637286300011754),\n",
       " 250: Lasso(alpha=0.0016444767369871633),\n",
       " 251: Lasso(alpha=0.0010002484086557178),\n",
       " 252: Lasso(alpha=0.041170583550788196),\n",
       " 253: Lasso(alpha=0.02786865247189058),\n",
       " 254: Lasso(alpha=0.0010000179674941243),\n",
       " 255: Lasso(alpha=0.0010556107416575778),\n",
       " 256: Lasso(alpha=0.03971996487633538),\n",
       " 257: Lasso(alpha=0.001000012907657336),\n",
       " 258: Lasso(alpha=0.0010000188130390526),\n",
       " 259: Lasso(alpha=0.005491800910629162),\n",
       " 260: Lasso(alpha=0.0010518583047186543),\n",
       " 261: Lasso(alpha=0.0010693127906133628),\n",
       " 262: Lasso(alpha=0.009577987421141068),\n",
       " 263: Lasso(alpha=0.0016518067073933657),\n",
       " 264: Lasso(alpha=0.0010000393208724912),\n",
       " 265: Lasso(alpha=0.0125717694459415),\n",
       " 266: Lasso(alpha=0.15360264797346257),\n",
       " 267: Lasso(alpha=0.0010285126901795627),\n",
       " 268: Lasso(alpha=0.014223268427453473),\n",
       " 269: Lasso(alpha=0.0010000503796310008),\n",
       " 270: Lasso(alpha=0.001000091208573973),\n",
       " 271: Lasso(alpha=0.004683376330220832),\n",
       " 272: Lasso(alpha=0.0010918719036009882),\n",
       " 273: Lasso(alpha=0.13960356291973627),\n",
       " 274: Lasso(alpha=0.0010002301804382572),\n",
       " 275: Lasso(alpha=0.0010004596338122694),\n",
       " 276: Lasso(alpha=0.0010000690986103442),\n",
       " 277: Lasso(alpha=0.0010003730195202681),\n",
       " 278: Lasso(alpha=0.0020465827401149753),\n",
       " 279: Lasso(alpha=0.0010000080877549293),\n",
       " 280: Lasso(alpha=0.013549635433569126),\n",
       " 281: Lasso(alpha=0.028432454069477836),\n",
       " 282: Lasso(alpha=0.0814905996214663),\n",
       " 283: Lasso(alpha=0.0010000456139047957),\n",
       " 284: Lasso(alpha=0.0010000618111906897),\n",
       " 285: Lasso(alpha=0.016474591860578185),\n",
       " 286: Lasso(alpha=0.0010000646672707954),\n",
       " 287: Lasso(alpha=0.0601221337100237),\n",
       " 288: Lasso(alpha=0.01225564038611103),\n",
       " 289: Lasso(alpha=0.001000034328492087),\n",
       " 290: Lasso(alpha=0.004230443845436532),\n",
       " 291: Lasso(alpha=0.1334788986902864),\n",
       " 292: Lasso(alpha=0.0018469400259744826),\n",
       " 293: Lasso(alpha=0.03043719811322814),\n",
       " 294: Lasso(alpha=0.01590453551290334),\n",
       " 295: Lasso(alpha=0.028661664605364175),\n",
       " 296: Lasso(alpha=0.0010004047042251813),\n",
       " 297: Lasso(alpha=0.0010000231634215765),\n",
       " 298: Lasso(alpha=0.009176395472035257),\n",
       " 299: Lasso(alpha=0.0112304942919494),\n",
       " 300: Lasso(alpha=0.0024610681010416653),\n",
       " 301: Lasso(alpha=0.0010001675717540746),\n",
       " 302: Lasso(alpha=0.0010002597455307596),\n",
       " 303: Lasso(alpha=0.0345399366069658),\n",
       " 304: Lasso(alpha=0.0010000015614944164),\n",
       " 305: Lasso(alpha=0.0010000063785657995),\n",
       " 306: Lasso(alpha=0.0010000864348828288),\n",
       " 307: Lasso(alpha=0.0010001075960257228),\n",
       " 308: Lasso(alpha=0.001147772035322689),\n",
       " 309: Lasso(alpha=0.010076973971044909),\n",
       " 310: Lasso(alpha=0.0010000217870131953),\n",
       " 311: Lasso(alpha=0.011674653518791074),\n",
       " 312: Lasso(alpha=0.002205948894180321),\n",
       " 313: Lasso(alpha=0.0010000018552378236),\n",
       " 314: Lasso(alpha=0.0010000772868337243),\n",
       " 315: Lasso(alpha=0.0010000995086515872),\n",
       " 316: Lasso(alpha=0.0013522295529961874),\n",
       " 317: Lasso(alpha=0.001000074374660148),\n",
       " 318: Lasso(alpha=0.0010002229357255969),\n",
       " 319: Lasso(alpha=0.007878329118304998),\n",
       " 320: Lasso(alpha=0.0016349202889164507),\n",
       " 321: Lasso(alpha=0.0010000979855086863),\n",
       " 322: Lasso(alpha=0.15869399374400864),\n",
       " 323: Lasso(alpha=0.046604014138351656),\n",
       " 324: Lasso(alpha=0.031782087648953336),\n",
       " 325: Lasso(alpha=0.012657343267639351),\n",
       " 326: Lasso(alpha=0.030617098207883723),\n",
       " 327: Lasso(alpha=0.01904349843717388),\n",
       " 328: Lasso(alpha=0.0011261797154759254),\n",
       " 329: Lasso(alpha=0.001000161727533562),\n",
       " 330: Lasso(alpha=0.0010003083098079405),\n",
       " 331: Lasso(alpha=0.0196808717182819),\n",
       " 332: Lasso(alpha=0.019126187778298456),\n",
       " 333: Lasso(alpha=0.0010000712574311551),\n",
       " 334: Lasso(alpha=0.2063538884906891),\n",
       " 335: Lasso(alpha=0.0020654120711883174),\n",
       " 336: Lasso(alpha=0.01789334675942307),\n",
       " 337: Lasso(alpha=0.0010224572387917774),\n",
       " 338: Lasso(alpha=0.0010001553283378222),\n",
       " 339: Lasso(alpha=0.0029663149748765214),\n",
       " 340: Lasso(alpha=0.0010003965638067174),\n",
       " 341: Lasso(alpha=0.0010001492721723288),\n",
       " 342: Lasso(alpha=0.002047130887691866),\n",
       " 343: Lasso(alpha=0.001030187422802363),\n",
       " 344: Lasso(alpha=0.015894654574784537),\n",
       " 345: Lasso(alpha=0.001000048701421632),\n",
       " 346: Lasso(alpha=0.020068416838890824),\n",
       " 347: Lasso(alpha=0.0010000147008077075),\n",
       " 348: Lasso(alpha=0.24463596732984097),\n",
       " 349: Lasso(alpha=0.0013263052856227503),\n",
       " 350: Lasso(alpha=0.030259321324168337),\n",
       " 351: Lasso(alpha=0.001000052390220345),\n",
       " 352: Lasso(alpha=0.0016287434249380543),\n",
       " 353: Lasso(alpha=0.0010000166032024093),\n",
       " 354: Lasso(alpha=0.0010000616025342848),\n",
       " 355: Lasso(alpha=0.030931926690232793),\n",
       " 356: Lasso(alpha=0.0010000583231001257),\n",
       " 357: Lasso(alpha=0.0010000480055398018),\n",
       " 358: Lasso(alpha=0.001236429319902766),\n",
       " 359: Lasso(alpha=0.02688841206876849),\n",
       " 360: Lasso(alpha=0.0010001116873827977),\n",
       " 361: Lasso(alpha=0.0014140356443323732),\n",
       " 362: Lasso(alpha=0.0010139800285506987),\n",
       " 363: Lasso(alpha=0.0013713837603904291),\n",
       " 364: Lasso(alpha=0.0010001364369271876),\n",
       " 365: Lasso(alpha=0.001347624160088202),\n",
       " 366: Lasso(alpha=0.038734394803262615),\n",
       " 367: Lasso(alpha=0.050664819002179916),\n",
       " 368: Lasso(alpha=0.0010480255548570754),\n",
       " 369: Lasso(alpha=0.025394161585538668),\n",
       " 370: Lasso(alpha=0.0021429686096878417),\n",
       " 371: Lasso(alpha=0.007107274216548439),\n",
       " 372: Lasso(alpha=0.0010000053116678862),\n",
       " 373: Lasso(alpha=0.0016933915982262628),\n",
       " 374: Lasso(alpha=0.0013918701904698958),\n",
       " 375: Lasso(alpha=0.0034338872916087632),\n",
       " 376: Lasso(alpha=0.001000094512609503),\n",
       " 377: Lasso(alpha=0.013282969988766699),\n",
       " 378: Lasso(alpha=0.00697045789191147),\n",
       " 379: Lasso(alpha=0.001000029886246652),\n",
       " 380: Lasso(alpha=0.013682280589073902),\n",
       " 381: Lasso(alpha=0.005376548869271548),\n",
       " 382: Lasso(alpha=0.023841552440337876),\n",
       " 383: Lasso(alpha=0.0012445261049576152),\n",
       " 384: Lasso(alpha=0.001000320560714138),\n",
       " 385: Lasso(alpha=0.0012092420956993175),\n",
       " 386: Lasso(alpha=0.002525334818172109),\n",
       " 387: Lasso(alpha=0.025654833458058992),\n",
       " 388: Lasso(alpha=0.0010000584732374168),\n",
       " 389: Lasso(alpha=0.0012143909916118966),\n",
       " 390: Lasso(alpha=0.0012063755654288444),\n",
       " 391: Lasso(alpha=0.001352468995589006),\n",
       " 392: Lasso(alpha=0.0046037664377652264),\n",
       " 393: Lasso(alpha=0.0010000910524708441),\n",
       " 394: Lasso(alpha=0.009921473913282778),\n",
       " 395: Lasso(alpha=0.0011008873666167056),\n",
       " 396: Lasso(alpha=0.0012009561462244715),\n",
       " 397: Lasso(alpha=0.0010002912554630307),\n",
       " 398: Lasso(alpha=0.0010001397600534641),\n",
       " 399: Lasso(alpha=0.0010000624476202223),\n",
       " 400: Lasso(alpha=0.004185120172504421),\n",
       " 401: Lasso(alpha=0.0010954749569528747),\n",
       " 402: Lasso(alpha=0.1655810037135709),\n",
       " 403: Lasso(alpha=0.001000262459336492),\n",
       " 404: Lasso(alpha=0.001000157154111368),\n",
       " 405: Lasso(alpha=0.0010843463286520038),\n",
       " 406: Lasso(alpha=0.0010000479170012824),\n",
       " 407: Lasso(alpha=0.02074048514908447),\n",
       " 408: Lasso(alpha=0.0010000073817853622),\n",
       " 409: Lasso(alpha=0.0010002243090158737),\n",
       " 410: Lasso(alpha=0.001374195533539163),\n",
       " 411: Lasso(alpha=0.0010000775694545506),\n",
       " 412: Lasso(alpha=0.001021802326883795),\n",
       " 413: Lasso(alpha=0.11078676900039355),\n",
       " 414: Lasso(alpha=0.0012049935007416852),\n",
       " 415: Lasso(alpha=0.006746300276796967),\n",
       " 416: Lasso(alpha=0.01792791128937188),\n",
       " 417: Lasso(alpha=0.014665821032080797),\n",
       " 418: Lasso(alpha=0.007118336964808448),\n",
       " 419: Lasso(alpha=0.0010000124997701552),\n",
       " 420: Lasso(alpha=0.002333701317965887),\n",
       " 421: Lasso(alpha=0.0031003590634616227),\n",
       " 422: Lasso(alpha=0.26740704852536296),\n",
       " 423: Lasso(alpha=0.0015835308854084452),\n",
       " 424: Lasso(alpha=0.0010003206762490165),\n",
       " 425: Lasso(alpha=0.0010000040354144583),\n",
       " 426: Lasso(alpha=0.0010001149880948259),\n",
       " 427: Lasso(alpha=0.019121715912440145),\n",
       " 428: Lasso(alpha=0.004803420461211395),\n",
       " 429: Lasso(alpha=0.0014096055065266904),\n",
       " 430: Lasso(alpha=0.07960825588391343),\n",
       " 431: Lasso(alpha=0.0010002354284419025),\n",
       " 432: Lasso(alpha=0.0012643444551671814),\n",
       " 433: Lasso(alpha=0.16936558422520628),\n",
       " 434: Lasso(alpha=0.0010000511169610913),\n",
       " 435: Lasso(alpha=0.006425953886673182),\n",
       " 436: Lasso(alpha=0.0010000691891307197),\n",
       " 437: Lasso(alpha=0.0010101575366697397),\n",
       " 438: Lasso(alpha=0.0014374881079039453),\n",
       " 439: Lasso(alpha=0.0010001895814883176),\n",
       " 440: Lasso(alpha=0.0010000246574823984),\n",
       " 441: Lasso(alpha=0.34693498790772503),\n",
       " 442: Lasso(alpha=0.0010000202357507285),\n",
       " 443: Lasso(alpha=0.0010000661390592277),\n",
       " 444: Lasso(alpha=0.0369650399742522),\n",
       " 445: Lasso(alpha=0.001032903842172308),\n",
       " 446: Lasso(alpha=0.21717965580392765),\n",
       " 447: Lasso(alpha=0.03011810557905658),\n",
       " 448: Lasso(alpha=0.00100005082063715),\n",
       " 449: Lasso(alpha=0.0010001216013779345),\n",
       " 450: Lasso(alpha=0.0021637543418946527),\n",
       " 451: Lasso(alpha=0.017771081458763164),\n",
       " 452: Lasso(alpha=0.0010003516091054983),\n",
       " 453: Lasso(alpha=0.0011694964559914548),\n",
       " 454: Lasso(alpha=0.0010048178826845145),\n",
       " 455: Lasso(alpha=0.0010000419427826847),\n",
       " 456: Lasso(alpha=0.001000097497679303),\n",
       " 457: Lasso(alpha=0.0010001092268254077),\n",
       " 458: Lasso(alpha=0.16320232822947203),\n",
       " 459: Lasso(alpha=0.003478544081082824),\n",
       " 460: Lasso(alpha=0.031182850347674596),\n",
       " 461: Lasso(alpha=0.0010003903728051727),\n",
       " 462: Lasso(alpha=0.23846053734277445),\n",
       " 463: Lasso(alpha=0.007651309819424844),\n",
       " 464: Lasso(alpha=0.0010000173828192238),\n",
       " 465: Lasso(alpha=0.01482913904377299),\n",
       " 466: Lasso(alpha=0.0010875760018380764),\n",
       " 467: Lasso(alpha=0.0010000399841337175),\n",
       " 468: Lasso(alpha=0.0010000964595836184),\n",
       " 469: Lasso(alpha=0.02482670899940286),\n",
       " 470: Lasso(alpha=0.0014866757623501333),\n",
       " 471: Lasso(alpha=0.0010001068528045882),\n",
       " 472: Lasso(alpha=0.03134294280450153),\n",
       " 473: Lasso(alpha=0.221147651331963),\n",
       " 474: Lasso(alpha=0.14697750124478817),\n",
       " 475: Lasso(alpha=0.0010588904872006187),\n",
       " 476: Lasso(alpha=0.0010000953319599325),\n",
       " 477: Lasso(alpha=0.0025194012147436396),\n",
       " 478: Lasso(alpha=0.0010000231186070656),\n",
       " 479: Lasso(alpha=0.020017125042801162),\n",
       " 480: Lasso(alpha=0.0010002007020087364),\n",
       " 481: Lasso(alpha=0.001390414001172316),\n",
       " 482: Lasso(alpha=0.001000036688531242),\n",
       " 483: Lasso(alpha=0.06132772390594605),\n",
       " 484: Lasso(alpha=0.0010000631127804356),\n",
       " 485: Lasso(alpha=0.058948016869883164),\n",
       " 486: Lasso(alpha=0.00199856879807839),\n",
       " 487: Lasso(alpha=0.0012795926725123331),\n",
       " 488: Lasso(alpha=0.0010000006740751388),\n",
       " 489: Lasso(alpha=0.03389036638171358),\n",
       " 490: Lasso(alpha=0.0010000687570009936),\n",
       " 491: Lasso(alpha=0.0010000224739737855),\n",
       " 492: Lasso(alpha=0.001000000214063059),\n",
       " 493: Lasso(alpha=0.001091823456125957),\n",
       " 494: Lasso(alpha=0.0010001078964806936),\n",
       " 495: Lasso(alpha=0.0010000273449809235),\n",
       " 496: Lasso(alpha=0.008991572079810021),\n",
       " 497: Lasso(alpha=0.0011405918679921782),\n",
       " 498: Lasso(alpha=0.0038014453854031374),\n",
       " 499: Lasso(alpha=0.042131486780802654),\n",
       " 500: Lasso(alpha=0.09646851158450624),\n",
       " 501: Lasso(alpha=0.0010000602515990924),\n",
       " 502: Lasso(alpha=0.1774761003796439),\n",
       " 503: Lasso(alpha=0.0017041463132038488),\n",
       " 504: Lasso(alpha=0.0010000554446091717),\n",
       " 505: Lasso(alpha=0.001000219145057632),\n",
       " 506: Lasso(alpha=0.0010000299203397178),\n",
       " 507: Lasso(alpha=0.040541957154799274),\n",
       " 508: Lasso(alpha=0.0011262200279955235),\n",
       " 509: Lasso(alpha=0.0010000843687100825),\n",
       " 510: Lasso(alpha=0.0015259530752328872),\n",
       " 511: Lasso(alpha=0.0010000040470077853),\n",
       " 512: Lasso(alpha=0.01146169369861164),\n",
       " 513: Lasso(alpha=0.0010000717690846629),\n",
       " 514: Lasso(alpha=0.0010000533283763696),\n",
       " 515: Lasso(alpha=0.0017051369445857277),\n",
       " 516: Lasso(alpha=0.07162792920196283),\n",
       " 517: Lasso(alpha=0.016944915775825034),\n",
       " 518: Lasso(alpha=0.001000011074679218),\n",
       " 519: Lasso(alpha=0.011505055925036839),\n",
       " 520: Lasso(alpha=0.03259825447755018),\n",
       " 521: Lasso(alpha=0.0010001576524188355),\n",
       " 522: Lasso(alpha=0.010321507653635069),\n",
       " 523: Lasso(alpha=0.0010420662562601116),\n",
       " 524: Lasso(alpha=0.0018678050097200034),\n",
       " 525: Lasso(alpha=0.14479172523899755),\n",
       " 526: Lasso(alpha=0.04267308394555009),\n",
       " 527: Lasso(alpha=0.0010000184406612047),\n",
       " 528: Lasso(alpha=0.001000065836337503),\n",
       " 529: Lasso(alpha=0.0010000039848680057),\n",
       " 530: Lasso(alpha=0.028323383603711602),\n",
       " 531: Lasso(alpha=0.02045462390141746),\n",
       " 532: Lasso(alpha=0.008658171355988441),\n",
       " 533: Lasso(alpha=0.03386524100132339),\n",
       " 534: Lasso(alpha=0.0010001458664899048),\n",
       " 535: Lasso(alpha=0.026975516631163647),\n",
       " 536: Lasso(alpha=0.0011367269694717355),\n",
       " 537: Lasso(alpha=0.0010000991518918608),\n",
       " 538: Lasso(alpha=0.004221322440273841),\n",
       " 539: Lasso(alpha=0.1735896885581293),\n",
       " 540: Lasso(alpha=0.0010000166505899032),\n",
       " 541: Lasso(alpha=0.038946898321682036),\n",
       " 542: Lasso(alpha=0.001514908312092211),\n",
       " 543: Lasso(alpha=0.006233440090576488),\n",
       " 544: Lasso(alpha=0.0011306009644973716),\n",
       " 545: Lasso(alpha=0.0020776081666933123),\n",
       " 546: Lasso(alpha=0.02447097800765461),\n",
       " 547: Lasso(alpha=0.0010000970421460427),\n",
       " 548: Lasso(alpha=0.004821251500663129),\n",
       " 549: Lasso(alpha=0.0023631925434768643),\n",
       " 550: Lasso(alpha=0.002842937346144901),\n",
       " 551: Lasso(alpha=0.037511338806839926),\n",
       " 552: Lasso(alpha=0.001000142290207113),\n",
       " 553: Lasso(alpha=0.16098185718745897),\n",
       " 554: Lasso(alpha=0.0014865399736844263),\n",
       " 555: Lasso(alpha=0.030608197928678506),\n",
       " 556: Lasso(alpha=0.09461958347464439),\n",
       " 557: Lasso(alpha=0.0010000132435364656),\n",
       " 558: Lasso(alpha=0.09626334770962319),\n",
       " 559: Lasso(alpha=0.0010003410376253424),\n",
       " 560: Lasso(alpha=0.0013392317806069061),\n",
       " 561: Lasso(alpha=0.0010000498335385626),\n",
       " 562: Lasso(alpha=0.1997612739600933),\n",
       " 563: Lasso(alpha=0.0010000390461293782),\n",
       " 564: Lasso(alpha=0.0010000146001739236),\n",
       " 565: Lasso(alpha=0.001000166057033652),\n",
       " 566: Lasso(alpha=0.12315423127230507),\n",
       " 567: Lasso(alpha=0.001089023369573141),\n",
       " 568: Lasso(alpha=0.0010002319453888476),\n",
       " 569: Lasso(alpha=0.01382559665438272),\n",
       " 570: Lasso(alpha=0.0049601157184976435),\n",
       " 571: Lasso(alpha=0.03762233116804571),\n",
       " 572: Lasso(alpha=0.012461955160435668),\n",
       " 573: Lasso(alpha=0.0037350852180080257),\n",
       " 574: Lasso(alpha=0.17631892407963323),\n",
       " 575: Lasso(alpha=0.0012646792175349457),\n",
       " 576: Lasso(alpha=0.022473416978823522),\n",
       " 577: Lasso(alpha=0.0010002437820873118),\n",
       " 578: Lasso(alpha=0.031003975417608774),\n",
       " 579: Lasso(alpha=0.02516435634511869),\n",
       " 580: Lasso(alpha=0.0012839702857545844),\n",
       " 581: Lasso(alpha=0.006281946845964694),\n",
       " 582: Lasso(alpha=0.027395412789834137),\n",
       " 583: Lasso(alpha=0.001000021763821613),\n",
       " 584: Lasso(alpha=0.0010459413865522476),\n",
       " 585: Lasso(alpha=0.2297711939263036),\n",
       " 586: Lasso(alpha=0.007680482998646271),\n",
       " 587: Lasso(alpha=0.022411355926952606),\n",
       " 588: Lasso(alpha=0.0010002471672712193),\n",
       " 589: Lasso(alpha=0.0011231156112643643),\n",
       " 590: Lasso(alpha=0.0010003157735861841),\n",
       " 591: Lasso(alpha=0.013652442188808346),\n",
       " 592: Lasso(alpha=0.0015661503442940307),\n",
       " 593: Lasso(alpha=0.003584127995328916),\n",
       " 594: Lasso(alpha=0.0010001373322850308),\n",
       " 595: Lasso(alpha=0.0010001105913030807),\n",
       " 596: Lasso(alpha=0.0010000645493541003),\n",
       " 597: Lasso(alpha=0.056726000154828586),\n",
       " 598: Lasso(alpha=0.0015495622365029387),\n",
       " 599: Lasso(alpha=0.0010454399433579935),\n",
       " 600: Lasso(alpha=0.0037196139608829007),\n",
       " 601: Lasso(alpha=0.013882157917540761),\n",
       " 602: Lasso(alpha=0.0010973278996772515),\n",
       " 603: Lasso(alpha=0.0010000790443172787),\n",
       " 604: Lasso(alpha=0.001000028941380502),\n",
       " 605: Lasso(alpha=0.043771163253231236),\n",
       " 606: Lasso(alpha=0.0038894952124310044),\n",
       " 607: Lasso(alpha=0.0010000001118651086),\n",
       " 608: Lasso(alpha=0.0024560113547367557),\n",
       " 609: Lasso(alpha=0.04285922671011908),\n",
       " 610: Lasso(alpha=0.0010000918208166237),\n",
       " 611: Lasso(alpha=0.0010002164903184312),\n",
       " 612: Lasso(alpha=0.0010001334109419864),\n",
       " 613: Lasso(alpha=0.0010000663436281778),\n",
       " 614: Lasso(alpha=0.016718606148097562),\n",
       " 615: Lasso(alpha=0.030402823088047454),\n",
       " 616: Lasso(alpha=0.0013134020128421674),\n",
       " 617: Lasso(alpha=0.1048574766825091),\n",
       " 618: Lasso(alpha=0.0010185991870013157),\n",
       " 619: Lasso(alpha=0.10665216315224653),\n",
       " 620: Lasso(alpha=0.001000259000352585),\n",
       " 621: Lasso(alpha=0.001000024149207499),\n",
       " 622: Lasso(alpha=0.0010001275077344632),\n",
       " 623: Lasso(alpha=0.0014444804613033804),\n",
       " 624: Lasso(alpha=0.0010001574095627483),\n",
       " 625: Lasso(alpha=0.0010001430496314218),\n",
       " 626: Lasso(alpha=0.0018849407539702613),\n",
       " 627: Lasso(alpha=0.0012508767731618962),\n",
       " 628: Lasso(alpha=0.001000000514584632),\n",
       " 629: Lasso(alpha=0.0010002702729829565),\n",
       " 630: Lasso(alpha=0.006590709388277017),\n",
       " 631: Lasso(alpha=0.00841563523381913),\n",
       " 632: Lasso(alpha=0.0010002379907050798),\n",
       " 633: Lasso(alpha=0.001000045252563311),\n",
       " 634: Lasso(alpha=0.0010001118607606693),\n",
       " 635: Lasso(alpha=0.021354214835759753),\n",
       " 636: Lasso(alpha=0.001194990735921829),\n",
       " 637: Lasso(alpha=0.2323787482678515),\n",
       " 638: Lasso(alpha=0.014238941857507053),\n",
       " 639: Lasso(alpha=0.0014265913572934217),\n",
       " 640: Lasso(alpha=0.0010081200521995601),\n",
       " 641: Lasso(alpha=0.03761445246880986),\n",
       " 642: Lasso(alpha=0.0013845465239630793),\n",
       " 643: Lasso(alpha=0.0011172638372333582),\n",
       " 644: Lasso(alpha=0.0012432098799950936),\n",
       " 645: Lasso(alpha=0.0010000083987393704),\n",
       " 646: Lasso(alpha=0.03777844114396458),\n",
       " 647: Lasso(alpha=0.15375175216078182),\n",
       " 648: Lasso(alpha=0.07424292377393842),\n",
       " 649: Lasso(alpha=0.001000071895845647),\n",
       " 650: Lasso(alpha=0.011450508566608132),\n",
       " 651: Lasso(alpha=0.04986407740144194),\n",
       " 652: Lasso(alpha=0.010837110462012389),\n",
       " 653: Lasso(alpha=0.003596756933535426),\n",
       " 654: Lasso(alpha=0.009108692162037763),\n",
       " 655: Lasso(alpha=0.1166516409925224),\n",
       " 656: Lasso(alpha=0.0010000736489984246),\n",
       " 657: Lasso(alpha=0.0010000610139682372),\n",
       " 658: Lasso(alpha=0.03288936416236118),\n",
       " 659: Lasso(alpha=0.038509088982008235),\n",
       " 660: Lasso(alpha=0.00424237408649243),\n",
       " 661: Lasso(alpha=0.002218839522725079),\n",
       " 662: Lasso(alpha=0.0017273441193431),\n",
       " 663: Lasso(alpha=0.007952887539902937),\n",
       " 664: Lasso(alpha=0.0010002097474792648),\n",
       " 665: Lasso(alpha=0.0010001698099799177),\n",
       " 666: Lasso(alpha=0.001000130779171199),\n",
       " 667: Lasso(alpha=0.0010000139810448728),\n",
       " 668: Lasso(alpha=0.001000198636226341),\n",
       " 669: Lasso(alpha=0.055471111956180146),\n",
       " 670: Lasso(alpha=0.0011031148848831655),\n",
       " 671: Lasso(alpha=0.0010002853628089915),\n",
       " 672: Lasso(alpha=0.03118483511258683),\n",
       " 673: Lasso(alpha=0.0010000250562720943),\n",
       " 674: Lasso(alpha=0.0014034575582665388),\n",
       " 675: Lasso(alpha=0.044698641457896655),\n",
       " 676: Lasso(alpha=0.023060045471104816),\n",
       " 677: Lasso(alpha=0.001048532554375164),\n",
       " 678: Lasso(alpha=0.02530550468429932),\n",
       " 679: Lasso(alpha=0.022165379694486287),\n",
       " 680: Lasso(alpha=0.0010000133126666121),\n",
       " 681: Lasso(alpha=0.0010000187495867935),\n",
       " 682: Lasso(alpha=0.0050569946043470156),\n",
       " 683: Lasso(alpha=0.0011719155398655467),\n",
       " 684: Lasso(alpha=0.002500796000715231),\n",
       " 685: Lasso(alpha=0.04573973570050297),\n",
       " 686: Lasso(alpha=0.0011879169107971712),\n",
       " 687: Lasso(alpha=0.003610934158515138),\n",
       " 688: Lasso(alpha=0.001000061971634075),\n",
       " 689: Lasso(alpha=0.0010000634208687544),\n",
       " 690: Lasso(alpha=0.004113486581812056),\n",
       " 691: Lasso(alpha=0.0049765727436067555),\n",
       " 692: Lasso(alpha=0.0012645833713063354),\n",
       " 693: Lasso(alpha=0.006635842398851186),\n",
       " 694: Lasso(alpha=0.003752911323551074),\n",
       " 695: Lasso(alpha=0.0010002130470569085),\n",
       " 696: Lasso(alpha=0.014242462050264021),\n",
       " 697: Lasso(alpha=0.0010003919378771247),\n",
       " 698: Lasso(alpha=0.001000095076124517),\n",
       " 699: Lasso(alpha=0.005271612255708791),\n",
       " 700: Lasso(alpha=0.0015956046568320642),\n",
       " 701: Lasso(alpha=0.039129596233998955),\n",
       " 702: Lasso(alpha=0.005391018490945812),\n",
       " 703: Lasso(alpha=0.0010000307838818128),\n",
       " 704: Lasso(alpha=0.0010000680064876576),\n",
       " 705: Lasso(alpha=0.0010000964887338134),\n",
       " 706: Lasso(alpha=0.002034683998977766),\n",
       " 707: Lasso(alpha=0.021494329705127706),\n",
       " 708: Lasso(alpha=0.0010001225268689077),\n",
       " 709: Lasso(alpha=0.006909983726750016),\n",
       " 710: Lasso(alpha=0.0010001521827747613),\n",
       " 711: Lasso(alpha=0.012831865237574422),\n",
       " 712: Lasso(alpha=0.09240998155602333),\n",
       " 713: Lasso(alpha=0.0013059788038047538),\n",
       " 714: Lasso(alpha=0.03893692935447706),\n",
       " 715: Lasso(alpha=0.17871518544867834),\n",
       " 716: Lasso(alpha=0.001000002191752191),\n",
       " 717: Lasso(alpha=0.001000091252090791),\n",
       " 718: Lasso(alpha=0.001009505944046599),\n",
       " 719: Lasso(alpha=0.001043098307107612),\n",
       " 720: Lasso(alpha=0.040579972748214774),\n",
       " 721: Lasso(alpha=0.001000093452611229),\n",
       " 722: Lasso(alpha=0.027041328581649267),\n",
       " 723: Lasso(alpha=0.09855576665326415),\n",
       " 724: Lasso(alpha=0.0010001961798127852),\n",
       " 725: Lasso(alpha=0.0010000353786805251),\n",
       " 726: Lasso(alpha=0.020055945058522442),\n",
       " 727: Lasso(alpha=0.0010000809391864918),\n",
       " 728: Lasso(alpha=0.004417958776530038),\n",
       " 729: Lasso(alpha=0.0010000182069567441),\n",
       " 730: Lasso(alpha=0.0010000109100531634),\n",
       " 731: Lasso(alpha=0.029661448242985725),\n",
       " 732: Lasso(alpha=0.0010000162659727385),\n",
       " 733: Lasso(alpha=0.28363390930888027),\n",
       " 734: Lasso(alpha=0.03242895732954488),\n",
       " 735: Lasso(alpha=0.001764721643528312),\n",
       " 736: Lasso(alpha=0.003966322949921114),\n",
       " 737: Lasso(alpha=0.0010207371419322998),\n",
       " 738: Lasso(alpha=0.024463243066863573),\n",
       " 739: Lasso(alpha=0.001418283312087266),\n",
       " 740: Lasso(alpha=0.0010000110240157639),\n",
       " 741: Lasso(alpha=0.0022417145191041643),\n",
       " 742: Lasso(alpha=0.0010000269559438115),\n",
       " 743: Lasso(alpha=0.001000070680548863),\n",
       " 744: Lasso(alpha=0.0019640610296553116),\n",
       " 745: Lasso(alpha=0.012777093758495991),\n",
       " 746: Lasso(alpha=0.0010000219286890038),\n",
       " 747: Lasso(alpha=0.0016045779476868826),\n",
       " 748: Lasso(alpha=0.001350157304231583),\n",
       " 749: Lasso(alpha=0.011230874908720276),\n",
       " 750: Lasso(alpha=0.0010000176840785852),\n",
       " 751: Lasso(alpha=0.0014948755860816488),\n",
       " 752: Lasso(alpha=0.0010002433015650553),\n",
       " 753: Lasso(alpha=0.0010002808960668033),\n",
       " 754: Lasso(alpha=0.03242095987661334),\n",
       " 755: Lasso(alpha=0.0013346206787156888),\n",
       " 756: Lasso(alpha=0.004400945680439938),\n",
       " 757: Lasso(alpha=0.19252338245799014),\n",
       " 758: Lasso(alpha=0.001837629421836766),\n",
       " 759: Lasso(alpha=0.0010000394383616181),\n",
       " 760: Lasso(alpha=0.07504853100101776),\n",
       " 761: Lasso(alpha=0.001000048015023515),\n",
       " 762: Lasso(alpha=0.001000064065183179),\n",
       " 763: Lasso(alpha=0.04329941976852228),\n",
       " 764: Lasso(alpha=0.009777238798931434),\n",
       " 765: Lasso(alpha=0.012603626604317717),\n",
       " 766: Lasso(alpha=0.04951838492996552),\n",
       " 767: Lasso(alpha=0.14424166690597362),\n",
       " 768: Lasso(alpha=0.023649067012574864),\n",
       " 769: Lasso(alpha=0.03762073179017563),\n",
       " 770: Lasso(alpha=0.04709700451075127),\n",
       " 771: Lasso(alpha=0.009551051860408258),\n",
       " 772: Lasso(alpha=0.001318756339816908),\n",
       " 773: Lasso(alpha=0.0014277125101191787),\n",
       " 774: Lasso(alpha=0.092013077796892),\n",
       " 775: Lasso(alpha=0.02214039817211414),\n",
       " 776: Lasso(alpha=0.0010001473491572082),\n",
       " 777: Lasso(alpha=0.025597241062445947),\n",
       " 778: Lasso(alpha=0.0010000356190650334),\n",
       " 779: Lasso(alpha=0.0010000072004288432),\n",
       " 780: Lasso(alpha=0.0012285644533197115),\n",
       " 781: Lasso(alpha=0.02830759206524863),\n",
       " 782: Lasso(alpha=0.0010000418600682316),\n",
       " 783: Lasso(alpha=0.028911401159306693),\n",
       " 784: Lasso(alpha=0.007784194181915216),\n",
       " 785: Lasso(alpha=0.0013779602433238352),\n",
       " 786: Lasso(alpha=0.0017235601568691323),\n",
       " 787: Lasso(alpha=0.001000031017138783),\n",
       " 788: Lasso(alpha=0.010232094471828816),\n",
       " 789: Lasso(alpha=0.030594651567121767),\n",
       " 790: Lasso(alpha=0.22014899385271086),\n",
       " 791: Lasso(alpha=0.033688298842734644),\n",
       " 792: Lasso(alpha=0.009257969445813974),\n",
       " 793: Lasso(alpha=0.07615696165096908),\n",
       " 794: Lasso(alpha=0.001422784019766941),\n",
       " 795: Lasso(alpha=0.025528934569687287),\n",
       " 796: Lasso(alpha=0.0010000216869894471),\n",
       " 797: Lasso(alpha=0.22267049470755715),\n",
       " 798: Lasso(alpha=0.02949031688868533),\n",
       " 799: Lasso(alpha=0.0010000215850440222),\n",
       " 800: Lasso(alpha=0.0014940435009915699),\n",
       " 801: Lasso(alpha=0.027280380862218623),\n",
       " 802: Lasso(alpha=0.0010406925000400274),\n",
       " 803: Lasso(alpha=0.011356389946495835),\n",
       " 804: Lasso(alpha=0.0017418514734227856),\n",
       " 805: Lasso(alpha=0.014025514792768057),\n",
       " 806: Lasso(alpha=0.001740282540030099),\n",
       " 807: Lasso(alpha=0.001000027199313753),\n",
       " 808: Lasso(alpha=0.0010000386717052884),\n",
       " 809: Lasso(alpha=0.05552314140203305),\n",
       " 810: Lasso(alpha=0.0012349301168145766),\n",
       " 811: Lasso(alpha=0.0069835090999366975),\n",
       " 812: Lasso(alpha=0.002059148555927095),\n",
       " 813: Lasso(alpha=0.010372178370411333),\n",
       " 814: Lasso(alpha=0.0012636187951293536),\n",
       " 815: Lasso(alpha=0.001000008237117073),\n",
       " 816: Lasso(alpha=0.0021120024203866985),\n",
       " 817: Lasso(alpha=0.025935996284447115),\n",
       " 818: Lasso(alpha=0.023265186113559707),\n",
       " 819: Lasso(alpha=0.0010008570667574602),\n",
       " 820: Lasso(alpha=0.001460283868084807),\n",
       " 821: Lasso(alpha=0.001000046333154934),\n",
       " 822: Lasso(alpha=0.0017834181732493068),\n",
       " 823: Lasso(alpha=0.0010412911500052035),\n",
       " 824: Lasso(alpha=0.07849708031055527),\n",
       " 825: Lasso(alpha=0.0010000467738171875),\n",
       " 826: Lasso(alpha=0.001000017205964567),\n",
       " 827: Lasso(alpha=0.005151370906371072),\n",
       " 828: Lasso(alpha=0.001000004533676152),\n",
       " 829: Lasso(alpha=0.001074460588366163),\n",
       " 830: Lasso(alpha=0.01578111447847648),\n",
       " 831: Lasso(alpha=0.001762021816674168),\n",
       " 832: Lasso(alpha=0.0443148670717062),\n",
       " 833: Lasso(alpha=0.0012028932264149632),\n",
       " 834: Lasso(alpha=0.0013341700370521484),\n",
       " 835: Lasso(alpha=0.0010281344617002735),\n",
       " 836: Lasso(alpha=0.018312753147992186),\n",
       " 837: Lasso(alpha=0.003893945721281572),\n",
       " 838: Lasso(alpha=0.0010001678932308412),\n",
       " 839: Lasso(alpha=0.01064404220373597),\n",
       " 840: Lasso(alpha=0.001162862474306879),\n",
       " 841: Lasso(alpha=0.0018730176319325627),\n",
       " 842: Lasso(alpha=0.001000000758678014),\n",
       " 843: Lasso(alpha=0.08945970937663238),\n",
       " 844: Lasso(alpha=0.0010000123623277513),\n",
       " 845: Lasso(alpha=0.001000006105336791),\n",
       " 846: Lasso(alpha=0.0035169420598969887),\n",
       " 847: Lasso(alpha=0.28439089034957965),\n",
       " 848: Lasso(alpha=0.0010000393761417465),\n",
       " 849: Lasso(alpha=0.004413088981385952),\n",
       " 850: Lasso(alpha=0.0015124125805758204),\n",
       " 851: Lasso(alpha=0.0010002553600063494),\n",
       " 852: Lasso(alpha=0.0010001274654179652),\n",
       " 853: Lasso(alpha=0.005350060061341301),\n",
       " 854: Lasso(alpha=0.001279481280948764),\n",
       " 855: Lasso(alpha=0.0010001308664887064),\n",
       " 856: Lasso(alpha=0.001733588176619478),\n",
       " 857: Lasso(alpha=0.0010001503553733802),\n",
       " 858: Lasso(alpha=0.007086510862221713),\n",
       " 859: Lasso(alpha=0.03186064891102521),\n",
       " 860: Lasso(alpha=0.0010015311211953063),\n",
       " 861: Lasso(alpha=0.009805444042960215),\n",
       " 862: Lasso(alpha=0.0010001349697881458),\n",
       " 863: Lasso(alpha=0.0010404446860006068),\n",
       " 864: Lasso(alpha=0.0010000301674975341),\n",
       " 865: Lasso(alpha=0.0010005232919356043),\n",
       " 866: Lasso(alpha=0.018829759138745995),\n",
       " 867: Lasso(alpha=0.007149382871228034),\n",
       " 868: Lasso(alpha=0.07541275505698439),\n",
       " 869: Lasso(alpha=0.0019509081293657483),\n",
       " 870: Lasso(alpha=0.0012577289361805908),\n",
       " 871: Lasso(alpha=0.0010001013517085258),\n",
       " 872: Lasso(alpha=0.2174035024980661),\n",
       " 873: Lasso(alpha=0.18463484713591352),\n",
       " 874: Lasso(alpha=0.008894165266482675),\n",
       " 875: Lasso(alpha=0.0012144840625021895),\n",
       " 876: Lasso(alpha=0.001000631769255323),\n",
       " 877: Lasso(alpha=0.01954828130510004),\n",
       " 878: Lasso(alpha=0.00100011563549896),\n",
       " 879: Lasso(alpha=0.0010000548629109035),\n",
       " 880: Lasso(alpha=0.0010000138339502668),\n",
       " 881: Lasso(alpha=0.0010000130903281793),\n",
       " 882: Lasso(alpha=0.0011865505003984193),\n",
       " 883: Lasso(alpha=0.0010000895512635396),\n",
       " 884: Lasso(alpha=0.043726011964715504),\n",
       " 885: Lasso(alpha=0.02205695844429773),\n",
       " 886: Lasso(alpha=0.006512235374179204),\n",
       " 887: Lasso(alpha=0.0010002209525703876),\n",
       " 888: Lasso(alpha=0.0013176943536319292),\n",
       " 889: Lasso(alpha=0.0010001994382331945),\n",
       " 890: Lasso(alpha=0.026673091680975917),\n",
       " 891: Lasso(alpha=0.0010000706064837227),\n",
       " 892: Lasso(alpha=0.013702300841068061),\n",
       " 893: Lasso(alpha=0.0023176977359714176),\n",
       " 894: Lasso(alpha=0.0010002602507249484),\n",
       " 895: Lasso(alpha=0.0011835697695960444),\n",
       " 896: Lasso(alpha=0.18906432689428962),\n",
       " 897: Lasso(alpha=0.003714543318020519),\n",
       " 898: Lasso(alpha=0.21167941417593333),\n",
       " 899: Lasso(alpha=0.025889639772308338),\n",
       " 900: Lasso(alpha=0.0012073187586314207),\n",
       " 901: Lasso(alpha=0.05368574236149088),\n",
       " 902: Lasso(alpha=0.19821521007680876),\n",
       " 903: Lasso(alpha=0.0013571062508482582),\n",
       " 904: Lasso(alpha=0.06247585374928071),\n",
       " 905: Lasso(alpha=0.0021468346365958743),\n",
       " 906: Lasso(alpha=0.00100053442490176),\n",
       " 907: Lasso(alpha=0.0036051522126497033),\n",
       " 908: Lasso(alpha=0.17732097226697616),\n",
       " 909: Lasso(alpha=0.0014876360428642107),\n",
       " 910: Lasso(alpha=0.08499177843166487),\n",
       " 911: Lasso(alpha=0.0010000348935946984),\n",
       " 912: Lasso(alpha=0.0010000073751437015),\n",
       " 913: Lasso(alpha=0.001968760251231409),\n",
       " 914: Lasso(alpha=0.0011381553371002033),\n",
       " 915: Lasso(alpha=0.14725850001559934),\n",
       " 916: Lasso(alpha=0.0015226027130492968),\n",
       " 917: Lasso(alpha=0.016509523583833036),\n",
       " 918: Lasso(alpha=0.02397680527557673),\n",
       " 919: Lasso(alpha=0.0010001065407942633),\n",
       " 920: Lasso(alpha=0.0016422359662476927),\n",
       " 921: Lasso(alpha=0.0010000593693925953),\n",
       " 922: Lasso(alpha=0.24929386111602223),\n",
       " 923: Lasso(alpha=0.00100003352435953),\n",
       " 924: Lasso(alpha=0.0018433940675760378),\n",
       " 925: Lasso(alpha=0.0011858616282558756),\n",
       " 926: Lasso(alpha=0.0010000945002459436),\n",
       " 927: Lasso(alpha=0.0017161855664191133),\n",
       " 928: Lasso(alpha=0.0010000664660221458),\n",
       " 929: Lasso(alpha=0.009350716546681088),\n",
       " 930: Lasso(alpha=0.0011713186173628253),\n",
       " 931: Lasso(alpha=0.0010798105620045066),\n",
       " 932: Lasso(alpha=0.0010234530560834939),\n",
       " 933: Lasso(alpha=0.0062522536349416576),\n",
       " 934: Lasso(alpha=0.0013214836181124903),\n",
       " 935: Lasso(alpha=0.0018803622148962735),\n",
       " 936: Lasso(alpha=0.0016709498878418794),\n",
       " 937: Lasso(alpha=0.022668988414946686),\n",
       " 938: Lasso(alpha=0.002034834397800281),\n",
       " 939: Lasso(alpha=0.0011230792740614488),\n",
       " 940: Lasso(alpha=0.264577415614855),\n",
       " 941: Lasso(alpha=0.0010000133784460069),\n",
       " 942: Lasso(alpha=0.006689146055908812),\n",
       " 943: Lasso(alpha=0.001153692777523519),\n",
       " 944: Lasso(alpha=0.0015599865398195775),\n",
       " 945: Lasso(alpha=0.021517843021438714),\n",
       " 946: Lasso(alpha=0.18901596002781065),\n",
       " 947: Lasso(alpha=0.001854189890335998),\n",
       " 948: Lasso(alpha=0.001000216192932062),\n",
       " 949: Lasso(alpha=0.004082488080018027),\n",
       " 950: Lasso(alpha=0.001000015104952244),\n",
       " 951: Lasso(alpha=0.0070401970247666815),\n",
       " 952: Lasso(alpha=0.0018335846694101056),\n",
       " 953: Lasso(alpha=0.0050803553405282705),\n",
       " 954: Lasso(alpha=0.021992554660471543),\n",
       " 955: Lasso(alpha=0.0010002231463631984),\n",
       " 956: Lasso(alpha=0.0010000486770630286),\n",
       " 957: Lasso(alpha=0.0010002934597896568),\n",
       " 958: Lasso(alpha=0.0010000074456854317),\n",
       " 959: Lasso(alpha=0.00100010815899584),\n",
       " 960: Lasso(alpha=0.08733687823985059),\n",
       " 961: Lasso(alpha=0.022075603501368408),\n",
       " 962: Lasso(alpha=0.0011074570989323266),\n",
       " 963: Lasso(alpha=0.10142118213298813),\n",
       " 964: Lasso(alpha=0.001000093740031913),\n",
       " 965: Lasso(alpha=0.0010000534251705252),\n",
       " 966: Lasso(alpha=0.0012648599266677674),\n",
       " 967: Lasso(alpha=0.021337745878447684),\n",
       " 968: Lasso(alpha=0.0010001103719617498),\n",
       " 969: Lasso(alpha=0.0016487732250721073),\n",
       " 970: Lasso(alpha=0.20582412389836996),\n",
       " 971: Lasso(alpha=0.0073022199076550305),\n",
       " 972: Lasso(alpha=0.0224283632337423),\n",
       " 973: Lasso(alpha=0.0010000055512855988),\n",
       " 974: Lasso(alpha=0.0010003365754771068),\n",
       " 975: Lasso(alpha=0.11620094247816125),\n",
       " 976: Lasso(alpha=0.001905247255192604),\n",
       " 977: Lasso(alpha=0.0013991742817833137),\n",
       " 978: Lasso(alpha=0.12389780359216646),\n",
       " 979: Lasso(alpha=0.0010926797615121125),\n",
       " 980: Lasso(alpha=0.0016638996793284285),\n",
       " 981: Lasso(alpha=0.001980574036960735),\n",
       " 982: Lasso(alpha=0.005823142413879806),\n",
       " 983: Lasso(alpha=0.016342746312286858),\n",
       " 984: Lasso(alpha=0.01897455426492819),\n",
       " 985: Lasso(alpha=0.001000013361314713),\n",
       " 986: Lasso(alpha=0.0030913544088245304),\n",
       " 987: Lasso(alpha=0.0184234003135488),\n",
       " 988: Lasso(alpha=0.001172891576625712),\n",
       " 989: Lasso(alpha=0.14970600087457586),\n",
       " 990: Lasso(alpha=0.0010004410890843821),\n",
       " 991: Lasso(alpha=0.008156974523582137),\n",
       " 992: Lasso(alpha=0.011312145897337814),\n",
       " 993: Lasso(alpha=0.03646213934550532),\n",
       " 994: Lasso(alpha=0.05210013733227449),\n",
       " 995: Lasso(alpha=0.03353212058286458),\n",
       " 996: Lasso(alpha=0.0010199406051762578),\n",
       " 997: Lasso(alpha=0.0409420116358503),\n",
       " 998: Lasso(alpha=0.001000027494264266),\n",
       " 999: Lasso(alpha=0.0011092120635833444),\n",
       " ...}"
      ]
     },
     "execution_count": 21,
     "metadata": {},
     "output_type": "execute_result"
    }
   ],
   "source": [
    "song_models"
   ]
  },
  {
   "cell_type": "markdown",
   "id": "f706ec5d-34bf-44bc-beba-d2c20d976400",
   "metadata": {},
   "source": [
    "# Model evaluation"
   ]
  },
  {
   "cell_type": "code",
   "execution_count": 22,
   "id": "361b7a2a-1695-47e1-8507-d108dac8824b",
   "metadata": {},
   "outputs": [],
   "source": [
    "def pred_user(usr_number):\n",
    "    \"\"\" Gives the real ranking (by rating), and the full prediction by preference of a single user.\"\"\"\n",
    "    X = df_features.loc[[usr_number]]\n",
    "    y = df_stars.loc[usr_number].fillna(0)\n",
    "    y_pred = [(s, song_models[s].predict(X.values)[0]) for s in songs]\n",
    "    pred_order = [x[0] for x in sorted(y_pred, key=lambda x: x[1], reverse=True)]\n",
    "    real_order = list(y.sort_values(ascending=False).index)\n",
    "    return real_order, pred_order"
   ]
  },
  {
   "cell_type": "code",
   "execution_count": 23,
   "id": "6bf20a25-ee7b-4f43-b9f8-1730a26588ad",
   "metadata": {},
   "outputs": [
    {
     "name": "stderr",
     "output_type": "stream",
     "text": [
      "100%|█████████████████████████████████████████████████████████████████████████████| 1000/1000 [01:35<00:00, 10.44it/s]\n"
     ]
    }
   ],
   "source": [
    "test_user_ratings = [pred_user(u) for u in tqdm(test_users)]"
   ]
  },
  {
   "cell_type": "markdown",
   "id": "94151376-2772-418e-8ff5-deca303153e4",
   "metadata": {},
   "source": [
    "How do these recommendations compare to the “greatest hits” from the previous question?"
   ]
  },
  {
   "cell_type": "code",
   "execution_count": 24,
   "id": "51b71579-e37c-4314-bd46-28600b24950a",
   "metadata": {},
   "outputs": [],
   "source": [
    "#From Q9, the average star rating based ranking\n",
    "avg_star_rating_order = joblib.load('avg_star_rating_order.pkl')"
   ]
  },
  {
   "cell_type": "code",
   "execution_count": 25,
   "id": "60562089-74a4-46ff-9177-2552ceae3852",
   "metadata": {},
   "outputs": [],
   "source": [
    "top_10_general = avg_star_rating_order[:10]"
   ]
  },
  {
   "cell_type": "code",
   "execution_count": 26,
   "id": "d0c58c3a-8f90-4587-9986-41be46ceb94c",
   "metadata": {},
   "outputs": [],
   "source": [
    "#Will use Jaccard similarity to measure how similar the users' top 10 lists are when compared to the popularity-based model.\n",
    "\n",
    "def jaccard(list1, list2):\n",
    "    intersection = len(list(set(list1).intersection(list2)))\n",
    "    union = (len(list1) + len(list2)) - intersection\n",
    "    return float(intersection) / union"
   ]
  },
  {
   "cell_type": "code",
   "execution_count": 27,
   "id": "57460910-5581-464b-b125-95c2d6387115",
   "metadata": {},
   "outputs": [],
   "source": [
    "# Using Jaccard similarity to check this\n",
    "similarities = [jaccard(r[1][:10],top_10_general) for r in test_user_ratings]"
   ]
  },
  {
   "cell_type": "code",
   "execution_count": 28,
   "id": "306286e0-db1e-4bf2-9140-383c1b534891",
   "metadata": {},
   "outputs": [
    {
     "name": "stderr",
     "output_type": "stream",
     "text": [
      "/opt/homebrew/Caskroom/miniforge/base/envs/python_3_11/lib/python3.11/site-packages/seaborn/_oldcore.py:1498: FutureWarning: is_categorical_dtype is deprecated and will be removed in a future version. Use isinstance(dtype, CategoricalDtype) instead\n",
      "  if pd.api.types.is_categorical_dtype(vector):\n",
      "/opt/homebrew/Caskroom/miniforge/base/envs/python_3_11/lib/python3.11/site-packages/seaborn/_oldcore.py:1498: FutureWarning: is_categorical_dtype is deprecated and will be removed in a future version. Use isinstance(dtype, CategoricalDtype) instead\n",
      "  if pd.api.types.is_categorical_dtype(vector):\n",
      "/opt/homebrew/Caskroom/miniforge/base/envs/python_3_11/lib/python3.11/site-packages/seaborn/_oldcore.py:1119: FutureWarning: use_inf_as_na option is deprecated and will be removed in a future version. Convert inf values to NaN before operating instead.\n",
      "  with pd.option_context('mode.use_inf_as_na', True):\n",
      "/opt/homebrew/Caskroom/miniforge/base/envs/python_3_11/lib/python3.11/site-packages/seaborn/_oldcore.py:1119: FutureWarning: use_inf_as_na option is deprecated and will be removed in a future version. Convert inf values to NaN before operating instead.\n",
      "  with pd.option_context('mode.use_inf_as_na', True):\n"
     ]
    },
    {
     "data": {
      "image/png": "[encoded data removed]",
      "text/plain": [
       "<Figure size 640x480 with 1 Axes>"
      ]
     },
     "metadata": {},
     "output_type": "display_data"
    }
   ],
   "source": [
    "data_sorted = sorted(similarities)\n",
    "\n",
    "# Calculating the cumulative frequency\n",
    "cumulative_frequency = np.linspace(0., 1., len(similarities))\n",
    "\n",
    "# Creating the plot\n",
    "sns.lineplot(x=data_sorted, y=cumulative_frequency)\n",
    "plt.xlabel('Jaccard Similarity Predicted 10/Top 10 Popularity')\n",
    "plt.ylabel('Cumulative Frequency')\n",
    "plt.title('Cumulative Frequency Curve')\n",
    "\n",
    "# Show the plot\n",
    "plt.show()"
   ]
  },
  {
   "cell_type": "code",
   "execution_count": 29,
   "id": "5da9c6b0-164f-47d0-bce9-92ee47e0bdb0",
   "metadata": {},
   "outputs": [
    {
     "data": {
      "text/plain": [
       "0.5300702915935115"
      ]
     },
     "execution_count": 29,
     "metadata": {},
     "output_type": "execute_result"
    }
   ],
   "source": [
    "np.mean(similarities)"
   ]
  },
  {
   "cell_type": "markdown",
   "id": "4991d0ac-d487-403d-ad4e-01404f60f111",
   "metadata": {},
   "source": [
    "How good is your recommender system in making recommendations?"
   ]
  },
  {
   "cell_type": "code",
   "execution_count": 30,
   "id": "2aa76895-7d9f-44f3-97c2-afc76c15463f",
   "metadata": {},
   "outputs": [],
   "source": [
    "#Using average precision @k to evaluate\n",
    "def average_precision(ground_truth, prediction, k=100):\n",
    "    hits = 0\n",
    "    sum_precisions = 0\n",
    "    ground_truth = ground_truth[:k]\n",
    "    prediction = prediction[:k]\n",
    "    for i, p in enumerate(prediction):\n",
    "        if p in ground_truth:\n",
    "            hits += 1\n",
    "            precision_at_i = hits / (i + 1)\n",
    "            sum_precisions += precision_at_i\n",
    "\n",
    "    return sum_precisions / len(ground_truth)"
   ]
  },
  {
   "cell_type": "markdown",
   "id": "d87200b5-d89d-4156-8a61-56ff9fd0e2d5",
   "metadata": {},
   "source": [
    "## K = 10"
   ]
  },
  {
   "cell_type": "code",
   "execution_count": 31,
   "id": "335845a3-7f1e-432b-b2f2-fd570e6bc36e",
   "metadata": {},
   "outputs": [],
   "source": [
    "at_k = 10"
   ]
  },
  {
   "cell_type": "code",
   "execution_count": 32,
   "id": "48ceff0b-b772-4633-a123-8fd7933124ce",
   "metadata": {},
   "outputs": [],
   "source": [
    "pred_average_precisions = []\n",
    "pop_average_precisions = []\n",
    "\n",
    "for real, pred in test_user_ratings:\n",
    "    pred_average_precisions.append(average_precision(real, pred, k=at_k))\n",
    "    pop_average_precisions.append(average_precision(real, avg_star_rating_order, k=at_k))\n"
   ]
  },
  {
   "cell_type": "markdown",
   "id": "af32356e-9a72-40f6-94e2-f39e7c4277dc",
   "metadata": {},
   "source": [
    "### Our model"
   ]
  },
  {
   "cell_type": "code",
   "execution_count": 33,
   "id": "56b23678-b0d9-4f63-a636-c908ae3806bf",
   "metadata": {},
   "outputs": [
    {
     "name": "stderr",
     "output_type": "stream",
     "text": [
      "/opt/homebrew/Caskroom/miniforge/base/envs/python_3_11/lib/python3.11/site-packages/seaborn/_oldcore.py:1498: FutureWarning: is_categorical_dtype is deprecated and will be removed in a future version. Use isinstance(dtype, CategoricalDtype) instead\n",
      "  if pd.api.types.is_categorical_dtype(vector):\n",
      "/opt/homebrew/Caskroom/miniforge/base/envs/python_3_11/lib/python3.11/site-packages/seaborn/_oldcore.py:1119: FutureWarning: use_inf_as_na option is deprecated and will be removed in a future version. Convert inf values to NaN before operating instead.\n",
      "  with pd.option_context('mode.use_inf_as_na', True):\n"
     ]
    },
    {
     "data": {
      "text/plain": [
       "Text(0.5, 1.0, 'Histogram of Mean Average Precision @10 (ML Model)')"
      ]
     },
     "execution_count": 33,
     "metadata": {},
     "output_type": "execute_result"
    },
    {
     "data": {
      "image/png": "[encoded data removed]",
      "text/plain": [
       "<Figure size 640x480 with 1 Axes>"
      ]
     },
     "metadata": {},
     "output_type": "display_data"
    }
   ],
   "source": [
    "sns.histplot(pred_average_precisions)\n",
    "plt.xlabel(f'Mean Average Precision @{at_k}')\n",
    "plt.ylabel('frequency')\n",
    "plt.title(f'Histogram of Mean Average Precision @{at_k} (ML Model)')"
   ]
  },
  {
   "cell_type": "code",
   "execution_count": 34,
   "id": "2bb8033b-4673-4aa3-b938-b29a4d702402",
   "metadata": {},
   "outputs": [
    {
     "data": {
      "text/plain": [
       "0.004152777777777778"
      ]
     },
     "execution_count": 34,
     "metadata": {},
     "output_type": "execute_result"
    }
   ],
   "source": [
    "np.mean(pred_average_precisions)"
   ]
  },
  {
   "cell_type": "code",
   "execution_count": 35,
   "id": "f6a65233-b13d-4ca1-8c5b-df76096a90ab",
   "metadata": {},
   "outputs": [
    {
     "data": {
      "text/plain": [
       "0.0"
      ]
     },
     "execution_count": 35,
     "metadata": {},
     "output_type": "execute_result"
    }
   ],
   "source": [
    "np.median(pred_average_precisions)"
   ]
  },
  {
   "cell_type": "markdown",
   "id": "3dfa60c3-0da2-4bcd-80fd-fef32f2bcfa0",
   "metadata": {},
   "source": [
    "### Popularity-based model"
   ]
  },
  {
   "cell_type": "code",
   "execution_count": 36,
   "id": "5ec182c5-84f6-40eb-a153-1dfae7ee865a",
   "metadata": {},
   "outputs": [
    {
     "name": "stderr",
     "output_type": "stream",
     "text": [
      "/opt/homebrew/Caskroom/miniforge/base/envs/python_3_11/lib/python3.11/site-packages/seaborn/_oldcore.py:1498: FutureWarning: is_categorical_dtype is deprecated and will be removed in a future version. Use isinstance(dtype, CategoricalDtype) instead\n",
      "  if pd.api.types.is_categorical_dtype(vector):\n",
      "/opt/homebrew/Caskroom/miniforge/base/envs/python_3_11/lib/python3.11/site-packages/seaborn/_oldcore.py:1119: FutureWarning: use_inf_as_na option is deprecated and will be removed in a future version. Convert inf values to NaN before operating instead.\n",
      "  with pd.option_context('mode.use_inf_as_na', True):\n"
     ]
    },
    {
     "data": {
      "text/plain": [
       "Text(0.5, 1.0, 'Histogram of Mean Average Precision @10 (Popularity Model)')"
      ]
     },
     "execution_count": 36,
     "metadata": {},
     "output_type": "execute_result"
    },
    {
     "data": {
      "image/png": "[encoded data removed]",
      "text/plain": [
       "<Figure size 640x480 with 1 Axes>"
      ]
     },
     "metadata": {},
     "output_type": "display_data"
    }
   ],
   "source": [
    "sns.histplot(pop_average_precisions)\n",
    "plt.xlabel(f'Mean Average Precision @{at_k}')\n",
    "plt.ylabel('frequency')\n",
    "plt.title(f'Histogram of Mean Average Precision @{at_k} (Popularity Model)')"
   ]
  },
  {
   "cell_type": "code",
   "execution_count": 37,
   "id": "75df361d-13e7-400c-bcf0-356f4d59c22a",
   "metadata": {},
   "outputs": [
    {
     "data": {
      "text/plain": [
       "0.0037954761904761903"
      ]
     },
     "execution_count": 37,
     "metadata": {},
     "output_type": "execute_result"
    }
   ],
   "source": [
    "np.mean(pop_average_precisions)"
   ]
  },
  {
   "cell_type": "code",
   "execution_count": 38,
   "id": "266cb1c4-91a8-4ebc-adc6-dfa521c88631",
   "metadata": {},
   "outputs": [
    {
     "data": {
      "text/plain": [
       "0.0"
      ]
     },
     "execution_count": 38,
     "metadata": {},
     "output_type": "execute_result"
    }
   ],
   "source": [
    "np.median(pop_average_precisions)"
   ]
  },
  {
   "cell_type": "markdown",
   "id": "7059dd23-4fd6-4857-8e4c-a3f6fff1a86a",
   "metadata": {},
   "source": [
    "## K = 20"
   ]
  },
  {
   "cell_type": "code",
   "execution_count": 39,
   "id": "b1b303b6-36a9-4844-a097-7fa885e7b3c1",
   "metadata": {},
   "outputs": [],
   "source": [
    "at_k = 20"
   ]
  },
  {
   "cell_type": "code",
   "execution_count": 40,
   "id": "3a7075a8-cfaf-4f41-977e-61c3114c1d9b",
   "metadata": {},
   "outputs": [],
   "source": [
    "pred_average_precisions = []\n",
    "pop_average_precisions = []\n",
    "\n",
    "for real, pred in test_user_ratings:\n",
    "    pred_average_precisions.append(average_precision(real, pred, k=at_k))\n",
    "    pop_average_precisions.append(average_precision(real, avg_star_rating_order, k=at_k))\n"
   ]
  },
  {
   "cell_type": "markdown",
   "id": "27818f0b-8fe7-4be5-a833-5f13760621e2",
   "metadata": {},
   "source": [
    "### Our model"
   ]
  },
  {
   "cell_type": "code",
   "execution_count": 41,
   "id": "c69bd7f3-ce47-460b-ac2b-fbbe19d1b958",
   "metadata": {},
   "outputs": [
    {
     "name": "stderr",
     "output_type": "stream",
     "text": [
      "/opt/homebrew/Caskroom/miniforge/base/envs/python_3_11/lib/python3.11/site-packages/seaborn/_oldcore.py:1498: FutureWarning: is_categorical_dtype is deprecated and will be removed in a future version. Use isinstance(dtype, CategoricalDtype) instead\n",
      "  if pd.api.types.is_categorical_dtype(vector):\n",
      "/opt/homebrew/Caskroom/miniforge/base/envs/python_3_11/lib/python3.11/site-packages/seaborn/_oldcore.py:1119: FutureWarning: use_inf_as_na option is deprecated and will be removed in a future version. Convert inf values to NaN before operating instead.\n",
      "  with pd.option_context('mode.use_inf_as_na', True):\n"
     ]
    },
    {
     "data": {
      "text/plain": [
       "Text(0.5, 1.0, 'Histogram of Mean Average Precision @20 (ML Model)')"
      ]
     },
     "execution_count": 41,
     "metadata": {},
     "output_type": "execute_result"
    },
    {
     "data": {
      "image/png": "[encoded data removed]",
      "text/plain": [
       "<Figure size 640x480 with 1 Axes>"
      ]
     },
     "metadata": {},
     "output_type": "display_data"
    }
   ],
   "source": [
    "sns.histplot(pred_average_precisions)\n",
    "plt.xlabel(f'Mean Average Precision @{at_k}')\n",
    "plt.ylabel('frequency')\n",
    "plt.title(f'Histogram of Mean Average Precision @{at_k} (ML Model)')"
   ]
  },
  {
   "cell_type": "code",
   "execution_count": 42,
   "id": "e5b75091-69b9-4db3-9f61-bbb977a0d9e9",
   "metadata": {},
   "outputs": [
    {
     "data": {
      "text/plain": [
       "0.005159881556137362"
      ]
     },
     "execution_count": 42,
     "metadata": {},
     "output_type": "execute_result"
    }
   ],
   "source": [
    "np.mean(pred_average_precisions)"
   ]
  },
  {
   "cell_type": "code",
   "execution_count": 43,
   "id": "a13a6e22-6dc6-4466-8b00-65d99cb4c806",
   "metadata": {},
   "outputs": [
    {
     "data": {
      "text/plain": [
       "0.0"
      ]
     },
     "execution_count": 43,
     "metadata": {},
     "output_type": "execute_result"
    }
   ],
   "source": [
    "np.median(pred_average_precisions)"
   ]
  },
  {
   "cell_type": "markdown",
   "id": "d4e834ce-5b2c-4fa9-9ec8-2c0702577140",
   "metadata": {},
   "source": [
    "### Popularity-based model"
   ]
  },
  {
   "cell_type": "code",
   "execution_count": 44,
   "id": "86076f30-0a7d-4f44-aa64-cd89737eceb6",
   "metadata": {},
   "outputs": [
    {
     "name": "stderr",
     "output_type": "stream",
     "text": [
      "/opt/homebrew/Caskroom/miniforge/base/envs/python_3_11/lib/python3.11/site-packages/seaborn/_oldcore.py:1498: FutureWarning: is_categorical_dtype is deprecated and will be removed in a future version. Use isinstance(dtype, CategoricalDtype) instead\n",
      "  if pd.api.types.is_categorical_dtype(vector):\n",
      "/opt/homebrew/Caskroom/miniforge/base/envs/python_3_11/lib/python3.11/site-packages/seaborn/_oldcore.py:1119: FutureWarning: use_inf_as_na option is deprecated and will be removed in a future version. Convert inf values to NaN before operating instead.\n",
      "  with pd.option_context('mode.use_inf_as_na', True):\n"
     ]
    },
    {
     "data": {
      "text/plain": [
       "Text(0.5, 1.0, 'Histogram of Mean Average Precision @20 (Popularity Model)')"
      ]
     },
     "execution_count": 44,
     "metadata": {},
     "output_type": "execute_result"
    },
    {
     "data": {
      "image/png": "[encoded data removed]",
      "text/plain": [
       "<Figure size 640x480 with 1 Axes>"
      ]
     },
     "metadata": {},
     "output_type": "display_data"
    }
   ],
   "source": [
    "sns.histplot(pop_average_precisions)\n",
    "plt.xlabel(f'Mean Average Precision @{at_k}')\n",
    "plt.ylabel('frequency')\n",
    "plt.title(f'Histogram of Mean Average Precision @{at_k} (Popularity Model)')"
   ]
  },
  {
   "cell_type": "code",
   "execution_count": 45,
   "id": "90b14a2d-e56b-44df-86c0-5bb471217ce6",
   "metadata": {},
   "outputs": [
    {
     "data": {
      "text/plain": [
       "0.0052765055955826074"
      ]
     },
     "execution_count": 45,
     "metadata": {},
     "output_type": "execute_result"
    }
   ],
   "source": [
    "np.mean(pop_average_precisions)"
   ]
  },
  {
   "cell_type": "code",
   "execution_count": 46,
   "id": "6c0c608d-d3c9-4a0e-9531-2cf355e22606",
   "metadata": {},
   "outputs": [
    {
     "data": {
      "text/plain": [
       "0.0"
      ]
     },
     "execution_count": 46,
     "metadata": {},
     "output_type": "execute_result"
    }
   ],
   "source": [
    "np.median(pop_average_precisions)"
   ]
  },
  {
   "cell_type": "markdown",
   "id": "0a237d7d-509d-417c-9479-31d11e637753",
   "metadata": {},
   "source": [
    "## K = 50"
   ]
  },
  {
   "cell_type": "code",
   "execution_count": 47,
   "id": "80c3a2eb-3276-444e-acfa-0aa758a90b36",
   "metadata": {},
   "outputs": [],
   "source": [
    "at_k = 50"
   ]
  },
  {
   "cell_type": "code",
   "execution_count": 48,
   "id": "13d842e7-125c-417a-ad73-9ece63761f20",
   "metadata": {},
   "outputs": [],
   "source": [
    "pred_average_precisions = []\n",
    "pop_average_precisions = []\n",
    "\n",
    "for real, pred in test_user_ratings:\n",
    "    pred_average_precisions.append(average_precision(real, pred, k=at_k))\n",
    "    pop_average_precisions.append(average_precision(real, avg_star_rating_order, k=at_k))\n"
   ]
  },
  {
   "cell_type": "markdown",
   "id": "844dd691-590f-48fd-8d73-65eafca08d67",
   "metadata": {},
   "source": [
    "### Our model"
   ]
  },
  {
   "cell_type": "code",
   "execution_count": 49,
   "id": "99c7c155-1819-4b1c-8541-ad81dadf4cf7",
   "metadata": {},
   "outputs": [
    {
     "name": "stderr",
     "output_type": "stream",
     "text": [
      "/opt/homebrew/Caskroom/miniforge/base/envs/python_3_11/lib/python3.11/site-packages/seaborn/_oldcore.py:1498: FutureWarning: is_categorical_dtype is deprecated and will be removed in a future version. Use isinstance(dtype, CategoricalDtype) instead\n",
      "  if pd.api.types.is_categorical_dtype(vector):\n",
      "/opt/homebrew/Caskroom/miniforge/base/envs/python_3_11/lib/python3.11/site-packages/seaborn/_oldcore.py:1119: FutureWarning: use_inf_as_na option is deprecated and will be removed in a future version. Convert inf values to NaN before operating instead.\n",
      "  with pd.option_context('mode.use_inf_as_na', True):\n"
     ]
    },
    {
     "data": {
      "text/plain": [
       "Text(0.5, 1.0, 'Histogram of Mean Average Precision @50 (ML Model)')"
      ]
     },
     "execution_count": 49,
     "metadata": {},
     "output_type": "execute_result"
    },
    {
     "data": {
      "image/png": "[encoded data removed]",
      "text/plain": [
       "<Figure size 640x480 with 1 Axes>"
      ]
     },
     "metadata": {},
     "output_type": "display_data"
    }
   ],
   "source": [
    "sns.histplot(pred_average_precisions)\n",
    "plt.xlabel(f'Mean Average Precision @{at_k}')\n",
    "plt.ylabel('frequency')\n",
    "plt.title(f'Histogram of Mean Average Precision @{at_k} (ML Model)')"
   ]
  },
  {
   "cell_type": "code",
   "execution_count": 50,
   "id": "96c8b325-2f9b-4f67-81bf-fe1ebd0ad112",
   "metadata": {},
   "outputs": [
    {
     "data": {
      "text/plain": [
       "0.0070695627068565504"
      ]
     },
     "execution_count": 50,
     "metadata": {},
     "output_type": "execute_result"
    }
   ],
   "source": [
    "np.mean(pred_average_precisions)"
   ]
  },
  {
   "cell_type": "code",
   "execution_count": 51,
   "id": "399db2f0-5e9c-4a3b-b698-142d2fd93125",
   "metadata": {},
   "outputs": [
    {
     "data": {
      "text/plain": [
       "0.0037066674460291484"
      ]
     },
     "execution_count": 51,
     "metadata": {},
     "output_type": "execute_result"
    }
   ],
   "source": [
    "np.median(pred_average_precisions)"
   ]
  },
  {
   "cell_type": "markdown",
   "id": "7fa9dc51-30d8-4593-a863-d6c9055ac7a0",
   "metadata": {},
   "source": [
    "### Popularity-based model"
   ]
  },
  {
   "cell_type": "code",
   "execution_count": 52,
   "id": "c7777ce1-ea08-4cb3-bc03-873526d1989e",
   "metadata": {},
   "outputs": [
    {
     "name": "stderr",
     "output_type": "stream",
     "text": [
      "/opt/homebrew/Caskroom/miniforge/base/envs/python_3_11/lib/python3.11/site-packages/seaborn/_oldcore.py:1498: FutureWarning: is_categorical_dtype is deprecated and will be removed in a future version. Use isinstance(dtype, CategoricalDtype) instead\n",
      "  if pd.api.types.is_categorical_dtype(vector):\n",
      "/opt/homebrew/Caskroom/miniforge/base/envs/python_3_11/lib/python3.11/site-packages/seaborn/_oldcore.py:1119: FutureWarning: use_inf_as_na option is deprecated and will be removed in a future version. Convert inf values to NaN before operating instead.\n",
      "  with pd.option_context('mode.use_inf_as_na', True):\n"
     ]
    },
    {
     "data": {
      "text/plain": [
       "Text(0.5, 1.0, 'Histogram of Mean Average Precision @50 (Popularity Model)')"
      ]
     },
     "execution_count": 52,
     "metadata": {},
     "output_type": "execute_result"
    },
    {
     "data": {
      "image/png": "[encoded data removed]",
      "text/plain": [
       "<Figure size 640x480 with 1 Axes>"
      ]
     },
     "metadata": {},
     "output_type": "display_data"
    }
   ],
   "source": [
    "sns.histplot(pop_average_precisions)\n",
    "plt.xlabel(f'Mean Average Precision @{at_k}')\n",
    "plt.ylabel('frequency')\n",
    "plt.title(f'Histogram of Mean Average Precision @{at_k} (Popularity Model)')"
   ]
  },
  {
   "cell_type": "code",
   "execution_count": 53,
   "id": "2c265236-33da-4538-806f-ce71340fe55d",
   "metadata": {},
   "outputs": [
    {
     "data": {
      "text/plain": [
       "0.007115536697202991"
      ]
     },
     "execution_count": 53,
     "metadata": {},
     "output_type": "execute_result"
    }
   ],
   "source": [
    "np.mean(pop_average_precisions)"
   ]
  },
  {
   "cell_type": "code",
   "execution_count": 54,
   "id": "122c3a61-06a6-438e-a6bf-50fc641a8dfd",
   "metadata": {},
   "outputs": [
    {
     "data": {
      "text/plain": [
       "0.0037258129467431793"
      ]
     },
     "execution_count": 54,
     "metadata": {},
     "output_type": "execute_result"
    }
   ],
   "source": [
    "np.median(pop_average_precisions)"
   ]
  },
  {
   "cell_type": "markdown",
   "id": "2e06f96f-7867-47a0-bbbf-1040cf111059",
   "metadata": {},
   "source": [
    "## K = 100"
   ]
  },
  {
   "cell_type": "code",
   "execution_count": 55,
   "id": "4c30c485-857e-459d-93ac-d9b93223ceb2",
   "metadata": {},
   "outputs": [],
   "source": [
    "at_k = 100"
   ]
  },
  {
   "cell_type": "code",
   "execution_count": 56,
   "id": "36278016-e45a-470e-8664-3001c79a90b3",
   "metadata": {},
   "outputs": [],
   "source": [
    "pred_average_precisions = []\n",
    "pop_average_precisions = []\n",
    "\n",
    "for real, pred in test_user_ratings:\n",
    "    pred_average_precisions.append(average_precision(real, pred, k=at_k))\n",
    "    pop_average_precisions.append(average_precision(real, avg_star_rating_order, k=at_k))\n"
   ]
  },
  {
   "cell_type": "markdown",
   "id": "b8680284-36f0-4614-af03-0f7ee4e0e31c",
   "metadata": {},
   "source": [
    "### Our model"
   ]
  },
  {
   "cell_type": "code",
   "execution_count": 57,
   "id": "219df5f4-0c27-4c2b-b9cf-933f9d92862f",
   "metadata": {},
   "outputs": [
    {
     "name": "stderr",
     "output_type": "stream",
     "text": [
      "/opt/homebrew/Caskroom/miniforge/base/envs/python_3_11/lib/python3.11/site-packages/seaborn/_oldcore.py:1498: FutureWarning: is_categorical_dtype is deprecated and will be removed in a future version. Use isinstance(dtype, CategoricalDtype) instead\n",
      "  if pd.api.types.is_categorical_dtype(vector):\n",
      "/opt/homebrew/Caskroom/miniforge/base/envs/python_3_11/lib/python3.11/site-packages/seaborn/_oldcore.py:1119: FutureWarning: use_inf_as_na option is deprecated and will be removed in a future version. Convert inf values to NaN before operating instead.\n",
      "  with pd.option_context('mode.use_inf_as_na', True):\n"
     ]
    },
    {
     "data": {
      "text/plain": [
       "Text(0.5, 1.0, 'Histogram of Mean Average Precision @100 (ML Model)')"
      ]
     },
     "execution_count": 57,
     "metadata": {},
     "output_type": "execute_result"
    },
    {
     "data": {
      "image/png": "[encoded data removed]",
      "text/plain": [
       "<Figure size 640x480 with 1 Axes>"
      ]
     },
     "metadata": {},
     "output_type": "display_data"
    }
   ],
   "source": [
    "sns.histplot(pred_average_precisions)\n",
    "plt.xlabel(f'Mean Average Precision @{at_k}')\n",
    "plt.ylabel('frequency')\n",
    "plt.title(f'Histogram of Mean Average Precision @{at_k} (ML Model)')"
   ]
  },
  {
   "cell_type": "code",
   "execution_count": 58,
   "id": "8158c840-e97e-4949-85df-eb4e69ad9bf3",
   "metadata": {},
   "outputs": [
    {
     "data": {
      "text/plain": [
       "0.009002168525774644"
      ]
     },
     "execution_count": 58,
     "metadata": {},
     "output_type": "execute_result"
    }
   ],
   "source": [
    "np.mean(pred_average_precisions)"
   ]
  },
  {
   "cell_type": "code",
   "execution_count": 59,
   "id": "4d4e07f3-cb42-4763-9ce3-3659156bf2ca",
   "metadata": {},
   "outputs": [
    {
     "data": {
      "text/plain": [
       "0.007123908224947807"
      ]
     },
     "execution_count": 59,
     "metadata": {},
     "output_type": "execute_result"
    }
   ],
   "source": [
    "np.median(pred_average_precisions)"
   ]
  },
  {
   "cell_type": "markdown",
   "id": "0a20e577-aa57-4e78-a91a-9fe4a258889d",
   "metadata": {},
   "source": [
    "### Popularity-based model"
   ]
  },
  {
   "cell_type": "code",
   "execution_count": 60,
   "id": "f37ef130-edf2-4c41-9441-022fee43a4ab",
   "metadata": {},
   "outputs": [
    {
     "name": "stderr",
     "output_type": "stream",
     "text": [
      "/opt/homebrew/Caskroom/miniforge/base/envs/python_3_11/lib/python3.11/site-packages/seaborn/_oldcore.py:1498: FutureWarning: is_categorical_dtype is deprecated and will be removed in a future version. Use isinstance(dtype, CategoricalDtype) instead\n",
      "  if pd.api.types.is_categorical_dtype(vector):\n",
      "/opt/homebrew/Caskroom/miniforge/base/envs/python_3_11/lib/python3.11/site-packages/seaborn/_oldcore.py:1119: FutureWarning: use_inf_as_na option is deprecated and will be removed in a future version. Convert inf values to NaN before operating instead.\n",
      "  with pd.option_context('mode.use_inf_as_na', True):\n"
     ]
    },
    {
     "data": {
      "text/plain": [
       "Text(0.5, 1.0, 'Histogram of Mean Average Precision @100 (Popularity Model)')"
      ]
     },
     "execution_count": 60,
     "metadata": {},
     "output_type": "execute_result"
    },
    {
     "data": {
      "image/png": "[encoded data removed]",
      "text/plain": [
       "<Figure size 640x480 with 1 Axes>"
      ]
     },
     "metadata": {},
     "output_type": "display_data"
    }
   ],
   "source": [
    "sns.histplot(pop_average_precisions)\n",
    "plt.xlabel(f'Mean Average Precision @{at_k}')\n",
    "plt.ylabel('frequency')\n",
    "plt.title(f'Histogram of Mean Average Precision @{at_k} (Popularity Model)')"
   ]
  },
  {
   "cell_type": "code",
   "execution_count": 61,
   "id": "ad9e9d68-9307-40e3-b33a-acde2cdba3c1",
   "metadata": {},
   "outputs": [
    {
     "data": {
      "text/plain": [
       "0.008968535785549825"
      ]
     },
     "execution_count": 61,
     "metadata": {},
     "output_type": "execute_result"
    }
   ],
   "source": [
    "np.mean(pop_average_precisions)"
   ]
  },
  {
   "cell_type": "code",
   "execution_count": 62,
   "id": "fd8f3b83-d144-48b0-a5cf-32c35fb9dd02",
   "metadata": {},
   "outputs": [
    {
     "data": {
      "text/plain": [
       "0.00720426413100271"
      ]
     },
     "execution_count": 62,
     "metadata": {},
     "output_type": "execute_result"
    }
   ],
   "source": [
    "np.median(pop_average_precisions)"
   ]
  },
  {
   "cell_type": "markdown",
   "id": "d4d5b1cd-5fc2-490f-8388-7fe917a8210f",
   "metadata": {},
   "source": [
    "## K = 250"
   ]
  },
  {
   "cell_type": "code",
   "execution_count": 63,
   "id": "588d587b-e60d-4373-ae15-cb7eef1da47d",
   "metadata": {},
   "outputs": [],
   "source": [
    "at_k = 250"
   ]
  },
  {
   "cell_type": "code",
   "execution_count": 64,
   "id": "6f6eaa34-cc03-4797-bf13-ec9d69b1e2e7",
   "metadata": {},
   "outputs": [],
   "source": [
    "pred_average_precisions = []\n",
    "pop_average_precisions = []\n",
    "\n",
    "for real, pred in test_user_ratings:\n",
    "    pred_average_precisions.append(average_precision(real, pred, k=at_k))\n",
    "    pop_average_precisions.append(average_precision(real, avg_star_rating_order, k=at_k))\n"
   ]
  },
  {
   "cell_type": "markdown",
   "id": "0d6465c0-c5fc-4a1a-ae54-2304d8e2fd20",
   "metadata": {},
   "source": [
    "### Our model"
   ]
  },
  {
   "cell_type": "code",
   "execution_count": 65,
   "id": "12faba1d-0266-4121-8815-2478eebc027b",
   "metadata": {},
   "outputs": [
    {
     "name": "stderr",
     "output_type": "stream",
     "text": [
      "/opt/homebrew/Caskroom/miniforge/base/envs/python_3_11/lib/python3.11/site-packages/seaborn/_oldcore.py:1498: FutureWarning: is_categorical_dtype is deprecated and will be removed in a future version. Use isinstance(dtype, CategoricalDtype) instead\n",
      "  if pd.api.types.is_categorical_dtype(vector):\n",
      "/opt/homebrew/Caskroom/miniforge/base/envs/python_3_11/lib/python3.11/site-packages/seaborn/_oldcore.py:1119: FutureWarning: use_inf_as_na option is deprecated and will be removed in a future version. Convert inf values to NaN before operating instead.\n",
      "  with pd.option_context('mode.use_inf_as_na', True):\n"
     ]
    },
    {
     "data": {
      "text/plain": [
       "Text(0.5, 1.0, 'Histogram of Mean Average Precision @250 (ML Model)')"
      ]
     },
     "execution_count": 65,
     "metadata": {},
     "output_type": "execute_result"
    },
    {
     "data": {
      "image/png": "[encoded data removed]",
      "text/plain": [
       "<Figure size 640x480 with 1 Axes>"
      ]
     },
     "metadata": {},
     "output_type": "display_data"
    }
   ],
   "source": [
    "sns.histplot(pred_average_precisions)\n",
    "plt.xlabel(f'Mean Average Precision @{at_k}')\n",
    "plt.ylabel('frequency')\n",
    "plt.title(f'Histogram of Mean Average Precision @{at_k} (ML Model)')"
   ]
  },
  {
   "cell_type": "code",
   "execution_count": 66,
   "id": "c1b7590e-e2b9-44f9-9a78-691cc78c727e",
   "metadata": {},
   "outputs": [
    {
     "data": {
      "text/plain": [
       "0.011614744260546697"
      ]
     },
     "execution_count": 66,
     "metadata": {},
     "output_type": "execute_result"
    }
   ],
   "source": [
    "np.mean(pred_average_precisions)"
   ]
  },
  {
   "cell_type": "code",
   "execution_count": 67,
   "id": "180931fc-25f6-4480-8192-3f9fedb6f066",
   "metadata": {},
   "outputs": [
    {
     "data": {
      "text/plain": [
       "0.010354543781529599"
      ]
     },
     "execution_count": 67,
     "metadata": {},
     "output_type": "execute_result"
    }
   ],
   "source": [
    "np.median(pred_average_precisions)"
   ]
  },
  {
   "cell_type": "markdown",
   "id": "fd60df6a-bf81-4f56-84c2-3fa198c093ef",
   "metadata": {},
   "source": [
    "### Popularity-based model"
   ]
  },
  {
   "cell_type": "code",
   "execution_count": 68,
   "id": "38822aac-16ac-4fdb-85f0-a5a879cba5e0",
   "metadata": {},
   "outputs": [
    {
     "name": "stderr",
     "output_type": "stream",
     "text": [
      "/opt/homebrew/Caskroom/miniforge/base/envs/python_3_11/lib/python3.11/site-packages/seaborn/_oldcore.py:1498: FutureWarning: is_categorical_dtype is deprecated and will be removed in a future version. Use isinstance(dtype, CategoricalDtype) instead\n",
      "  if pd.api.types.is_categorical_dtype(vector):\n",
      "/opt/homebrew/Caskroom/miniforge/base/envs/python_3_11/lib/python3.11/site-packages/seaborn/_oldcore.py:1119: FutureWarning: use_inf_as_na option is deprecated and will be removed in a future version. Convert inf values to NaN before operating instead.\n",
      "  with pd.option_context('mode.use_inf_as_na', True):\n"
     ]
    },
    {
     "data": {
      "text/plain": [
       "Text(0.5, 1.0, 'Histogram of Mean Average Precision @250 (Popularity Model)')"
      ]
     },
     "execution_count": 68,
     "metadata": {},
     "output_type": "execute_result"
    },
    {
     "data": {
      "image/png": "[encoded data removed]",
      "text/plain": [
       "<Figure size 640x480 with 1 Axes>"
      ]
     },
     "metadata": {},
     "output_type": "display_data"
    }
   ],
   "source": [
    "sns.histplot(pop_average_precisions)\n",
    "plt.xlabel(f'Mean Average Precision @{at_k}')\n",
    "plt.ylabel('frequency')\n",
    "plt.title(f'Histogram of Mean Average Precision @{at_k} (Popularity Model)')"
   ]
  },
  {
   "cell_type": "code",
   "execution_count": 69,
   "id": "d3f43126-ec88-49d6-b094-b9c6f9f025b2",
   "metadata": {},
   "outputs": [
    {
     "data": {
      "text/plain": [
       "0.011553550929631826"
      ]
     },
     "execution_count": 69,
     "metadata": {},
     "output_type": "execute_result"
    }
   ],
   "source": [
    "np.mean(pop_average_precisions)"
   ]
  },
  {
   "cell_type": "code",
   "execution_count": 70,
   "id": "77f96fcb-5322-459f-89bf-686568ea3ca9",
   "metadata": {},
   "outputs": [
    {
     "data": {
      "text/plain": [
       "0.010436731914220818"
      ]
     },
     "execution_count": 70,
     "metadata": {},
     "output_type": "execute_result"
    }
   ],
   "source": [
    "np.median(pop_average_precisions)"
   ]
  },
  {
   "cell_type": "markdown",
   "id": "0485a646-8c9a-4a73-a01d-1fbba5e29920",
   "metadata": {},
   "source": [
    "## K = 500"
   ]
  },
  {
   "cell_type": "code",
   "execution_count": 71,
   "id": "c667006f-f1d5-40e0-b500-fa65eb2c9018",
   "metadata": {},
   "outputs": [],
   "source": [
    "at_k = 500"
   ]
  },
  {
   "cell_type": "code",
   "execution_count": 72,
   "id": "62d20c04-9420-49a6-bc9f-ec4ecfa3578e",
   "metadata": {},
   "outputs": [],
   "source": [
    "pred_average_precisions = []\n",
    "pop_average_precisions = []\n",
    "\n",
    "for real, pred in test_user_ratings:\n",
    "    pred_average_precisions.append(average_precision(real, pred, k=at_k))\n",
    "    pop_average_precisions.append(average_precision(real, avg_star_rating_order, k=at_k))\n"
   ]
  },
  {
   "cell_type": "markdown",
   "id": "7ddab818-c741-43d0-886c-32c757abb162",
   "metadata": {},
   "source": [
    "### Our model"
   ]
  },
  {
   "cell_type": "code",
   "execution_count": 73,
   "id": "6f166020-8084-4bc5-ac13-6325068bcd11",
   "metadata": {},
   "outputs": [
    {
     "name": "stderr",
     "output_type": "stream",
     "text": [
      "/opt/homebrew/Caskroom/miniforge/base/envs/python_3_11/lib/python3.11/site-packages/seaborn/_oldcore.py:1498: FutureWarning: is_categorical_dtype is deprecated and will be removed in a future version. Use isinstance(dtype, CategoricalDtype) instead\n",
      "  if pd.api.types.is_categorical_dtype(vector):\n",
      "/opt/homebrew/Caskroom/miniforge/base/envs/python_3_11/lib/python3.11/site-packages/seaborn/_oldcore.py:1119: FutureWarning: use_inf_as_na option is deprecated and will be removed in a future version. Convert inf values to NaN before operating instead.\n",
      "  with pd.option_context('mode.use_inf_as_na', True):\n"
     ]
    },
    {
     "data": {
      "text/plain": [
       "Text(0.5, 1.0, 'Histogram of Mean Average Precision @500 (ML Model)')"
      ]
     },
     "execution_count": 73,
     "metadata": {},
     "output_type": "execute_result"
    },
    {
     "data": {
      "image/png": "[encoded data removed]",
      "text/plain": [
       "<Figure size 640x480 with 1 Axes>"
      ]
     },
     "metadata": {},
     "output_type": "display_data"
    }
   ],
   "source": [
    "sns.histplot(pred_average_precisions)\n",
    "plt.xlabel(f'Mean Average Precision @{at_k}')\n",
    "plt.ylabel('frequency')\n",
    "plt.title(f'Histogram of Mean Average Precision @{at_k} (ML Model)')"
   ]
  },
  {
   "cell_type": "code",
   "execution_count": 74,
   "id": "64a7b703-3f1c-4ea5-8c6b-c3062918e8c1",
   "metadata": {},
   "outputs": [
    {
     "data": {
      "text/plain": [
       "0.04757904006192872"
      ]
     },
     "execution_count": 74,
     "metadata": {},
     "output_type": "execute_result"
    }
   ],
   "source": [
    "np.mean(pred_average_precisions)"
   ]
  },
  {
   "cell_type": "code",
   "execution_count": 75,
   "id": "af3e1e8a-837b-417e-baf0-bb46af14c5eb",
   "metadata": {},
   "outputs": [
    {
     "data": {
      "text/plain": [
       "0.04761078248713534"
      ]
     },
     "execution_count": 75,
     "metadata": {},
     "output_type": "execute_result"
    }
   ],
   "source": [
    "np.median(pred_average_precisions)"
   ]
  },
  {
   "cell_type": "markdown",
   "id": "12e51072-71ba-4eb6-8301-487ef0c62d51",
   "metadata": {},
   "source": [
    "### Popularity-based model"
   ]
  },
  {
   "cell_type": "code",
   "execution_count": 76,
   "id": "8b8af467-d0bd-48a6-83c0-03f2afb0fa16",
   "metadata": {},
   "outputs": [
    {
     "name": "stderr",
     "output_type": "stream",
     "text": [
      "/opt/homebrew/Caskroom/miniforge/base/envs/python_3_11/lib/python3.11/site-packages/seaborn/_oldcore.py:1498: FutureWarning: is_categorical_dtype is deprecated and will be removed in a future version. Use isinstance(dtype, CategoricalDtype) instead\n",
      "  if pd.api.types.is_categorical_dtype(vector):\n",
      "/opt/homebrew/Caskroom/miniforge/base/envs/python_3_11/lib/python3.11/site-packages/seaborn/_oldcore.py:1119: FutureWarning: use_inf_as_na option is deprecated and will be removed in a future version. Convert inf values to NaN before operating instead.\n",
      "  with pd.option_context('mode.use_inf_as_na', True):\n"
     ]
    },
    {
     "data": {
      "text/plain": [
       "Text(0.5, 1.0, 'Histogram of Mean Average Precision @500 (Popularity Model)')"
      ]
     },
     "execution_count": 76,
     "metadata": {},
     "output_type": "execute_result"
    },
    {
     "data": {
      "image/png": "[encoded data removed]",
      "text/plain": [
       "<Figure size 640x480 with 1 Axes>"
      ]
     },
     "metadata": {},
     "output_type": "display_data"
    }
   ],
   "source": [
    "sns.histplot(pop_average_precisions)\n",
    "plt.xlabel(f'Mean Average Precision @{at_k}')\n",
    "plt.ylabel('frequency')\n",
    "plt.title(f'Histogram of Mean Average Precision @{at_k} (Popularity Model)')"
   ]
  },
  {
   "cell_type": "code",
   "execution_count": 77,
   "id": "81612350-2750-41ff-9190-a34729265a41",
   "metadata": {},
   "outputs": [
    {
     "data": {
      "text/plain": [
       "0.049756943448022166"
      ]
     },
     "execution_count": 77,
     "metadata": {},
     "output_type": "execute_result"
    }
   ],
   "source": [
    "np.mean(pop_average_precisions)"
   ]
  },
  {
   "cell_type": "code",
   "execution_count": 78,
   "id": "af607c6c-667b-4c0f-a268-e524393085f6",
   "metadata": {},
   "outputs": [
    {
     "data": {
      "text/plain": [
       "0.04871279808645418"
      ]
     },
     "execution_count": 78,
     "metadata": {},
     "output_type": "execute_result"
    }
   ],
   "source": [
    "np.median(pop_average_precisions)"
   ]
  }
 ],
 "metadata": {
  "kernelspec": {
   "display_name": "Python 3 (ipykernel)",
   "language": "python",
   "name": "python3"
  },
  "language_info": {
   "codemirror_mode": {
    "name": "ipython",
    "version": 3
   },
   "file_extension": ".py",
   "mimetype": "text/x-python",
   "name": "python",
   "nbconvert_exporter": "python",
   "pygments_lexer": "ipython3",
   "version": "3.11.4"
  }
 },
 "nbformat": 4,
 "nbformat_minor": 5
}
