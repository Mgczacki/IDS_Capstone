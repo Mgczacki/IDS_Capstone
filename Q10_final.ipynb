{
 "cells": [
  {
   "cell_type": "code",
   "execution_count": 85,
   "id": "948f1a2b-3be2-4faf-89b4-54c5f7186b96",
   "metadata": {},
   "outputs": [],
   "source": [
    "seed = 13427256"
   ]
  },
  {
   "cell_type": "markdown",
   "id": "b1b0db93-4097-43bb-8afe-48f3154e7bc9",
   "metadata": {},
   "source": [
    "# Q10"
   ]
  },
  {
   "cell_type": "markdown",
   "id": "9633a0f8-e6d6-433f-82c0-ee083e4614de",
   "metadata": {},
   "source": [
    "You want to create a “personal mixtape” for all 10k users we have explicit feedback for. This mixtape contains individualized recommendations as to which 10 songs (out of the 5k) a given user will enjoy most. How do these recommendations compare to the “greatest hits” from the previous question and how good is your recommender system in making recommendations?"
   ]
  },
  {
   "cell_type": "code",
   "execution_count": 86,
   "id": "70d041bc-c19e-4d8a-b8e2-067db0637016",
   "metadata": {},
   "outputs": [],
   "source": [
    "import joblib\n",
    "import numpy as np\n",
    "import pandas as pd\n",
    "import seaborn as sns\n",
    "import matplotlib.pyplot as plt\n",
    "\n",
    "from tqdm import tqdm\n",
    "\n",
    "np.random.seed(seed)"
   ]
  },
  {
   "cell_type": "code",
   "execution_count": 87,
   "id": "b4ae0f16-9b2e-4413-9494-a8bc6e1c9ccb",
   "metadata": {},
   "outputs": [],
   "source": [
    "df_songs = pd.read_csv(\"spotify52kData.csv\").iloc[:5000].sort_values(by='popularity', ascending=False)"
   ]
  },
  {
   "cell_type": "code",
   "execution_count": 88,
   "id": "a0aec91d-be06-4ffa-b1bd-52a46896a9a5",
   "metadata": {},
   "outputs": [],
   "source": [
    "indices_of_duplicates = df_songs[df_songs.duplicated(keep='first', subset=['artists', 'album_name', 'track_name', 'popularity'])].index.tolist()"
   ]
  },
  {
   "cell_type": "code",
   "execution_count": 89,
   "id": "d83652b3-a77d-4eb5-aedb-67f7b6e9ba3e",
   "metadata": {},
   "outputs": [],
   "source": [
    "df_songs = df_songs.drop(indices_of_duplicates).sort_values(by='songNumber')"
   ]
  },
  {
   "cell_type": "code",
   "execution_count": 90,
   "id": "48dfd453-49fc-4f58-9baa-0079674fd269",
   "metadata": {},
   "outputs": [],
   "source": [
    "df_stars = pd.read_parquet(\"starRatings.parquet\").drop(columns=indices_of_duplicates)"
   ]
  },
  {
   "cell_type": "code",
   "execution_count": 91,
   "id": "aff8aaa8-16f7-4e5a-a372-672597c15ac9",
   "metadata": {},
   "outputs": [
    {
     "data": {
      "text/plain": [
       "Index(['songNumber', 'artists', 'album_name', 'track_name', 'popularity',\n",
       "       'duration', 'explicit', 'danceability', 'energy', 'key', 'loudness',\n",
       "       'mode', 'speechiness', 'acousticness', 'instrumentalness', 'liveness',\n",
       "       'valence', 'tempo', 'time_signature', 'track_genre'],\n",
       "      dtype='object')"
      ]
     },
     "execution_count": 91,
     "metadata": {},
     "output_type": "execute_result"
    }
   ],
   "source": [
    "df_songs.columns"
   ]
  },
  {
   "cell_type": "code",
   "execution_count": 8,
   "id": "1c1a0bb3-9700-457f-b9cb-42c146a392c5",
   "metadata": {},
   "outputs": [
    {
     "data": {
      "text/plain": [
       "acoustic       1000\n",
       "afrobeat        999\n",
       "ambient         999\n",
       "alt-rock        763\n",
       "alternative     637\n",
       "Name: track_genre, dtype: int64"
      ]
     },
     "execution_count": 8,
     "metadata": {},
     "output_type": "execute_result"
    }
   ],
   "source": [
    "df_songs['track_genre'].value_counts() # Seems to be distributed decently well. Will use the variable."
   ]
  },
  {
   "cell_type": "code",
   "execution_count": 80,
   "id": "9abde3b9",
   "metadata": {},
   "outputs": [
    {
     "data": {
      "text/html": [
       "<div>\n",
       "<style scoped>\n",
       "    .dataframe tbody tr th:only-of-type {\n",
       "        vertical-align: middle;\n",
       "    }\n",
       "\n",
       "    .dataframe tbody tr th {\n",
       "        vertical-align: top;\n",
       "    }\n",
       "\n",
       "    .dataframe thead th {\n",
       "        text-align: right;\n",
       "    }\n",
       "</style>\n",
       "<table border=\"1\" class=\"dataframe\">\n",
       "  <thead>\n",
       "    <tr style=\"text-align: right;\">\n",
       "      <th></th>\n",
       "      <th>songNumber</th>\n",
       "      <th>artists</th>\n",
       "      <th>album_name</th>\n",
       "      <th>track_name</th>\n",
       "      <th>popularity</th>\n",
       "      <th>duration</th>\n",
       "      <th>explicit</th>\n",
       "      <th>danceability</th>\n",
       "      <th>energy</th>\n",
       "      <th>key</th>\n",
       "      <th>loudness</th>\n",
       "      <th>mode</th>\n",
       "      <th>speechiness</th>\n",
       "      <th>acousticness</th>\n",
       "      <th>instrumentalness</th>\n",
       "      <th>liveness</th>\n",
       "      <th>valence</th>\n",
       "      <th>tempo</th>\n",
       "      <th>time_signature</th>\n",
       "      <th>track_genre</th>\n",
       "    </tr>\n",
       "  </thead>\n",
       "  <tbody>\n",
       "    <tr>\n",
       "      <th>0</th>\n",
       "      <td>0</td>\n",
       "      <td>Gen Hoshino</td>\n",
       "      <td>Comedy</td>\n",
       "      <td>Comedy</td>\n",
       "      <td>73</td>\n",
       "      <td>230666</td>\n",
       "      <td>False</td>\n",
       "      <td>0.6760</td>\n",
       "      <td>0.4610</td>\n",
       "      <td>1</td>\n",
       "      <td>-6.746</td>\n",
       "      <td>0</td>\n",
       "      <td>0.1430</td>\n",
       "      <td>0.0322</td>\n",
       "      <td>0.000001</td>\n",
       "      <td>0.3580</td>\n",
       "      <td>0.7150</td>\n",
       "      <td>87.917</td>\n",
       "      <td>4</td>\n",
       "      <td>acoustic</td>\n",
       "    </tr>\n",
       "    <tr>\n",
       "      <th>1</th>\n",
       "      <td>1</td>\n",
       "      <td>Ben Woodward</td>\n",
       "      <td>Ghost (Acoustic)</td>\n",
       "      <td>Ghost - Acoustic</td>\n",
       "      <td>55</td>\n",
       "      <td>149610</td>\n",
       "      <td>False</td>\n",
       "      <td>0.4200</td>\n",
       "      <td>0.1660</td>\n",
       "      <td>1</td>\n",
       "      <td>-17.235</td>\n",
       "      <td>1</td>\n",
       "      <td>0.0763</td>\n",
       "      <td>0.9240</td>\n",
       "      <td>0.000006</td>\n",
       "      <td>0.1010</td>\n",
       "      <td>0.2670</td>\n",
       "      <td>77.489</td>\n",
       "      <td>4</td>\n",
       "      <td>acoustic</td>\n",
       "    </tr>\n",
       "    <tr>\n",
       "      <th>2</th>\n",
       "      <td>2</td>\n",
       "      <td>Ingrid Michaelson;ZAYN</td>\n",
       "      <td>To Begin Again</td>\n",
       "      <td>To Begin Again</td>\n",
       "      <td>57</td>\n",
       "      <td>210826</td>\n",
       "      <td>False</td>\n",
       "      <td>0.4380</td>\n",
       "      <td>0.3590</td>\n",
       "      <td>0</td>\n",
       "      <td>-9.734</td>\n",
       "      <td>1</td>\n",
       "      <td>0.0557</td>\n",
       "      <td>0.2100</td>\n",
       "      <td>0.000000</td>\n",
       "      <td>0.1170</td>\n",
       "      <td>0.1200</td>\n",
       "      <td>76.332</td>\n",
       "      <td>4</td>\n",
       "      <td>acoustic</td>\n",
       "    </tr>\n",
       "    <tr>\n",
       "      <th>3</th>\n",
       "      <td>3</td>\n",
       "      <td>Kina Grannis</td>\n",
       "      <td>Crazy Rich Asians (Original Motion Picture Sou...</td>\n",
       "      <td>Can't Help Falling In Love</td>\n",
       "      <td>71</td>\n",
       "      <td>201933</td>\n",
       "      <td>False</td>\n",
       "      <td>0.2660</td>\n",
       "      <td>0.0596</td>\n",
       "      <td>0</td>\n",
       "      <td>-18.515</td>\n",
       "      <td>1</td>\n",
       "      <td>0.0363</td>\n",
       "      <td>0.9050</td>\n",
       "      <td>0.000071</td>\n",
       "      <td>0.1320</td>\n",
       "      <td>0.1430</td>\n",
       "      <td>181.740</td>\n",
       "      <td>3</td>\n",
       "      <td>acoustic</td>\n",
       "    </tr>\n",
       "    <tr>\n",
       "      <th>4</th>\n",
       "      <td>4</td>\n",
       "      <td>Chord Overstreet</td>\n",
       "      <td>Hold On</td>\n",
       "      <td>Hold On</td>\n",
       "      <td>82</td>\n",
       "      <td>198853</td>\n",
       "      <td>False</td>\n",
       "      <td>0.6180</td>\n",
       "      <td>0.4430</td>\n",
       "      <td>2</td>\n",
       "      <td>-9.681</td>\n",
       "      <td>1</td>\n",
       "      <td>0.0526</td>\n",
       "      <td>0.4690</td>\n",
       "      <td>0.000000</td>\n",
       "      <td>0.0829</td>\n",
       "      <td>0.1670</td>\n",
       "      <td>119.949</td>\n",
       "      <td>4</td>\n",
       "      <td>acoustic</td>\n",
       "    </tr>\n",
       "    <tr>\n",
       "      <th>...</th>\n",
       "      <td>...</td>\n",
       "      <td>...</td>\n",
       "      <td>...</td>\n",
       "      <td>...</td>\n",
       "      <td>...</td>\n",
       "      <td>...</td>\n",
       "      <td>...</td>\n",
       "      <td>...</td>\n",
       "      <td>...</td>\n",
       "      <td>...</td>\n",
       "      <td>...</td>\n",
       "      <td>...</td>\n",
       "      <td>...</td>\n",
       "      <td>...</td>\n",
       "      <td>...</td>\n",
       "      <td>...</td>\n",
       "      <td>...</td>\n",
       "      <td>...</td>\n",
       "      <td>...</td>\n",
       "      <td>...</td>\n",
       "    </tr>\n",
       "    <tr>\n",
       "      <th>4995</th>\n",
       "      <td>4995</td>\n",
       "      <td>Ludovico Einaudi</td>\n",
       "      <td>Elements (Deluxe)</td>\n",
       "      <td>Drop</td>\n",
       "      <td>49</td>\n",
       "      <td>300293</td>\n",
       "      <td>False</td>\n",
       "      <td>0.4650</td>\n",
       "      <td>0.0342</td>\n",
       "      <td>2</td>\n",
       "      <td>-28.257</td>\n",
       "      <td>0</td>\n",
       "      <td>0.0401</td>\n",
       "      <td>0.9920</td>\n",
       "      <td>0.939000</td>\n",
       "      <td>0.1030</td>\n",
       "      <td>0.0590</td>\n",
       "      <td>152.054</td>\n",
       "      <td>4</td>\n",
       "      <td>ambient</td>\n",
       "    </tr>\n",
       "    <tr>\n",
       "      <th>4996</th>\n",
       "      <td>4996</td>\n",
       "      <td>Air</td>\n",
       "      <td>Moon Safari</td>\n",
       "      <td>Kelly Watch the Stars</td>\n",
       "      <td>55</td>\n",
       "      <td>226293</td>\n",
       "      <td>False</td>\n",
       "      <td>0.5160</td>\n",
       "      <td>0.7430</td>\n",
       "      <td>2</td>\n",
       "      <td>-8.470</td>\n",
       "      <td>1</td>\n",
       "      <td>0.0292</td>\n",
       "      <td>0.2820</td>\n",
       "      <td>0.637000</td>\n",
       "      <td>0.1110</td>\n",
       "      <td>0.2260</td>\n",
       "      <td>109.837</td>\n",
       "      <td>4</td>\n",
       "      <td>ambient</td>\n",
       "    </tr>\n",
       "    <tr>\n",
       "      <th>4997</th>\n",
       "      <td>4997</td>\n",
       "      <td>Ludovico Einaudi</td>\n",
       "      <td>Islands - Essential Einaudi</td>\n",
       "      <td>Passagio</td>\n",
       "      <td>50</td>\n",
       "      <td>357773</td>\n",
       "      <td>False</td>\n",
       "      <td>0.2220</td>\n",
       "      <td>0.0200</td>\n",
       "      <td>9</td>\n",
       "      <td>-27.114</td>\n",
       "      <td>1</td>\n",
       "      <td>0.0464</td>\n",
       "      <td>0.9950</td>\n",
       "      <td>0.948000</td>\n",
       "      <td>0.0945</td>\n",
       "      <td>0.1190</td>\n",
       "      <td>85.860</td>\n",
       "      <td>4</td>\n",
       "      <td>ambient</td>\n",
       "    </tr>\n",
       "    <tr>\n",
       "      <th>4998</th>\n",
       "      <td>4998</td>\n",
       "      <td>Liquid Mind</td>\n",
       "      <td>Liquid Mind II: Slow World</td>\n",
       "      <td>Blue Seven</td>\n",
       "      <td>24</td>\n",
       "      <td>760053</td>\n",
       "      <td>False</td>\n",
       "      <td>0.0576</td>\n",
       "      <td>0.1690</td>\n",
       "      <td>10</td>\n",
       "      <td>-20.216</td>\n",
       "      <td>1</td>\n",
       "      <td>0.0484</td>\n",
       "      <td>0.9030</td>\n",
       "      <td>0.966000</td>\n",
       "      <td>0.1170</td>\n",
       "      <td>0.0310</td>\n",
       "      <td>50.838</td>\n",
       "      <td>4</td>\n",
       "      <td>ambient</td>\n",
       "    </tr>\n",
       "    <tr>\n",
       "      <th>4999</th>\n",
       "      <td>4999</td>\n",
       "      <td>Liquid Mind</td>\n",
       "      <td>Liquid Mind XI: Deep Sleep</td>\n",
       "      <td>Deep Sleep, Pt. 1</td>\n",
       "      <td>26</td>\n",
       "      <td>368226</td>\n",
       "      <td>False</td>\n",
       "      <td>0.1560</td>\n",
       "      <td>0.1260</td>\n",
       "      <td>0</td>\n",
       "      <td>-22.038</td>\n",
       "      <td>1</td>\n",
       "      <td>0.0389</td>\n",
       "      <td>0.9650</td>\n",
       "      <td>0.972000</td>\n",
       "      <td>0.1060</td>\n",
       "      <td>0.0341</td>\n",
       "      <td>74.775</td>\n",
       "      <td>4</td>\n",
       "      <td>ambient</td>\n",
       "    </tr>\n",
       "  </tbody>\n",
       "</table>\n",
       "<p>4398 rows × 20 columns</p>\n",
       "</div>"
      ],
      "text/plain": [
       "      songNumber                 artists  \\\n",
       "0              0             Gen Hoshino   \n",
       "1              1            Ben Woodward   \n",
       "2              2  Ingrid Michaelson;ZAYN   \n",
       "3              3            Kina Grannis   \n",
       "4              4        Chord Overstreet   \n",
       "...          ...                     ...   \n",
       "4995        4995        Ludovico Einaudi   \n",
       "4996        4996                     Air   \n",
       "4997        4997        Ludovico Einaudi   \n",
       "4998        4998             Liquid Mind   \n",
       "4999        4999             Liquid Mind   \n",
       "\n",
       "                                             album_name  \\\n",
       "0                                                Comedy   \n",
       "1                                      Ghost (Acoustic)   \n",
       "2                                        To Begin Again   \n",
       "3     Crazy Rich Asians (Original Motion Picture Sou...   \n",
       "4                                               Hold On   \n",
       "...                                                 ...   \n",
       "4995                                  Elements (Deluxe)   \n",
       "4996                                        Moon Safari   \n",
       "4997                        Islands - Essential Einaudi   \n",
       "4998                         Liquid Mind II: Slow World   \n",
       "4999                         Liquid Mind XI: Deep Sleep   \n",
       "\n",
       "                      track_name  popularity  duration  explicit  \\\n",
       "0                         Comedy          73    230666     False   \n",
       "1               Ghost - Acoustic          55    149610     False   \n",
       "2                 To Begin Again          57    210826     False   \n",
       "3     Can't Help Falling In Love          71    201933     False   \n",
       "4                        Hold On          82    198853     False   \n",
       "...                          ...         ...       ...       ...   \n",
       "4995                        Drop          49    300293     False   \n",
       "4996       Kelly Watch the Stars          55    226293     False   \n",
       "4997                    Passagio          50    357773     False   \n",
       "4998                  Blue Seven          24    760053     False   \n",
       "4999           Deep Sleep, Pt. 1          26    368226     False   \n",
       "\n",
       "      danceability  energy  key  loudness  mode  speechiness  acousticness  \\\n",
       "0           0.6760  0.4610    1    -6.746     0       0.1430        0.0322   \n",
       "1           0.4200  0.1660    1   -17.235     1       0.0763        0.9240   \n",
       "2           0.4380  0.3590    0    -9.734     1       0.0557        0.2100   \n",
       "3           0.2660  0.0596    0   -18.515     1       0.0363        0.9050   \n",
       "4           0.6180  0.4430    2    -9.681     1       0.0526        0.4690   \n",
       "...            ...     ...  ...       ...   ...          ...           ...   \n",
       "4995        0.4650  0.0342    2   -28.257     0       0.0401        0.9920   \n",
       "4996        0.5160  0.7430    2    -8.470     1       0.0292        0.2820   \n",
       "4997        0.2220  0.0200    9   -27.114     1       0.0464        0.9950   \n",
       "4998        0.0576  0.1690   10   -20.216     1       0.0484        0.9030   \n",
       "4999        0.1560  0.1260    0   -22.038     1       0.0389        0.9650   \n",
       "\n",
       "      instrumentalness  liveness  valence    tempo  time_signature track_genre  \n",
       "0             0.000001    0.3580   0.7150   87.917               4    acoustic  \n",
       "1             0.000006    0.1010   0.2670   77.489               4    acoustic  \n",
       "2             0.000000    0.1170   0.1200   76.332               4    acoustic  \n",
       "3             0.000071    0.1320   0.1430  181.740               3    acoustic  \n",
       "4             0.000000    0.0829   0.1670  119.949               4    acoustic  \n",
       "...                ...       ...      ...      ...             ...         ...  \n",
       "4995          0.939000    0.1030   0.0590  152.054               4     ambient  \n",
       "4996          0.637000    0.1110   0.2260  109.837               4     ambient  \n",
       "4997          0.948000    0.0945   0.1190   85.860               4     ambient  \n",
       "4998          0.966000    0.1170   0.0310   50.838               4     ambient  \n",
       "4999          0.972000    0.1060   0.0341   74.775               4     ambient  \n",
       "\n",
       "[4398 rows x 20 columns]"
      ]
     },
     "execution_count": 80,
     "metadata": {},
     "output_type": "execute_result"
    }
   ],
   "source": [
    "df_songs"
   ]
  },
  {
   "cell_type": "code",
   "execution_count": 9,
   "id": "9597067e-cab2-48dc-beae-45e9ed0b517a",
   "metadata": {},
   "outputs": [
    {
     "data": {
      "text/plain": [
       "1    2787\n",
       "0    1611\n",
       "Name: mode, dtype: int64"
      ]
     },
     "execution_count": 9,
     "metadata": {},
     "output_type": "execute_result"
    }
   ],
   "source": [
    "df_songs['mode'].value_counts() # Seems to be distributed decently well. Will use the variable."
   ]
  },
  {
   "cell_type": "code",
   "execution_count": 10,
   "id": "a5975007-0b55-4e8f-86e1-41dfd1b48906",
   "metadata": {},
   "outputs": [
    {
     "data": {
      "text/plain": [
       "4    3758\n",
       "3     496\n",
       "5      85\n",
       "1      55\n",
       "0       4\n",
       "Name: time_signature, dtype: int64"
      ]
     },
     "execution_count": 10,
     "metadata": {},
     "output_type": "execute_result"
    }
   ],
   "source": [
    "df_songs['time_signature'].value_counts() # Most are in the 4 time signature, will not use the variable."
   ]
  },
  {
   "cell_type": "code",
   "execution_count": 11,
   "id": "6accd67d-4df2-49fc-954e-5f9757f749ba",
   "metadata": {},
   "outputs": [
    {
     "data": {
      "text/plain": [
       "False    4140\n",
       "True      258\n",
       "Name: explicit, dtype: int64"
      ]
     },
     "execution_count": 11,
     "metadata": {},
     "output_type": "execute_result"
    }
   ],
   "source": [
    "df_songs['explicit'].value_counts() # Will include the variable out of the theory that explicit listeners exist."
   ]
  },
  {
   "cell_type": "markdown",
   "id": "1c2465da-a5c1-4e81-a373-4005e373bf30",
   "metadata": {},
   "source": [
    "## Approach\n",
    "Create a model that predicts y := rating given to song for each predicted user.\n",
    "For a user, run all 5000 models, get predicted ratings, and order for the top 10 songs.\n",
    "\n",
    "## Data\n",
    "\n",
    "We will do a 90/10 split. The 10 is a holdout set of users to evaluate our model on.\n",
    "\n",
    "For the other 90, do a 80/20 split for CV/hyperparameter search.\n",
    "\n",
    "## Feature Engineering\n",
    "\n",
    "Since we are training a model per song, we only need per-user features. All of the features will be calculated for the user, without taking into account anything regarding the song being evaluated. Therefore, there will be 5000 feature engineering processes.\n",
    "\n",
    "Features:\n",
    "- User average rating (average rating the user gives across all songs).\n",
    "- Weighted average var rating (average of var, weighted by the songs' given rating). Across the variables:\n",
    "    - Popularity\n",
    "    - Duration\n",
    "    - Danceability\n",
    "    - Energy\n",
    "    - Loudness\n",
    "    - Speechiness\n",
    "    - Acousticness\n",
    "    - Instrumentalness\n",
    "    - Liveness\n",
    "    - Valence\n",
    "    - Tempo\n",
    "- For each genre in track_genre:\n",
    "    - genre_listen_perc (of the ratings, how many are of this genre).\n",
    "- For each mode in mode:\n",
    "    - mode_listen_perc (of the ratings, how many are of thise mode).\n",
    "- Explicit hearing % (of the ratings, how many of the songs are explicit)."
   ]
  },
  {
   "cell_type": "code",
   "execution_count": 12,
   "id": "d497223c-b7ef-4158-9444-1d5aaa20539b",
   "metadata": {},
   "outputs": [],
   "source": [
    "def generate_user_features(user_number):\n",
    "    \"\"\"\n",
    "    Generates a user's features. Assumes that the effect of the song to predict for is negligible next to the other songs.\n",
    "    \"\"\"\n",
    "    \n",
    "    features = {}\n",
    "    features['average_rating'] = df_stars.loc[user_number].mean()\n",
    "    \n",
    "    user_weights = df_stars.loc[user_number].fillna(0)\n",
    "\n",
    "    # Generate weighted numeric variables\n",
    "    for col in ['popularity', 'duration', 'danceability', 'energy',\n",
    "              'loudness', 'speechiness', 'acousticness', 'instrumentalness',\n",
    "              'liveness', 'valence', 'tempo']:\n",
    "        features[f\"{col}_weighted\"] = np.average(df_songs[col], weights=user_weights)\n",
    "\n",
    "    usr_song_idx = list(df_stars.columns[~df_stars.loc[user_number].isna()])\n",
    "    df_usr_songs = df_songs.loc[usr_song_idx]\n",
    "    \n",
    "    features['explicit_percentage'] = df_usr_songs['explicit'].sum()/len(df_usr_songs)\n",
    "\n",
    "    # Generate categorical variable percentage values\n",
    "    for col in ['track_genre', 'mode']:\n",
    "        for value in df_songs[col].unique():\n",
    "            features[f'{col}_{value}'] = (df_usr_songs[col] == value).sum()/len(df_usr_songs)\n",
    "            \n",
    "    return features"
   ]
  },
  {
   "cell_type": "code",
   "execution_count": 13,
   "id": "ded12155-6654-4e4a-b97e-9d9017bd1c13",
   "metadata": {},
   "outputs": [
    {
     "name": "stderr",
     "output_type": "stream",
     "text": [
      "100%|██████████| 10000/10000 [00:18<00:00, 541.99it/s]\n"
     ]
    }
   ],
   "source": [
    "user_features = [generate_user_features(i) for i in tqdm(range(len(df_stars)))]\n",
    "df_features = pd.DataFrame(user_features)"
   ]
  },
  {
   "cell_type": "code",
   "execution_count": 14,
   "id": "4f034595-1201-4bfb-b95e-8ce24ffd5d27",
   "metadata": {},
   "outputs": [
    {
     "data": {
      "text/html": [
       "<div>\n",
       "<style scoped>\n",
       "    .dataframe tbody tr th:only-of-type {\n",
       "        vertical-align: middle;\n",
       "    }\n",
       "\n",
       "    .dataframe tbody tr th {\n",
       "        vertical-align: top;\n",
       "    }\n",
       "\n",
       "    .dataframe thead th {\n",
       "        text-align: right;\n",
       "    }\n",
       "</style>\n",
       "<table border=\"1\" class=\"dataframe\">\n",
       "  <thead>\n",
       "    <tr style=\"text-align: right;\">\n",
       "      <th></th>\n",
       "      <th>average_rating</th>\n",
       "      <th>popularity_weighted</th>\n",
       "      <th>duration_weighted</th>\n",
       "      <th>danceability_weighted</th>\n",
       "      <th>energy_weighted</th>\n",
       "      <th>loudness_weighted</th>\n",
       "      <th>speechiness_weighted</th>\n",
       "      <th>acousticness_weighted</th>\n",
       "      <th>instrumentalness_weighted</th>\n",
       "      <th>liveness_weighted</th>\n",
       "      <th>valence_weighted</th>\n",
       "      <th>tempo_weighted</th>\n",
       "      <th>explicit_percentage</th>\n",
       "      <th>track_genre_acoustic</th>\n",
       "      <th>track_genre_afrobeat</th>\n",
       "      <th>track_genre_alt-rock</th>\n",
       "      <th>track_genre_alternative</th>\n",
       "      <th>track_genre_ambient</th>\n",
       "      <th>mode_0</th>\n",
       "      <th>mode_1</th>\n",
       "    </tr>\n",
       "  </thead>\n",
       "  <tbody>\n",
       "    <tr>\n",
       "      <th>0</th>\n",
       "      <td>1.543340</td>\n",
       "      <td>40.698630</td>\n",
       "      <td>231069.716438</td>\n",
       "      <td>0.562410</td>\n",
       "      <td>0.651177</td>\n",
       "      <td>-7.087533</td>\n",
       "      <td>0.058111</td>\n",
       "      <td>0.299797</td>\n",
       "      <td>0.135337</td>\n",
       "      <td>0.187617</td>\n",
       "      <td>0.488604</td>\n",
       "      <td>119.734399</td>\n",
       "      <td>0.057082</td>\n",
       "      <td>0.241015</td>\n",
       "      <td>0.224101</td>\n",
       "      <td>0.177590</td>\n",
       "      <td>0.152220</td>\n",
       "      <td>0.205074</td>\n",
       "      <td>0.395349</td>\n",
       "      <td>0.604651</td>\n",
       "    </tr>\n",
       "    <tr>\n",
       "      <th>1</th>\n",
       "      <td>2.371703</td>\n",
       "      <td>39.143579</td>\n",
       "      <td>237093.957533</td>\n",
       "      <td>0.535555</td>\n",
       "      <td>0.584662</td>\n",
       "      <td>-8.855089</td>\n",
       "      <td>0.060762</td>\n",
       "      <td>0.362109</td>\n",
       "      <td>0.152014</td>\n",
       "      <td>0.181933</td>\n",
       "      <td>0.456189</td>\n",
       "      <td>120.695888</td>\n",
       "      <td>0.057554</td>\n",
       "      <td>0.196643</td>\n",
       "      <td>0.232614</td>\n",
       "      <td>0.182254</td>\n",
       "      <td>0.143885</td>\n",
       "      <td>0.244604</td>\n",
       "      <td>0.369305</td>\n",
       "      <td>0.630695</td>\n",
       "    </tr>\n",
       "    <tr>\n",
       "      <th>2</th>\n",
       "      <td>2.676399</td>\n",
       "      <td>39.098182</td>\n",
       "      <td>230664.930000</td>\n",
       "      <td>0.541894</td>\n",
       "      <td>0.570573</td>\n",
       "      <td>-9.433720</td>\n",
       "      <td>0.064987</td>\n",
       "      <td>0.395050</td>\n",
       "      <td>0.194156</td>\n",
       "      <td>0.183515</td>\n",
       "      <td>0.481872</td>\n",
       "      <td>118.809024</td>\n",
       "      <td>0.063260</td>\n",
       "      <td>0.270073</td>\n",
       "      <td>0.272506</td>\n",
       "      <td>0.163017</td>\n",
       "      <td>0.121655</td>\n",
       "      <td>0.172749</td>\n",
       "      <td>0.328467</td>\n",
       "      <td>0.671533</td>\n",
       "    </tr>\n",
       "    <tr>\n",
       "      <th>3</th>\n",
       "      <td>2.073913</td>\n",
       "      <td>39.197065</td>\n",
       "      <td>228971.525157</td>\n",
       "      <td>0.540004</td>\n",
       "      <td>0.582653</td>\n",
       "      <td>-8.516239</td>\n",
       "      <td>0.062756</td>\n",
       "      <td>0.377842</td>\n",
       "      <td>0.173686</td>\n",
       "      <td>0.173280</td>\n",
       "      <td>0.452065</td>\n",
       "      <td>119.830908</td>\n",
       "      <td>0.050000</td>\n",
       "      <td>0.195652</td>\n",
       "      <td>0.239130</td>\n",
       "      <td>0.180435</td>\n",
       "      <td>0.147826</td>\n",
       "      <td>0.236957</td>\n",
       "      <td>0.345652</td>\n",
       "      <td>0.654348</td>\n",
       "    </tr>\n",
       "    <tr>\n",
       "      <th>4</th>\n",
       "      <td>2.786070</td>\n",
       "      <td>39.333036</td>\n",
       "      <td>224320.919643</td>\n",
       "      <td>0.523871</td>\n",
       "      <td>0.538657</td>\n",
       "      <td>-10.108101</td>\n",
       "      <td>0.056915</td>\n",
       "      <td>0.436177</td>\n",
       "      <td>0.238713</td>\n",
       "      <td>0.180454</td>\n",
       "      <td>0.444525</td>\n",
       "      <td>119.836990</td>\n",
       "      <td>0.047264</td>\n",
       "      <td>0.241294</td>\n",
       "      <td>0.221393</td>\n",
       "      <td>0.161692</td>\n",
       "      <td>0.129353</td>\n",
       "      <td>0.246269</td>\n",
       "      <td>0.355721</td>\n",
       "      <td>0.644279</td>\n",
       "    </tr>\n",
       "    <tr>\n",
       "      <th>...</th>\n",
       "      <td>...</td>\n",
       "      <td>...</td>\n",
       "      <td>...</td>\n",
       "      <td>...</td>\n",
       "      <td>...</td>\n",
       "      <td>...</td>\n",
       "      <td>...</td>\n",
       "      <td>...</td>\n",
       "      <td>...</td>\n",
       "      <td>...</td>\n",
       "      <td>...</td>\n",
       "      <td>...</td>\n",
       "      <td>...</td>\n",
       "      <td>...</td>\n",
       "      <td>...</td>\n",
       "      <td>...</td>\n",
       "      <td>...</td>\n",
       "      <td>...</td>\n",
       "      <td>...</td>\n",
       "      <td>...</td>\n",
       "    </tr>\n",
       "    <tr>\n",
       "      <th>9995</th>\n",
       "      <td>0.851415</td>\n",
       "      <td>44.387812</td>\n",
       "      <td>240645.842105</td>\n",
       "      <td>0.568042</td>\n",
       "      <td>0.737590</td>\n",
       "      <td>-5.979740</td>\n",
       "      <td>0.061754</td>\n",
       "      <td>0.211304</td>\n",
       "      <td>0.083541</td>\n",
       "      <td>0.187216</td>\n",
       "      <td>0.536768</td>\n",
       "      <td>120.497834</td>\n",
       "      <td>0.058962</td>\n",
       "      <td>0.228774</td>\n",
       "      <td>0.242925</td>\n",
       "      <td>0.169811</td>\n",
       "      <td>0.134434</td>\n",
       "      <td>0.224057</td>\n",
       "      <td>0.372642</td>\n",
       "      <td>0.627358</td>\n",
       "    </tr>\n",
       "    <tr>\n",
       "      <th>9996</th>\n",
       "      <td>1.909314</td>\n",
       "      <td>39.101412</td>\n",
       "      <td>232200.403081</td>\n",
       "      <td>0.563964</td>\n",
       "      <td>0.609919</td>\n",
       "      <td>-7.919357</td>\n",
       "      <td>0.064315</td>\n",
       "      <td>0.356301</td>\n",
       "      <td>0.140584</td>\n",
       "      <td>0.177809</td>\n",
       "      <td>0.460350</td>\n",
       "      <td>121.798874</td>\n",
       "      <td>0.046569</td>\n",
       "      <td>0.250000</td>\n",
       "      <td>0.227941</td>\n",
       "      <td>0.188725</td>\n",
       "      <td>0.127451</td>\n",
       "      <td>0.205882</td>\n",
       "      <td>0.394608</td>\n",
       "      <td>0.605392</td>\n",
       "    </tr>\n",
       "    <tr>\n",
       "      <th>9997</th>\n",
       "      <td>2.759009</td>\n",
       "      <td>37.777143</td>\n",
       "      <td>233432.452245</td>\n",
       "      <td>0.535404</td>\n",
       "      <td>0.579235</td>\n",
       "      <td>-8.848654</td>\n",
       "      <td>0.054640</td>\n",
       "      <td>0.380913</td>\n",
       "      <td>0.176346</td>\n",
       "      <td>0.183903</td>\n",
       "      <td>0.461624</td>\n",
       "      <td>120.585586</td>\n",
       "      <td>0.049550</td>\n",
       "      <td>0.247748</td>\n",
       "      <td>0.180180</td>\n",
       "      <td>0.209459</td>\n",
       "      <td>0.139640</td>\n",
       "      <td>0.222973</td>\n",
       "      <td>0.378378</td>\n",
       "      <td>0.621622</td>\n",
       "    </tr>\n",
       "    <tr>\n",
       "      <th>9998</th>\n",
       "      <td>1.751678</td>\n",
       "      <td>40.072797</td>\n",
       "      <td>235228.315453</td>\n",
       "      <td>0.561215</td>\n",
       "      <td>0.645046</td>\n",
       "      <td>-7.459789</td>\n",
       "      <td>0.061860</td>\n",
       "      <td>0.295369</td>\n",
       "      <td>0.122682</td>\n",
       "      <td>0.194801</td>\n",
       "      <td>0.492854</td>\n",
       "      <td>118.876019</td>\n",
       "      <td>0.078300</td>\n",
       "      <td>0.248322</td>\n",
       "      <td>0.221477</td>\n",
       "      <td>0.158837</td>\n",
       "      <td>0.181208</td>\n",
       "      <td>0.190157</td>\n",
       "      <td>0.380313</td>\n",
       "      <td>0.619687</td>\n",
       "    </tr>\n",
       "    <tr>\n",
       "      <th>9999</th>\n",
       "      <td>2.351282</td>\n",
       "      <td>38.592148</td>\n",
       "      <td>233793.997819</td>\n",
       "      <td>0.544951</td>\n",
       "      <td>0.569246</td>\n",
       "      <td>-9.316963</td>\n",
       "      <td>0.059469</td>\n",
       "      <td>0.384817</td>\n",
       "      <td>0.199618</td>\n",
       "      <td>0.183308</td>\n",
       "      <td>0.475259</td>\n",
       "      <td>116.947689</td>\n",
       "      <td>0.046154</td>\n",
       "      <td>0.200000</td>\n",
       "      <td>0.246154</td>\n",
       "      <td>0.187179</td>\n",
       "      <td>0.143590</td>\n",
       "      <td>0.223077</td>\n",
       "      <td>0.369231</td>\n",
       "      <td>0.630769</td>\n",
       "    </tr>\n",
       "  </tbody>\n",
       "</table>\n",
       "<p>10000 rows × 20 columns</p>\n",
       "</div>"
      ],
      "text/plain": [
       "      average_rating  popularity_weighted  duration_weighted  \\\n",
       "0           1.543340            40.698630      231069.716438   \n",
       "1           2.371703            39.143579      237093.957533   \n",
       "2           2.676399            39.098182      230664.930000   \n",
       "3           2.073913            39.197065      228971.525157   \n",
       "4           2.786070            39.333036      224320.919643   \n",
       "...              ...                  ...                ...   \n",
       "9995        0.851415            44.387812      240645.842105   \n",
       "9996        1.909314            39.101412      232200.403081   \n",
       "9997        2.759009            37.777143      233432.452245   \n",
       "9998        1.751678            40.072797      235228.315453   \n",
       "9999        2.351282            38.592148      233793.997819   \n",
       "\n",
       "      danceability_weighted  energy_weighted  loudness_weighted  \\\n",
       "0                  0.562410         0.651177          -7.087533   \n",
       "1                  0.535555         0.584662          -8.855089   \n",
       "2                  0.541894         0.570573          -9.433720   \n",
       "3                  0.540004         0.582653          -8.516239   \n",
       "4                  0.523871         0.538657         -10.108101   \n",
       "...                     ...              ...                ...   \n",
       "9995               0.568042         0.737590          -5.979740   \n",
       "9996               0.563964         0.609919          -7.919357   \n",
       "9997               0.535404         0.579235          -8.848654   \n",
       "9998               0.561215         0.645046          -7.459789   \n",
       "9999               0.544951         0.569246          -9.316963   \n",
       "\n",
       "      speechiness_weighted  acousticness_weighted  instrumentalness_weighted  \\\n",
       "0                 0.058111               0.299797                   0.135337   \n",
       "1                 0.060762               0.362109                   0.152014   \n",
       "2                 0.064987               0.395050                   0.194156   \n",
       "3                 0.062756               0.377842                   0.173686   \n",
       "4                 0.056915               0.436177                   0.238713   \n",
       "...                    ...                    ...                        ...   \n",
       "9995              0.061754               0.211304                   0.083541   \n",
       "9996              0.064315               0.356301                   0.140584   \n",
       "9997              0.054640               0.380913                   0.176346   \n",
       "9998              0.061860               0.295369                   0.122682   \n",
       "9999              0.059469               0.384817                   0.199618   \n",
       "\n",
       "      liveness_weighted  valence_weighted  tempo_weighted  \\\n",
       "0              0.187617          0.488604      119.734399   \n",
       "1              0.181933          0.456189      120.695888   \n",
       "2              0.183515          0.481872      118.809024   \n",
       "3              0.173280          0.452065      119.830908   \n",
       "4              0.180454          0.444525      119.836990   \n",
       "...                 ...               ...             ...   \n",
       "9995           0.187216          0.536768      120.497834   \n",
       "9996           0.177809          0.460350      121.798874   \n",
       "9997           0.183903          0.461624      120.585586   \n",
       "9998           0.194801          0.492854      118.876019   \n",
       "9999           0.183308          0.475259      116.947689   \n",
       "\n",
       "      explicit_percentage  track_genre_acoustic  track_genre_afrobeat  \\\n",
       "0                0.057082              0.241015              0.224101   \n",
       "1                0.057554              0.196643              0.232614   \n",
       "2                0.063260              0.270073              0.272506   \n",
       "3                0.050000              0.195652              0.239130   \n",
       "4                0.047264              0.241294              0.221393   \n",
       "...                   ...                   ...                   ...   \n",
       "9995             0.058962              0.228774              0.242925   \n",
       "9996             0.046569              0.250000              0.227941   \n",
       "9997             0.049550              0.247748              0.180180   \n",
       "9998             0.078300              0.248322              0.221477   \n",
       "9999             0.046154              0.200000              0.246154   \n",
       "\n",
       "      track_genre_alt-rock  track_genre_alternative  track_genre_ambient  \\\n",
       "0                 0.177590                 0.152220             0.205074   \n",
       "1                 0.182254                 0.143885             0.244604   \n",
       "2                 0.163017                 0.121655             0.172749   \n",
       "3                 0.180435                 0.147826             0.236957   \n",
       "4                 0.161692                 0.129353             0.246269   \n",
       "...                    ...                      ...                  ...   \n",
       "9995              0.169811                 0.134434             0.224057   \n",
       "9996              0.188725                 0.127451             0.205882   \n",
       "9997              0.209459                 0.139640             0.222973   \n",
       "9998              0.158837                 0.181208             0.190157   \n",
       "9999              0.187179                 0.143590             0.223077   \n",
       "\n",
       "        mode_0    mode_1  \n",
       "0     0.395349  0.604651  \n",
       "1     0.369305  0.630695  \n",
       "2     0.328467  0.671533  \n",
       "3     0.345652  0.654348  \n",
       "4     0.355721  0.644279  \n",
       "...        ...       ...  \n",
       "9995  0.372642  0.627358  \n",
       "9996  0.394608  0.605392  \n",
       "9997  0.378378  0.621622  \n",
       "9998  0.380313  0.619687  \n",
       "9999  0.369231  0.630769  \n",
       "\n",
       "[10000 rows x 20 columns]"
      ]
     },
     "execution_count": 14,
     "metadata": {},
     "output_type": "execute_result"
    }
   ],
   "source": [
    "df_features"
   ]
  },
  {
   "cell_type": "code",
   "execution_count": 15,
   "id": "78d78e76-ca26-4fd8-83ec-00e2b1acb09a",
   "metadata": {},
   "outputs": [],
   "source": [
    "def generate_datasets(test_prop = 0.1, eval_prop = 0.2):\n",
    "    #First reserve 10% of all users, in order to evaluate the model.\n",
    "    all_user_ids = list(range(len(df_features)))\n",
    "    \n",
    "    #90/10 split\n",
    "    len_test_users = int(np.ceil(len(df_features) * test_prop))\n",
    "    test_users = np.random.choice(all_user_ids, size = len_test_users, replace = False)\n",
    "    non_test_users = [u for u in all_user_ids if u not in test_users]\n",
    "\n",
    "    #Generate the per-song datasets\n",
    "    song_train_idx = dict()\n",
    "    song_val_idx = dict()\n",
    "    \n",
    "    for s in tqdm(df_songs.songNumber):\n",
    "        #80/20 split over the users that rated the song, for users not in the test dataset.\n",
    "        song_users  = (df_stars[~df_stars[s].isna()]).index\n",
    "        non_test_song_users = list(set(song_users).intersection(set(non_test_users)))\n",
    "    \n",
    "        len_song_val_users = int(np.ceil(len(non_test_song_users) * eval_prop))\n",
    "        song_val_users = np.random.choice(non_test_song_users, size = len_song_val_users, replace = False)\n",
    "    \n",
    "        song_train_users = [u for u in non_test_song_users if u not in song_val_users]\n",
    "    \n",
    "        song_train_idx[s] = song_train_users\n",
    "        song_val_idx[s] = song_val_users\n",
    "\n",
    "    return test_users, song_train_idx, song_val_idx"
   ]
  },
  {
   "cell_type": "code",
   "execution_count": 16,
   "id": "7fd12c25-057b-407c-9b91-4f5ded30f1be",
   "metadata": {},
   "outputs": [
    {
     "name": "stdout",
     "output_type": "stream",
     "text": [
      "Loaded existing datasets.\n"
     ]
    }
   ],
   "source": [
    "try:\n",
    "    # Try to load the existing datasets\n",
    "    test_users = joblib.load(\"q10_test_users.pkl\")\n",
    "    song_train_idx = joblib.load(\"q10_song_train_idx.pkl\")\n",
    "    song_val_idx = joblib.load(\"q10_song_val_idx.pkl\")\n",
    "    print(\"Loaded existing datasets.\")\n",
    "except:\n",
    "    # If the file doesn't exist, create and save the models\n",
    "    print(\"Datasets not found. Generating...\")\n",
    "\n",
    "    test_users, song_train_idx, song_val_idx = generate_datasets()\n",
    "    # Save the datasets\n",
    "    joblib.dump(test_users, \"q10_test_users.pkl\")\n",
    "    joblib.dump(song_train_idx, \"q10_song_train_idx.pkl\")\n",
    "    joblib.dump(song_val_idx, \"q10_song_val_idx.pkl\")\n",
    "    print(\"Generated/saved datasets.\")"
   ]
  },
  {
   "cell_type": "markdown",
   "id": "f9e70dce-e964-47a5-9e6a-53166d454424",
   "metadata": {},
   "source": [
    "### Training loop"
   ]
  },
  {
   "cell_type": "markdown",
   "id": "60ae0228-b6d9-42df-919d-f9e5cafe3113",
   "metadata": {},
   "source": [
    "Lasso Regression to start."
   ]
  },
  {
   "cell_type": "code",
   "execution_count": 17,
   "id": "e1b1c0d0-9002-4bd3-bf79-c9ab4979385e",
   "metadata": {},
   "outputs": [],
   "source": [
    "import optuna\n",
    "import numpy as np\n",
    "from sklearn.linear_model import Lasso\n",
    "from sklearn.metrics import mean_squared_error\n",
    "from sklearn.pipeline import Pipeline\n",
    "from sklearn.preprocessing import StandardScaler\n",
    "\n",
    "sampler = optuna.samplers.TPESampler(seed=seed)  # Make the sampler behave in a deterministic way.\n",
    "\n",
    "optuna.logging.set_verbosity(optuna.logging.WARNING)"
   ]
  },
  {
   "cell_type": "code",
   "execution_count": 18,
   "id": "13ab1b80-e2d2-439d-9281-575d0b72a2c5",
   "metadata": {},
   "outputs": [],
   "source": [
    "def get_sample_weights(y_true):\n",
    "    return np.sqrt((y_true+2)/3)\n",
    "\n",
    "def weighted_mse(y_true, y_pred):\n",
    "    \"\"\"\n",
    "    Custom loss function that gives more weight to errors where the actual value is higher.\n",
    "    \"\"\"\n",
    "    # Calculate squared errors\n",
    "    squared_errors = (y_true - y_pred) ** 2\n",
    "    \n",
    "    # Weight errors by actual values\n",
    "    weighted_errors = squared_errors * get_sample_weights(y_true)\n",
    "    \n",
    "    # Return mean weighted error\n",
    "    return np.mean(weighted_errors)\n",
    "\n",
    "\n",
    "def get_pipeline(**kwargs):\n",
    "    return Pipeline([\n",
    "                ('scaler', StandardScaler()),\n",
    "                ('model', Lasso(**kwargs))\n",
    "            ])\n",
    "\n",
    "def train_song_model(song_number):\n",
    "\n",
    "    X_train = df_features.loc[song_train_idx[song_number]].values\n",
    "    y_train = df_stars[song_number].loc[song_train_idx[song_number]].values\n",
    "\n",
    "    X_val = df_features.loc[song_val_idx[song_number]].values\n",
    "    y_val = df_stars[song_number].loc[song_val_idx[song_number]].values\n",
    "    \n",
    "    sample_weights = get_sample_weights(y_train)\n",
    "    \n",
    "    def objective(trial):\n",
    "        params = dict()\n",
    "        params['alpha'] = trial.suggest_float(\"alpha\", 0.001, 3.0, log=True)\n",
    "        pipeline = get_pipeline(**params)\n",
    "        pipeline.fit(X_train, y_train, model__sample_weight = sample_weights)\n",
    "        y_pred = pipeline.predict(X_val)\n",
    "        wmse = weighted_mse(y_val, y_pred)\n",
    "        return wmse\n",
    "\n",
    "    # Create an Optuna study\n",
    "    study = optuna.create_study(direction=\"minimize\", sampler=sampler)\n",
    "    \n",
    "    # Optimize the Lasso hyperparameters\n",
    "    study.optimize(objective, n_trials=150)\n",
    "    \n",
    "    # Train the model with the best hyperparameters\n",
    "    pipeline = get_pipeline(**study.best_params)\n",
    "    pipeline.fit(X_train, y_train, model__sample_weight = sample_weights)\n",
    "    return pipeline"
   ]
  },
  {
   "cell_type": "code",
   "execution_count": 19,
   "id": "06b5a4a1-8d98-4dda-90a6-264755b82be9",
   "metadata": {},
   "outputs": [],
   "source": [
    "songs = df_songs.songNumber.values"
   ]
  },
  {
   "cell_type": "code",
   "execution_count": 20,
   "id": "5d5e58a1-16a2-4a67-aac4-a8d7d9da8661",
   "metadata": {},
   "outputs": [
    {
     "name": "stdout",
     "output_type": "stream",
     "text": [
      "Model dictionary not found. Training models...\n"
     ]
    },
    {
     "name": "stderr",
     "output_type": "stream",
     "text": [
      "100%|██████████| 4398/4398 [3:04:32<00:00,  2.52s/it]  \n"
     ]
    },
    {
     "name": "stdout",
     "output_type": "stream",
     "text": [
      "Trained models and saved model dictionary.\n"
     ]
    }
   ],
   "source": [
    "try:\n",
    "    # Try to load the existing model dictionary\n",
    "    song_models = joblib.load(\"q10_song_models.pkl\")\n",
    "    print(\"Loaded existing model dictionary.\")\n",
    "except:\n",
    "    # If the file doesn't exist, create and save the models\n",
    "    print(\"Model dictionary not found. Training models...\")\n",
    "\n",
    "    song_models = {s:train_song_model(s) for s in tqdm(songs)}\n",
    "    # Save the trained models\n",
    "    joblib.dump(song_models, \"q10_song_models.pkl\")\n",
    "    print(\"Trained models and saved model dictionary.\")"
   ]
  },
  {
   "cell_type": "markdown",
   "id": "f706ec5d-34bf-44bc-beba-d2c20d976400",
   "metadata": {},
   "source": [
    "# Model evaluation"
   ]
  },
  {
   "cell_type": "code",
   "execution_count": 21,
   "id": "361b7a2a-1695-47e1-8507-d108dac8824b",
   "metadata": {},
   "outputs": [],
   "source": [
    "def pred_user(usr_number):\n",
    "    \"\"\" Gives the real ranking (by rating), and the full prediction by preference of a single user.\"\"\"\n",
    "    X = df_features.loc[[usr_number]]\n",
    "    y = df_stars.loc[usr_number].fillna(0)\n",
    "    usr_ratings = df_stars.loc[usr_number]\n",
    "    listened = usr_ratings.dropna().index.tolist()\n",
    "    liked = usr_ratings[usr_ratings > 3].index.to_list()\n",
    "    y_pred = [(s, song_models[s].predict(X.values)[0]) for s in songs]\n",
    "    pred_order = [x[0] for x in sorted(y_pred, key=lambda x: x[1], reverse=True)]\n",
    "    real_order = list(y.sort_values(ascending=False).index)\n",
    "    return real_order, pred_order, listened, liked"
   ]
  },
  {
   "cell_type": "code",
   "execution_count": 22,
   "id": "6bf20a25-ee7b-4f43-b9f8-1730a26588ad",
   "metadata": {},
   "outputs": [
    {
     "name": "stderr",
     "output_type": "stream",
     "text": [
      "100%|██████████| 1000/1000 [03:25<00:00,  4.88it/s]\n"
     ]
    }
   ],
   "source": [
    "test_user_ratings = [pred_user(u) for u in tqdm(test_users)]"
   ]
  },
  {
   "cell_type": "markdown",
   "id": "94151376-2772-418e-8ff5-deca303153e4",
   "metadata": {},
   "source": [
    "How do these recommendations compare to the “greatest hits” from the previous question?"
   ]
  },
  {
   "cell_type": "code",
   "execution_count": 23,
   "id": "51b71579-e37c-4314-bd46-28600b24950a",
   "metadata": {},
   "outputs": [],
   "source": [
    "#From Q9, the average star rating based ranking\n",
    "avg_star_rating_order = joblib.load('q9_avg_star_rating.pkl')"
   ]
  },
  {
   "cell_type": "code",
   "execution_count": 24,
   "id": "d0c58c3a-8f90-4587-9986-41be46ceb94c",
   "metadata": {},
   "outputs": [],
   "source": [
    "#Will use Jaccard similarity to measure how similar the users' top 10 lists are when compared to the popularity-based model.\n",
    "\n",
    "def jaccard(set1, set2):\n",
    "    set1 = set(set1)\n",
    "    set2 = set(set2)\n",
    "    # intersection of two sets\n",
    "    intersection = len(set1.intersection(set2))\n",
    "    # Unions of two sets\n",
    "    union = len(set1.union(set2))\n",
    "     \n",
    "    return intersection / union"
   ]
  },
  {
   "cell_type": "code",
   "execution_count": 25,
   "id": "57460910-5581-464b-b125-95c2d6387115",
   "metadata": {},
   "outputs": [
    {
     "name": "stderr",
     "output_type": "stream",
     "text": [
      "100%|██████████| 1000/1000 [02:50<00:00,  5.86it/s]\n"
     ]
    }
   ],
   "source": [
    "# Using Jaccard similarity to check how similar our predictions are to the popularity model's\n",
    "similarities = [jaccard([x for x in r[1] if x not in r[2]][:10],\n",
    "                        [x for x in avg_star_rating_order if x not in r[2]][:10])\n",
    "                for r in tqdm(test_user_ratings)\n",
    "               ]"
   ]
  },
  {
   "cell_type": "code",
   "execution_count": 26,
   "id": "306286e0-db1e-4bf2-9140-383c1b534891",
   "metadata": {},
   "outputs": [
    {
     "data": {
      "image/png": "[encoded data removed]",
      "text/plain": [
       "<Figure size 432x288 with 1 Axes>"
      ]
     },
     "metadata": {
      "needs_background": "light"
     },
     "output_type": "display_data"
    }
   ],
   "source": [
    "data_sorted = sorted(similarities)\n",
    "\n",
    "# Calculating the cumulative frequency\n",
    "cumulative_frequency = np.linspace(0., 1., len(similarities))\n",
    "\n",
    "# Creating the plot\n",
    "sns.lineplot(x=data_sorted, y=cumulative_frequency)\n",
    "plt.xlabel('Jaccard Similarity Predicted 10/Top 10 Popularity')\n",
    "plt.ylabel('Cumulative Frequency')\n",
    "plt.title('Cumulative Frequency Curve')\n",
    "\n",
    "# Show the plot\n",
    "plt.show()"
   ]
  },
  {
   "cell_type": "code",
   "execution_count": 27,
   "id": "5da9c6b0-164f-47d0-bce9-92ee47e0bdb0",
   "metadata": {},
   "outputs": [
    {
     "data": {
      "text/plain": [
       "0.47174216675996866"
      ]
     },
     "execution_count": 27,
     "metadata": {},
     "output_type": "execute_result"
    }
   ],
   "source": [
    "np.mean(similarities)"
   ]
  },
  {
   "cell_type": "code",
   "execution_count": 28,
   "id": "27395b6a",
   "metadata": {},
   "outputs": [
    {
     "data": {
      "text/plain": [
       "0.5384615384615384"
      ]
     },
     "execution_count": 28,
     "metadata": {},
     "output_type": "execute_result"
    }
   ],
   "source": [
    "np.median(similarities)"
   ]
  },
  {
   "cell_type": "markdown",
   "id": "4991d0ac-d487-403d-ad4e-01404f60f111",
   "metadata": {},
   "source": [
    "How good is your recommender system in making recommendations?"
   ]
  },
  {
   "cell_type": "code",
   "execution_count": 29,
   "id": "2aa76895-7d9f-44f3-97c2-afc76c15463f",
   "metadata": {},
   "outputs": [],
   "source": [
    "#Using average precision @k to evaluate\n",
    "def average_precision(ground_truth, prediction, k=100):\n",
    "    hits = 0\n",
    "    sum_precisions = 0\n",
    "    ground_truth = ground_truth#[:k]\n",
    "    prediction = prediction[:k]\n",
    "    for i, p in enumerate(prediction):\n",
    "        if p in ground_truth:\n",
    "            hits += 1\n",
    "            precision_at_i = hits / (i + 1)\n",
    "            sum_precisions += precision_at_i\n",
    "\n",
    "    return sum_precisions / k"
   ]
  },
  {
   "cell_type": "markdown",
   "id": "d87200b5-d89d-4156-8a61-56ff9fd0e2d5",
   "metadata": {},
   "source": [
    "## K = 10"
   ]
  },
  {
   "cell_type": "code",
   "execution_count": 83,
   "id": "335845a3-7f1e-432b-b2f2-fd570e6bc36e",
   "metadata": {},
   "outputs": [],
   "source": [
    "at_k = 10"
   ]
  },
  {
   "cell_type": "code",
   "execution_count": 127,
   "id": "48ceff0b-b772-4633-a123-8fd7933124ce",
   "metadata": {},
   "outputs": [],
   "source": [
    "pred_average_precisions = []\n",
    "pop_average_precisions = []\n",
    "\n",
    "for real, pred, listened, liked in test_user_ratings:\n",
    "    pred_average_precisions.append(average_precision(liked, pred, k=at_k))\n",
    "    pop_average_precisions.append(average_precision(liked, avg_star_rating_order, k=at_k))\n"
   ]
  },
  {
   "cell_type": "markdown",
   "id": "af32356e-9a72-40f6-94e2-f39e7c4277dc",
   "metadata": {},
   "source": [
    "### Our model"
   ]
  },
  {
   "cell_type": "code",
   "execution_count": 128,
   "id": "56b23678-b0d9-4f63-a636-c908ae3806bf",
   "metadata": {},
   "outputs": [
    {
     "data": {
      "text/plain": [
       "Text(0.5, 1.0, 'Histogram of Mean Average Precision @10 (ML Model)')"
      ]
     },
     "execution_count": 128,
     "metadata": {},
     "output_type": "execute_result"
    },
    {
     "data": {
      "image/png": "[encoded data removed]",
      "text/plain": [
       "<Figure size 432x288 with 1 Axes>"
      ]
     },
     "metadata": {
      "needs_background": "light"
     },
     "output_type": "display_data"
    }
   ],
   "source": [
    "sns.histplot(pred_average_precisions)\n",
    "plt.xlabel(f'Mean Average Precision @{at_k}')\n",
    "plt.ylabel('frequency')\n",
    "plt.title(f'Histogram of Mean Average Precision @{at_k} (ML Model)')"
   ]
  },
  {
   "cell_type": "code",
   "execution_count": 129,
   "id": "2bb8033b-4673-4aa3-b938-b29a4d702402",
   "metadata": {},
   "outputs": [
    {
     "data": {
      "text/plain": [
       "0.02801535714285714"
      ]
     },
     "execution_count": 129,
     "metadata": {},
     "output_type": "execute_result"
    }
   ],
   "source": [
    "np.mean(pred_average_precisions)"
   ]
  },
  {
   "cell_type": "code",
   "execution_count": 130,
   "id": "f6a65233-b13d-4ca1-8c5b-df76096a90ab",
   "metadata": {},
   "outputs": [
    {
     "data": {
      "text/plain": [
       "0.0125"
      ]
     },
     "execution_count": 130,
     "metadata": {},
     "output_type": "execute_result"
    }
   ],
   "source": [
    "np.median(pred_average_precisions)"
   ]
  },
  {
   "cell_type": "markdown",
   "id": "3dfa60c3-0da2-4bcd-80fd-fef32f2bcfa0",
   "metadata": {},
   "source": [
    "### Popularity-based model"
   ]
  },
  {
   "cell_type": "code",
   "execution_count": 131,
   "id": "5ec182c5-84f6-40eb-a153-1dfae7ee865a",
   "metadata": {},
   "outputs": [
    {
     "data": {
      "text/plain": [
       "Text(0.5, 1.0, 'Histogram of Mean Average Precision @10 (Popularity Model)')"
      ]
     },
     "execution_count": 131,
     "metadata": {},
     "output_type": "execute_result"
    },
    {
     "data": {
      "image/png": "[encoded data removed]",
      "text/plain": [
       "<Figure size 432x288 with 1 Axes>"
      ]
     },
     "metadata": {
      "needs_background": "light"
     },
     "output_type": "display_data"
    }
   ],
   "source": [
    "sns.histplot(pop_average_precisions)\n",
    "plt.xlabel(f'Mean Average Precision @{at_k}')\n",
    "plt.ylabel('frequency')\n",
    "plt.title(f'Histogram of Mean Average Precision @{at_k} (Popularity Model)')"
   ]
  },
  {
   "cell_type": "code",
   "execution_count": 132,
   "id": "75df361d-13e7-400c-bcf0-356f4d59c22a",
   "metadata": {},
   "outputs": [
    {
     "data": {
      "text/plain": [
       "0.029461547619047616"
      ]
     },
     "execution_count": 132,
     "metadata": {},
     "output_type": "execute_result"
    }
   ],
   "source": [
    "np.mean(pop_average_precisions)"
   ]
  },
  {
   "cell_type": "code",
   "execution_count": 133,
   "id": "266cb1c4-91a8-4ebc-adc6-dfa521c88631",
   "metadata": {
    "scrolled": true
   },
   "outputs": [
    {
     "data": {
      "text/plain": [
       "0.0125"
      ]
     },
     "execution_count": 133,
     "metadata": {},
     "output_type": "execute_result"
    }
   ],
   "source": [
    "np.median(pop_average_precisions)"
   ]
  },
  {
   "cell_type": "markdown",
   "id": "4144e2ed",
   "metadata": {},
   "source": [
    "## K = 20"
   ]
  },
  {
   "cell_type": "code",
   "execution_count": 38,
   "id": "053225d9",
   "metadata": {},
   "outputs": [],
   "source": [
    "at_k = 20"
   ]
  },
  {
   "cell_type": "code",
   "execution_count": 39,
   "id": "21aa9931",
   "metadata": {},
   "outputs": [],
   "source": [
    "pred_average_precisions = []\n",
    "pop_average_precisions = []\n",
    "\n",
    "for real, pred, listened, liked in test_user_ratings:\n",
    "    pred_average_precisions.append(average_precision(liked, pred, k=at_k))\n",
    "    pop_average_precisions.append(average_precision(liked, avg_star_rating_order, k=at_k))\n"
   ]
  },
  {
   "cell_type": "markdown",
   "id": "5987701a",
   "metadata": {},
   "source": [
    "### Our model"
   ]
  },
  {
   "cell_type": "code",
   "execution_count": 40,
   "id": "09abf2c3",
   "metadata": {},
   "outputs": [
    {
     "data": {
      "text/plain": [
       "Text(0.5, 1.0, 'Histogram of Mean Average Precision @20 (ML Model)')"
      ]
     },
     "execution_count": 40,
     "metadata": {},
     "output_type": "execute_result"
    },
    {
     "data": {
      "image/png": "[encoded data removed]",
      "text/plain": [
       "<Figure size 432x288 with 1 Axes>"
      ]
     },
     "metadata": {
      "needs_background": "light"
     },
     "output_type": "display_data"
    }
   ],
   "source": [
    "sns.histplot(pred_average_precisions)\n",
    "plt.xlabel(f'Mean Average Precision @{at_k}')\n",
    "plt.ylabel('frequency')\n",
    "plt.title(f'Histogram of Mean Average Precision @{at_k} (ML Model)')"
   ]
  },
  {
   "cell_type": "code",
   "execution_count": 41,
   "id": "54eae53e",
   "metadata": {},
   "outputs": [
    {
     "data": {
      "text/plain": [
       "0.019339218985349012"
      ]
     },
     "execution_count": 41,
     "metadata": {},
     "output_type": "execute_result"
    }
   ],
   "source": [
    "np.mean(pred_average_precisions)"
   ]
  },
  {
   "cell_type": "code",
   "execution_count": 42,
   "id": "6c3ce613",
   "metadata": {},
   "outputs": [
    {
     "data": {
      "text/plain": [
       "0.010098581973581974"
      ]
     },
     "execution_count": 42,
     "metadata": {},
     "output_type": "execute_result"
    }
   ],
   "source": [
    "np.median(pred_average_precisions)"
   ]
  },
  {
   "cell_type": "markdown",
   "id": "b9d3527a",
   "metadata": {},
   "source": [
    "### Popularity-based model"
   ]
  },
  {
   "cell_type": "code",
   "execution_count": 43,
   "id": "38346847",
   "metadata": {},
   "outputs": [
    {
     "data": {
      "text/plain": [
       "Text(0.5, 1.0, 'Histogram of Mean Average Precision @20 (Popularity Model)')"
      ]
     },
     "execution_count": 43,
     "metadata": {},
     "output_type": "execute_result"
    },
    {
     "data": {
      "image/png": "[encoded data removed]",
      "text/plain": [
       "<Figure size 432x288 with 1 Axes>"
      ]
     },
     "metadata": {
      "needs_background": "light"
     },
     "output_type": "display_data"
    }
   ],
   "source": [
    "sns.histplot(pop_average_precisions)\n",
    "plt.xlabel(f'Mean Average Precision @{at_k}')\n",
    "plt.ylabel('frequency')\n",
    "plt.title(f'Histogram of Mean Average Precision @{at_k} (Popularity Model)')"
   ]
  },
  {
   "cell_type": "code",
   "execution_count": 44,
   "id": "eee6fff7",
   "metadata": {},
   "outputs": [
    {
     "data": {
      "text/plain": [
       "0.019652443269879413"
      ]
     },
     "execution_count": 44,
     "metadata": {},
     "output_type": "execute_result"
    }
   ],
   "source": [
    "np.mean(pop_average_precisions)"
   ]
  },
  {
   "cell_type": "code",
   "execution_count": 45,
   "id": "a1498625",
   "metadata": {
    "scrolled": true
   },
   "outputs": [
    {
     "data": {
      "text/plain": [
       "0.01"
      ]
     },
     "execution_count": 45,
     "metadata": {},
     "output_type": "execute_result"
    }
   ],
   "source": [
    "np.median(pop_average_precisions)"
   ]
  },
  {
   "cell_type": "markdown",
   "id": "97a2156a",
   "metadata": {},
   "source": [
    "## K = 50"
   ]
  },
  {
   "cell_type": "code",
   "execution_count": 46,
   "id": "cbff7477",
   "metadata": {},
   "outputs": [],
   "source": [
    "at_k = 50"
   ]
  },
  {
   "cell_type": "code",
   "execution_count": 47,
   "id": "7a8f50a0",
   "metadata": {},
   "outputs": [],
   "source": [
    "pred_average_precisions = []\n",
    "pop_average_precisions = []\n",
    "\n",
    "for real, pred, listened, liked in test_user_ratings:\n",
    "    pred_average_precisions.append(average_precision(liked, pred, k=at_k))\n",
    "    pop_average_precisions.append(average_precision(liked, avg_star_rating_order, k=at_k))\n"
   ]
  },
  {
   "cell_type": "markdown",
   "id": "488b6cc6",
   "metadata": {},
   "source": [
    "### Our model"
   ]
  },
  {
   "cell_type": "code",
   "execution_count": 48,
   "id": "5ec01f40",
   "metadata": {},
   "outputs": [
    {
     "data": {
      "text/plain": [
       "Text(0.5, 1.0, 'Histogram of Mean Average Precision @50 (ML Model)')"
      ]
     },
     "execution_count": 48,
     "metadata": {},
     "output_type": "execute_result"
    },
    {
     "data": {
      "image/png": "[encoded data removed]",
      "text/plain": [
       "<Figure size 432x288 with 1 Axes>"
      ]
     },
     "metadata": {
      "needs_background": "light"
     },
     "output_type": "display_data"
    }
   ],
   "source": [
    "sns.histplot(pred_average_precisions)\n",
    "plt.xlabel(f'Mean Average Precision @{at_k}')\n",
    "plt.ylabel('frequency')\n",
    "plt.title(f'Histogram of Mean Average Precision @{at_k} (ML Model)')"
   ]
  },
  {
   "cell_type": "code",
   "execution_count": 49,
   "id": "acc801d2",
   "metadata": {},
   "outputs": [
    {
     "data": {
      "text/plain": [
       "0.011715304290472116"
      ]
     },
     "execution_count": 49,
     "metadata": {},
     "output_type": "execute_result"
    }
   ],
   "source": [
    "np.mean(pred_average_precisions)"
   ]
  },
  {
   "cell_type": "code",
   "execution_count": 50,
   "id": "d59478e2",
   "metadata": {},
   "outputs": [
    {
     "data": {
      "text/plain": [
       "0.007877691811734366"
      ]
     },
     "execution_count": 50,
     "metadata": {},
     "output_type": "execute_result"
    }
   ],
   "source": [
    "np.median(pred_average_precisions)"
   ]
  },
  {
   "cell_type": "markdown",
   "id": "968a1ccc",
   "metadata": {},
   "source": [
    "### Popularity-based model"
   ]
  },
  {
   "cell_type": "code",
   "execution_count": 51,
   "id": "773ff64f",
   "metadata": {},
   "outputs": [
    {
     "data": {
      "text/plain": [
       "Text(0.5, 1.0, 'Histogram of Mean Average Precision @50 (Popularity Model)')"
      ]
     },
     "execution_count": 51,
     "metadata": {},
     "output_type": "execute_result"
    },
    {
     "data": {
      "image/png": "[encoded data removed]",
      "text/plain": [
       "<Figure size 432x288 with 1 Axes>"
      ]
     },
     "metadata": {
      "needs_background": "light"
     },
     "output_type": "display_data"
    }
   ],
   "source": [
    "sns.histplot(pop_average_precisions)\n",
    "plt.xlabel(f'Mean Average Precision @{at_k}')\n",
    "plt.ylabel('frequency')\n",
    "plt.title(f'Histogram of Mean Average Precision @{at_k} (Popularity Model)')"
   ]
  },
  {
   "cell_type": "code",
   "execution_count": 52,
   "id": "11fc4bd7",
   "metadata": {},
   "outputs": [
    {
     "data": {
      "text/plain": [
       "0.011814903517910794"
      ]
     },
     "execution_count": 52,
     "metadata": {},
     "output_type": "execute_result"
    }
   ],
   "source": [
    "np.mean(pop_average_precisions)"
   ]
  },
  {
   "cell_type": "code",
   "execution_count": 53,
   "id": "8b369206",
   "metadata": {
    "scrolled": true
   },
   "outputs": [
    {
     "data": {
      "text/plain": [
       "0.007983946085990994"
      ]
     },
     "execution_count": 53,
     "metadata": {},
     "output_type": "execute_result"
    }
   ],
   "source": [
    "np.median(pop_average_precisions)"
   ]
  },
  {
   "cell_type": "markdown",
   "id": "22ad92c5",
   "metadata": {},
   "source": [
    "## K = 100"
   ]
  },
  {
   "cell_type": "code",
   "execution_count": 54,
   "id": "b07c5cff",
   "metadata": {},
   "outputs": [],
   "source": [
    "at_k = 100"
   ]
  },
  {
   "cell_type": "code",
   "execution_count": 55,
   "id": "32b80116",
   "metadata": {},
   "outputs": [],
   "source": [
    "pred_average_precisions = []\n",
    "pop_average_precisions = []\n",
    "\n",
    "for real, pred, listened, liked in test_user_ratings:\n",
    "    pred_average_precisions.append(average_precision(liked, pred, k=at_k))\n",
    "    pop_average_precisions.append(average_precision(liked, avg_star_rating_order, k=at_k))\n"
   ]
  },
  {
   "cell_type": "markdown",
   "id": "74e7b336",
   "metadata": {},
   "source": [
    "### Our model"
   ]
  },
  {
   "cell_type": "code",
   "execution_count": 56,
   "id": "8b7e6057",
   "metadata": {},
   "outputs": [
    {
     "data": {
      "text/plain": [
       "Text(0.5, 1.0, 'Histogram of Mean Average Precision @100 (ML Model)')"
      ]
     },
     "execution_count": 56,
     "metadata": {},
     "output_type": "execute_result"
    },
    {
     "data": {
      "image/png": "[encoded data removed]",
      "text/plain": [
       "<Figure size 432x288 with 1 Axes>"
      ]
     },
     "metadata": {
      "needs_background": "light"
     },
     "output_type": "display_data"
    }
   ],
   "source": [
    "sns.histplot(pred_average_precisions)\n",
    "plt.xlabel(f'Mean Average Precision @{at_k}')\n",
    "plt.ylabel('frequency')\n",
    "plt.title(f'Histogram of Mean Average Precision @{at_k} (ML Model)')"
   ]
  },
  {
   "cell_type": "code",
   "execution_count": 57,
   "id": "8f48464b",
   "metadata": {},
   "outputs": [
    {
     "data": {
      "text/plain": [
       "0.008478569638130843"
      ]
     },
     "execution_count": 57,
     "metadata": {},
     "output_type": "execute_result"
    }
   ],
   "source": [
    "np.mean(pred_average_precisions)"
   ]
  },
  {
   "cell_type": "code",
   "execution_count": 58,
   "id": "92438e6f",
   "metadata": {},
   "outputs": [
    {
     "data": {
      "text/plain": [
       "0.006638970748650627"
      ]
     },
     "execution_count": 58,
     "metadata": {},
     "output_type": "execute_result"
    }
   ],
   "source": [
    "np.median(pred_average_precisions)"
   ]
  },
  {
   "cell_type": "markdown",
   "id": "39d6b804",
   "metadata": {},
   "source": [
    "### Popularity-based model"
   ]
  },
  {
   "cell_type": "code",
   "execution_count": 59,
   "id": "9327efc4",
   "metadata": {},
   "outputs": [
    {
     "data": {
      "text/plain": [
       "Text(0.5, 1.0, 'Histogram of Mean Average Precision @100 (Popularity Model)')"
      ]
     },
     "execution_count": 59,
     "metadata": {},
     "output_type": "execute_result"
    },
    {
     "data": {
      "image/png": "[encoded data removed]",
      "text/plain": [
       "<Figure size 432x288 with 1 Axes>"
      ]
     },
     "metadata": {
      "needs_background": "light"
     },
     "output_type": "display_data"
    }
   ],
   "source": [
    "sns.histplot(pop_average_precisions)\n",
    "plt.xlabel(f'Mean Average Precision @{at_k}')\n",
    "plt.ylabel('frequency')\n",
    "plt.title(f'Histogram of Mean Average Precision @{at_k} (Popularity Model)')"
   ]
  },
  {
   "cell_type": "code",
   "execution_count": 60,
   "id": "37dcf022",
   "metadata": {},
   "outputs": [
    {
     "data": {
      "text/plain": [
       "0.008495571195227229"
      ]
     },
     "execution_count": 60,
     "metadata": {},
     "output_type": "execute_result"
    }
   ],
   "source": [
    "np.mean(pop_average_precisions)"
   ]
  },
  {
   "cell_type": "code",
   "execution_count": 61,
   "id": "defc6a94",
   "metadata": {
    "scrolled": true
   },
   "outputs": [
    {
     "data": {
      "text/plain": [
       "0.006645962013315746"
      ]
     },
     "execution_count": 61,
     "metadata": {},
     "output_type": "execute_result"
    }
   ],
   "source": [
    "np.median(pop_average_precisions)"
   ]
  },
  {
   "cell_type": "markdown",
   "id": "e407d475",
   "metadata": {},
   "source": [
    "## K = 200"
   ]
  },
  {
   "cell_type": "code",
   "execution_count": 62,
   "id": "868e532a",
   "metadata": {},
   "outputs": [],
   "source": [
    "at_k = 200"
   ]
  },
  {
   "cell_type": "code",
   "execution_count": 63,
   "id": "76c80804",
   "metadata": {},
   "outputs": [],
   "source": [
    "pred_average_precisions = []\n",
    "pop_average_precisions = []\n",
    "\n",
    "for real, pred, listened, liked in test_user_ratings:\n",
    "    pred_average_precisions.append(average_precision(liked, pred, k=at_k))\n",
    "    pop_average_precisions.append(average_precision(liked, avg_star_rating_order, k=at_k))\n"
   ]
  },
  {
   "cell_type": "markdown",
   "id": "dcd5532c",
   "metadata": {},
   "source": [
    "### Our model"
   ]
  },
  {
   "cell_type": "code",
   "execution_count": 64,
   "id": "d3b6bd5d",
   "metadata": {},
   "outputs": [
    {
     "data": {
      "text/plain": [
       "Text(0.5, 1.0, 'Histogram of Mean Average Precision @200 (ML Model)')"
      ]
     },
     "execution_count": 64,
     "metadata": {},
     "output_type": "execute_result"
    },
    {
     "data": {
      "image/png": "[encoded data removed]",
      "text/plain": [
       "<Figure size 432x288 with 1 Axes>"
      ]
     },
     "metadata": {
      "needs_background": "light"
     },
     "output_type": "display_data"
    }
   ],
   "source": [
    "sns.histplot(pred_average_precisions)\n",
    "plt.xlabel(f'Mean Average Precision @{at_k}')\n",
    "plt.ylabel('frequency')\n",
    "plt.title(f'Histogram of Mean Average Precision @{at_k} (ML Model)')"
   ]
  },
  {
   "cell_type": "code",
   "execution_count": 65,
   "id": "d83ea9e3",
   "metadata": {},
   "outputs": [
    {
     "data": {
      "text/plain": [
       "0.0062681532189157105"
      ]
     },
     "execution_count": 65,
     "metadata": {},
     "output_type": "execute_result"
    }
   ],
   "source": [
    "np.mean(pred_average_precisions)"
   ]
  },
  {
   "cell_type": "code",
   "execution_count": 66,
   "id": "f8c420fe",
   "metadata": {},
   "outputs": [
    {
     "data": {
      "text/plain": [
       "0.005282630646564106"
      ]
     },
     "execution_count": 66,
     "metadata": {},
     "output_type": "execute_result"
    }
   ],
   "source": [
    "np.median(pred_average_precisions)"
   ]
  },
  {
   "cell_type": "markdown",
   "id": "abf785be",
   "metadata": {},
   "source": [
    "### Popularity-based model"
   ]
  },
  {
   "cell_type": "code",
   "execution_count": 67,
   "id": "3bf4219c",
   "metadata": {},
   "outputs": [
    {
     "data": {
      "text/plain": [
       "Text(0.5, 1.0, 'Histogram of Mean Average Precision @200 (Popularity Model)')"
      ]
     },
     "execution_count": 67,
     "metadata": {},
     "output_type": "execute_result"
    },
    {
     "data": {
      "image/png": "[encoded data removed]",
      "text/plain": [
       "<Figure size 432x288 with 1 Axes>"
      ]
     },
     "metadata": {
      "needs_background": "light"
     },
     "output_type": "display_data"
    }
   ],
   "source": [
    "sns.histplot(pop_average_precisions)\n",
    "plt.xlabel(f'Mean Average Precision @{at_k}')\n",
    "plt.ylabel('frequency')\n",
    "plt.title(f'Histogram of Mean Average Precision @{at_k} (Popularity Model)')"
   ]
  },
  {
   "cell_type": "code",
   "execution_count": 68,
   "id": "ebd65529",
   "metadata": {},
   "outputs": [
    {
     "data": {
      "text/plain": [
       "0.006304672912636617"
      ]
     },
     "execution_count": 68,
     "metadata": {},
     "output_type": "execute_result"
    }
   ],
   "source": [
    "np.mean(pop_average_precisions)"
   ]
  },
  {
   "cell_type": "code",
   "execution_count": 69,
   "id": "281d08c2",
   "metadata": {
    "scrolled": true
   },
   "outputs": [
    {
     "data": {
      "text/plain": [
       "0.005288095131910897"
      ]
     },
     "execution_count": 69,
     "metadata": {},
     "output_type": "execute_result"
    }
   ],
   "source": [
    "np.median(pop_average_precisions)"
   ]
  }
 ],
 "metadata": {
  "kernelspec": {
   "display_name": "Python 3",
   "language": "python",
   "name": "python3"
  },
  "language_info": {
   "codemirror_mode": {
    "name": "ipython",
    "version": 3
   },
   "file_extension": ".py",
   "mimetype": "text/x-python",
   "name": "python",
   "nbconvert_exporter": "python",
   "pygments_lexer": "ipython3",
   "version": "3.8.12"
  }
 },
 "nbformat": 4,
 "nbformat_minor": 5
}
